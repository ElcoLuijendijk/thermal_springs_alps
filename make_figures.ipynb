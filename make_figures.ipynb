{
 "cells": [
  {
   "cell_type": "markdown",
   "metadata": {},
   "source": [
    "# Make figures for manuscript on thermal springs & heat flow in the Alps"
   ]
  },
  {
   "cell_type": "markdown",
   "metadata": {},
   "source": [
    "## Import modules"
   ]
  },
  {
   "cell_type": "code",
   "execution_count": 1,
   "metadata": {},
   "outputs": [],
   "source": [
    "import string\n",
    "import numpy as np\n",
    "import pandas as pd\n",
    "import matplotlib.pyplot as pl\n",
    "import matplotlib.patches\n",
    "\n",
    "import lib.various_functions as vf"
   ]
  },
  {
   "cell_type": "markdown",
   "metadata": {},
   "source": [
    "## Variables:"
   ]
  },
  {
   "cell_type": "code",
   "execution_count": 2,
   "metadata": {},
   "outputs": [],
   "source": [
    "fn = 'data/thermal_springs_alps_with_HF_estimates.csv'\n",
    "\n",
    "temp_bins = np.arange(0, 90, 5.0)\n",
    "log_Q_bins = np.arange(-6, 1, 0.25)\n",
    "\n",
    "temp_label = u'Spring temperature (°C)'\n",
    "log_Q_label = r'Log discharge ($m^3 s^{-1}$)'\n",
    "\n",
    "leg_fs = 'small'\n",
    "\n",
    "gr = 1.618033"
   ]
  },
  {
   "cell_type": "code",
   "execution_count": 3,
   "metadata": {},
   "outputs": [],
   "source": [
    "pl.rcParams['mathtext.default'] = 'regular'"
   ]
  },
  {
   "cell_type": "markdown",
   "metadata": {},
   "source": [
    "## Read thermal spring data"
   ]
  },
  {
   "cell_type": "code",
   "execution_count": 4,
   "metadata": {},
   "outputs": [
    {
     "data": {
      "text/html": [
       "<div>\n",
       "<style scoped>\n",
       "    .dataframe tbody tr th:only-of-type {\n",
       "        vertical-align: middle;\n",
       "    }\n",
       "\n",
       "    .dataframe tbody tr th {\n",
       "        vertical-align: top;\n",
       "    }\n",
       "\n",
       "    .dataframe thead th {\n",
       "        text-align: right;\n",
       "    }\n",
       "</style>\n",
       "<table border=\"1\" class=\"dataframe\">\n",
       "  <thead>\n",
       "    <tr style=\"text-align: right;\">\n",
       "      <th></th>\n",
       "      <th>spring number</th>\n",
       "      <th>spring location</th>\n",
       "      <th>spring name</th>\n",
       "      <th>long</th>\n",
       "      <th>lat</th>\n",
       "      <th>type</th>\n",
       "      <th>well_depth</th>\n",
       "      <th>flow_rate_mean</th>\n",
       "      <th>flow_rate_min</th>\n",
       "      <th>flow_rate_max</th>\n",
       "      <th>...</th>\n",
       "      <th>thermal_footprint_down_best</th>\n",
       "      <th>thermal_radius_down_best</th>\n",
       "      <th>thermal_footprint_down_max</th>\n",
       "      <th>thermal_radius_down_max</th>\n",
       "      <th>thermal_footprint_up_min</th>\n",
       "      <th>thermal_radius_up_min</th>\n",
       "      <th>thermal_footprint_up_best</th>\n",
       "      <th>thermal_radius_up_best</th>\n",
       "      <th>thermal_footprint_up_max</th>\n",
       "      <th>thermal_radius_up_max</th>\n",
       "    </tr>\n",
       "  </thead>\n",
       "  <tbody>\n",
       "    <tr>\n",
       "      <th>0</th>\n",
       "      <td>20</td>\n",
       "      <td>Euganei (Euganean geothermal area - Battaglia ...</td>\n",
       "      <td>Fonte Le Bibite</td>\n",
       "      <td>11.778856</td>\n",
       "      <td>45.284444</td>\n",
       "      <td>spring</td>\n",
       "      <td>NaN</td>\n",
       "      <td>NaN</td>\n",
       "      <td>NaN</td>\n",
       "      <td>NaN</td>\n",
       "      <td>...</td>\n",
       "      <td>NaN</td>\n",
       "      <td>NaN</td>\n",
       "      <td>NaN</td>\n",
       "      <td>NaN</td>\n",
       "      <td>NaN</td>\n",
       "      <td>NaN</td>\n",
       "      <td>NaN</td>\n",
       "      <td>NaN</td>\n",
       "      <td>NaN</td>\n",
       "      <td>NaN</td>\n",
       "    </tr>\n",
       "    <tr>\n",
       "      <th>1</th>\n",
       "      <td>31</td>\n",
       "      <td>Euganei (Euganean geothermal area - Cinto Euga...</td>\n",
       "      <td>Bagno Nord</td>\n",
       "      <td>11.649967</td>\n",
       "      <td>45.286944</td>\n",
       "      <td>spring</td>\n",
       "      <td>NaN</td>\n",
       "      <td>NaN</td>\n",
       "      <td>NaN</td>\n",
       "      <td>NaN</td>\n",
       "      <td>...</td>\n",
       "      <td>NaN</td>\n",
       "      <td>NaN</td>\n",
       "      <td>NaN</td>\n",
       "      <td>NaN</td>\n",
       "      <td>NaN</td>\n",
       "      <td>NaN</td>\n",
       "      <td>NaN</td>\n",
       "      <td>NaN</td>\n",
       "      <td>NaN</td>\n",
       "      <td>NaN</td>\n",
       "    </tr>\n",
       "    <tr>\n",
       "      <th>2</th>\n",
       "      <td>32</td>\n",
       "      <td>Euganei (Euganean geothermal area - Cinto Euga...</td>\n",
       "      <td>Bagno Sud</td>\n",
       "      <td>11.648300</td>\n",
       "      <td>45.285000</td>\n",
       "      <td>spring</td>\n",
       "      <td>NaN</td>\n",
       "      <td>NaN</td>\n",
       "      <td>NaN</td>\n",
       "      <td>NaN</td>\n",
       "      <td>...</td>\n",
       "      <td>NaN</td>\n",
       "      <td>NaN</td>\n",
       "      <td>NaN</td>\n",
       "      <td>NaN</td>\n",
       "      <td>NaN</td>\n",
       "      <td>NaN</td>\n",
       "      <td>NaN</td>\n",
       "      <td>NaN</td>\n",
       "      <td>NaN</td>\n",
       "      <td>NaN</td>\n",
       "    </tr>\n",
       "    <tr>\n",
       "      <th>3</th>\n",
       "      <td>33</td>\n",
       "      <td>Euganei (Euganean geothermal area - Cinto Euga...</td>\n",
       "      <td>Fattorelle</td>\n",
       "      <td>11.645522</td>\n",
       "      <td>45.295833</td>\n",
       "      <td>spring</td>\n",
       "      <td>NaN</td>\n",
       "      <td>NaN</td>\n",
       "      <td>NaN</td>\n",
       "      <td>NaN</td>\n",
       "      <td>...</td>\n",
       "      <td>NaN</td>\n",
       "      <td>NaN</td>\n",
       "      <td>NaN</td>\n",
       "      <td>NaN</td>\n",
       "      <td>NaN</td>\n",
       "      <td>NaN</td>\n",
       "      <td>NaN</td>\n",
       "      <td>NaN</td>\n",
       "      <td>NaN</td>\n",
       "      <td>NaN</td>\n",
       "    </tr>\n",
       "    <tr>\n",
       "      <th>4</th>\n",
       "      <td>45</td>\n",
       "      <td>Acqui (comment Jacek: general area?)</td>\n",
       "      <td>23</td>\n",
       "      <td>8.453005</td>\n",
       "      <td>44.691677</td>\n",
       "      <td>springs and shallow wells</td>\n",
       "      <td>NaN</td>\n",
       "      <td>0.0162</td>\n",
       "      <td>NaN</td>\n",
       "      <td>NaN</td>\n",
       "      <td>...</td>\n",
       "      <td>NaN</td>\n",
       "      <td>NaN</td>\n",
       "      <td>NaN</td>\n",
       "      <td>NaN</td>\n",
       "      <td>NaN</td>\n",
       "      <td>NaN</td>\n",
       "      <td>NaN</td>\n",
       "      <td>NaN</td>\n",
       "      <td>NaN</td>\n",
       "      <td>NaN</td>\n",
       "    </tr>\n",
       "  </tbody>\n",
       "</table>\n",
       "<p>5 rows × 152 columns</p>\n",
       "</div>"
      ],
      "text/plain": [
       "   spring number                                    spring location  \\\n",
       "0             20  Euganei (Euganean geothermal area - Battaglia ...   \n",
       "1             31  Euganei (Euganean geothermal area - Cinto Euga...   \n",
       "2             32  Euganei (Euganean geothermal area - Cinto Euga...   \n",
       "3             33  Euganei (Euganean geothermal area - Cinto Euga...   \n",
       "4             45               Acqui (comment Jacek: general area?)   \n",
       "\n",
       "       spring name       long        lat                       type  \\\n",
       "0  Fonte Le Bibite  11.778856  45.284444                     spring   \n",
       "1       Bagno Nord  11.649967  45.286944                     spring   \n",
       "2        Bagno Sud  11.648300  45.285000                     spring   \n",
       "3       Fattorelle  11.645522  45.295833                     spring   \n",
       "4               23   8.453005  44.691677  springs and shallow wells   \n",
       "\n",
       "   well_depth  flow_rate_mean  flow_rate_min  flow_rate_max  ...  \\\n",
       "0         NaN             NaN            NaN            NaN  ...   \n",
       "1         NaN             NaN            NaN            NaN  ...   \n",
       "2         NaN             NaN            NaN            NaN  ...   \n",
       "3         NaN             NaN            NaN            NaN  ...   \n",
       "4         NaN          0.0162            NaN            NaN  ...   \n",
       "\n",
       "   thermal_footprint_down_best  thermal_radius_down_best  \\\n",
       "0                          NaN                       NaN   \n",
       "1                          NaN                       NaN   \n",
       "2                          NaN                       NaN   \n",
       "3                          NaN                       NaN   \n",
       "4                          NaN                       NaN   \n",
       "\n",
       "   thermal_footprint_down_max  thermal_radius_down_max  \\\n",
       "0                         NaN                      NaN   \n",
       "1                         NaN                      NaN   \n",
       "2                         NaN                      NaN   \n",
       "3                         NaN                      NaN   \n",
       "4                         NaN                      NaN   \n",
       "\n",
       "   thermal_footprint_up_min  thermal_radius_up_min  thermal_footprint_up_best  \\\n",
       "0                       NaN                    NaN                        NaN   \n",
       "1                       NaN                    NaN                        NaN   \n",
       "2                       NaN                    NaN                        NaN   \n",
       "3                       NaN                    NaN                        NaN   \n",
       "4                       NaN                    NaN                        NaN   \n",
       "\n",
       "   thermal_radius_up_best  thermal_footprint_up_max  thermal_radius_up_max  \n",
       "0                     NaN                       NaN                    NaN  \n",
       "1                     NaN                       NaN                    NaN  \n",
       "2                     NaN                       NaN                    NaN  \n",
       "3                     NaN                       NaN                    NaN  \n",
       "4                     NaN                       NaN                    NaN  \n",
       "\n",
       "[5 rows x 152 columns]"
      ]
     },
     "execution_count": 4,
     "metadata": {},
     "output_type": "execute_result"
    }
   ],
   "source": [
    "df = pd.read_csv(fn)\n",
    "df.head()"
   ]
  },
  {
   "cell_type": "markdown",
   "metadata": {},
   "source": [
    "## Remove springs with 0 flow rate"
   ]
  },
  {
   "cell_type": "code",
   "execution_count": 5,
   "metadata": {},
   "outputs": [],
   "source": [
    "ind = df['flow_rate'] == 0.0\n",
    "df.loc[ind, 'flow_rate'] = np.nan"
   ]
  },
  {
   "cell_type": "markdown",
   "metadata": {},
   "source": [
    "## Some statistics on what type of data are included in the db"
   ]
  },
  {
   "cell_type": "code",
   "execution_count": 6,
   "metadata": {},
   "outputs": [
    {
     "data": {
      "text/html": [
       "<div>\n",
       "<style scoped>\n",
       "    .dataframe tbody tr th:only-of-type {\n",
       "        vertical-align: middle;\n",
       "    }\n",
       "\n",
       "    .dataframe tbody tr th {\n",
       "        vertical-align: top;\n",
       "    }\n",
       "\n",
       "    .dataframe thead th {\n",
       "        text-align: right;\n",
       "    }\n",
       "</style>\n",
       "<table border=\"1\" class=\"dataframe\">\n",
       "  <thead>\n",
       "    <tr style=\"text-align: right;\">\n",
       "      <th></th>\n",
       "      <th>number of springs</th>\n",
       "    </tr>\n",
       "  </thead>\n",
       "  <tbody>\n",
       "    <tr>\n",
       "      <th>total</th>\n",
       "      <td>394</td>\n",
       "    </tr>\n",
       "    <tr>\n",
       "      <th>temperature</th>\n",
       "      <td>364</td>\n",
       "    </tr>\n",
       "    <tr>\n",
       "      <th>discharge</th>\n",
       "      <td>241</td>\n",
       "    </tr>\n",
       "    <tr>\n",
       "      <th>temperature and discharge</th>\n",
       "      <td>226</td>\n",
       "    </tr>\n",
       "    <tr>\n",
       "      <th>temperature or discharge</th>\n",
       "      <td>379</td>\n",
       "    </tr>\n",
       "    <tr>\n",
       "      <th>SiO2</th>\n",
       "      <td>136</td>\n",
       "    </tr>\n",
       "    <tr>\n",
       "      <th>delta_18O</th>\n",
       "      <td>127</td>\n",
       "    </tr>\n",
       "    <tr>\n",
       "      <th>delta_2H</th>\n",
       "      <td>115</td>\n",
       "    </tr>\n",
       "  </tbody>\n",
       "</table>\n",
       "</div>"
      ],
      "text/plain": [
       "                          number of springs\n",
       "total                                   394\n",
       "temperature                             364\n",
       "discharge                               241\n",
       "temperature and discharge               226\n",
       "temperature or discharge                379\n",
       "SiO2                                    136\n",
       "delta_18O                               127\n",
       "delta_2H                                115"
      ]
     },
     "execution_count": 6,
     "metadata": {},
     "output_type": "execute_result"
    }
   ],
   "source": [
    "cols = ['number of springs']\n",
    "index = ['temperature', 'flow_rate', ['temperature', 'flow_rate'], ['temperature', 'flow_rate'], 'SiO2', 'delta_18O', 'delta_2H']\n",
    "ix_labels = ['temperature', 'discharge', 'temperature and discharge', 'temperature or discharge', 'SiO2', 'delta_18O', 'delta_2H']\n",
    "\n",
    "methods = ['any', 'any', 'any', 'all', 'any', 'any', 'any']\n",
    "\n",
    "dfs = pd.DataFrame(columns=cols, index=['total'] + ix_labels)\n",
    "\n",
    "for ix, ixl, m in zip(index, ix_labels, methods):\n",
    "    #if type(ix) = str:\n",
    "    dfs.loc[ixl, 'number of springs'] = len(df[ix].dropna(how=m))\n",
    "    #else:\n",
    "\n",
    "dfs.loc['total', 'number of springs'] = len(df)\n",
    "    \n",
    "dfs"
   ]
  },
  {
   "cell_type": "markdown",
   "metadata": {},
   "source": [
    "## Figure comparing temp and discharge for natural springs and shallow wells"
   ]
  },
  {
   "cell_type": "code",
   "execution_count": 9,
   "metadata": {},
   "outputs": [
    {
     "data": {
      "image/png": "[encoded data removed]",
      "text/plain": [
       "<Figure size 432x288 with 4 Axes>"
      ]
     },
     "metadata": {
      "needs_background": "light"
     },
     "output_type": "display_data"
    }
   ],
   "source": [
    "indw = df['type'] == 'well'\n",
    "\n",
    "ds = [df.loc[indw==False, 'temp_mean'].dropna(), \n",
    "      df.loc[indw==False, 'log_flow_rate'].dropna(),\n",
    "      df.loc[indw, 'temp_mean'].dropna(),\n",
    "      df.loc[indw, 'log_flow_rate'].dropna()\n",
    "      ]\n",
    "\n",
    "bins = [temp_bins, log_Q_bins, \n",
    "        temp_bins, log_Q_bins]\n",
    "\n",
    "fig, axs = pl.subplots(2, 2)\n",
    "axs = axs.ravel()\n",
    "\n",
    "for ax, d, b in zip(axs, ds, bins):\n",
    "    ax.hist(d, bins=b, facecolor='gray')\n",
    "    tekst = 'n=%i' % (len(d))\n",
    "    ax.text(0.99, 0.99, tekst, ha='right', va='top', transform=ax.transAxes)\n",
    "\n",
    "axs[2].set_xlabel(temp_label)\n",
    "axs[3].set_xlabel(log_Q_label)\n",
    "\n",
    "axs[0].set_ylabel('Number of springs')\n",
    "axs[2].set_ylabel('Number of springs')\n",
    "\n",
    "axs[0].set_title('Natural springs')\n",
    "axs[1].set_title('Natural springs')\n",
    "\n",
    "axs[2].set_title('Springs tapped\\nby shallow wells')\n",
    "axs[3].set_title('Springs tapped\\nby shallow wells')\n",
    "\n",
    "for i, panel in enumerate(axs):\n",
    "    panel.spines['top'].set_visible(False)\n",
    "    panel.spines['right'].set_visible(False)\n",
    "    panel.text(0.03, 1.0, string.ascii_lowercase[i], \n",
    "            weight='bold', transform=panel.transAxes, ha='left', va='bottom')\n",
    "    \n",
    "fig.tight_layout()\n",
    "\n",
    "fig.savefig('fig/comparison_springs_and_wells.pdf')"
   ]
  },
  {
   "cell_type": "markdown",
   "metadata": {},
   "source": [
    "**Figure 1** *Comparison of temperature and discharge for natural springs and springs tapped by shallow (<100 m) wells.*"
   ]
  },
  {
   "cell_type": "markdown",
   "metadata": {},
   "source": [
    "## Si figure on variation of recharge in watersheds"
   ]
  },
  {
   "cell_type": "code",
   "execution_count": 10,
   "metadata": {},
   "outputs": [
    {
     "name": "stdout",
     "output_type": "stream",
     "text": [
      "mean variation of rch in watersheds = 17.49 percent\n",
      "median variation of rch in watersheds = 11.72 percent\n"
     ]
    },
    {
     "data": {
      "image/png": "[encoded data removed]",
      "text/plain": [
       "<Figure size 288x177.994 with 1 Axes>"
      ]
     },
     "metadata": {
      "needs_background": "light"
     },
     "output_type": "display_data"
    }
   ],
   "source": [
    "df['percent_rch_var'] = np.abs((df['max_recharge_ws'] - df['min_recharge_ws']) / df['max_recharge_ws'] * 100.0)\n",
    "\n",
    "fig, ax = pl.subplots(1, 1, figsize=(4, 4/gr))\n",
    "ax.hist(df['percent_rch_var'].dropna(), color='gray', bins=np.arange(0, 105, 5))\n",
    "\n",
    "ax.spines['top'].set_visible(False)\n",
    "ax.spines['right'].set_visible(False)\n",
    "\n",
    "ax.set_xlabel('Variation recharge in watershed (%)')\n",
    "ax.set_ylabel('Number of springs')\n",
    "\n",
    "fig.tight_layout()\n",
    "\n",
    "fig.savefig('fig/variation_rch_ws.pdf')\n",
    "\n",
    "print('mean variation of rch in watersheds = %0.2f percent' % df['percent_rch_var'].mean())\n",
    "print('median variation of rch in watersheds = %0.2f percent' % df['percent_rch_var'].median())"
   ]
  },
  {
   "cell_type": "markdown",
   "metadata": {},
   "source": [
    "## Make a figure of contributing area and watershed area"
   ]
  },
  {
   "cell_type": "code",
   "execution_count": 11,
   "metadata": {},
   "outputs": [
    {
     "data": {
      "image/png": "[encoded data removed]",
      "text/plain": [
       "<Figure size 360x216 with 1 Axes>"
      ]
     },
     "metadata": {
      "needs_background": "light"
     },
     "output_type": "display_data"
    }
   ],
   "source": [
    "fig, ax = pl.subplots(1, 1, figsize=(5, 3))\n",
    "ax.scatter(df['watershed_area'] / 1e6, df['contributing_area'] / 1e6, color='gray', edgecolor='black')\n",
    "\n",
    "ax.plot([1e-4, 450], [1e-4, 450], ls='--', color='black')\n",
    "\n",
    "ax.set_xscale('log')\n",
    "ax.set_yscale('log')\n",
    "\n",
    "ax.set_xlabel(r'Watershed area (km$^2$)')\n",
    "ax.set_ylabel(r'Contributing area springs (km$^2$)')\n",
    "\n",
    "ax.spines['top'].set_visible(False)\n",
    "ax.spines['right'].set_visible(False)"
   ]
  },
  {
   "cell_type": "code",
   "execution_count": 12,
   "metadata": {},
   "outputs": [
    {
     "data": {
      "image/png": "[encoded data removed]",
      "text/plain": [
       "<Figure size 288x177.994 with 1 Axes>"
      ]
     },
     "metadata": {
      "needs_background": "light"
     },
     "output_type": "display_data"
    }
   ],
   "source": [
    "\n",
    "\n",
    "fig, ax = pl.subplots(1, 1, figsize=(4, 4/gr))\n",
    "d = df['contributing_area'] / df['watershed_area']\n",
    "d = d.replace([-np.inf, np.inf, 0], np.nan)\n",
    "ld = np.log10(d.dropna())\n",
    "ax.hist(ld, bins=30, color='gray')\n",
    "\n",
    "ax.spines['top'].set_visible(False)\n",
    "ax.spines['right'].set_visible(False)\n",
    "\n",
    "ax.set_xlabel('Log contributing area divided by\\nwatershed area')\n",
    "ax.set_ylabel('Number of springs')\n",
    "\n",
    "fig.tight_layout()\n",
    "\n",
    "fig.savefig('fig/contributing_vs_watershed_area_hist.pdf')"
   ]
  },
  {
   "cell_type": "markdown",
   "metadata": {},
   "source": [
    "## Make a figure of heat flow, contributing area, thermal footprint "
   ]
  },
  {
   "cell_type": "code",
   "execution_count": 13,
   "metadata": {},
   "outputs": [
    {
     "name": "stderr",
     "output_type": "stream",
     "text": [
      "/Users/elcopone/opt/miniconda3/lib/python3.7/site-packages/pandas/core/series.py:679: RuntimeWarning: divide by zero encountered in log10\n",
      "  result = getattr(ufunc, method)(*inputs, **kwargs)\n"
     ]
    },
    {
     "data": {
      "image/png": "[encoded data removed]",
      "text/plain": [
       "<Figure size 540x180 with 3 Axes>"
      ]
     },
     "metadata": {
      "needs_background": "light"
     },
     "output_type": "display_data"
    }
   ],
   "source": [
    "# log transform variables\n",
    "\n",
    "plot_vars = ['contributing_area', 'H_net', 'thermal_footprint_net']\n",
    "\n",
    "labels = [r'Log contributing area ($m^2$)', 'Log spring heat flow (W)', \n",
    "          r'Log thermal footprint ($m^2$)']\n",
    "\n",
    "add_mm = [False, True, True]\n",
    "\n",
    "mm = ['min', 'max']\n",
    "\n",
    "plot_var_vals = []\n",
    "\n",
    "for p, add_mmi in zip(plot_vars, add_mm):\n",
    "    pi = []\n",
    "    \n",
    "    if add_mmi is True:\n",
    "        for mmi in mm:\n",
    "            vi = p + '_' + mmi\n",
    "            d = np.log10(df[vi])\n",
    "            d = d.replace((-np.inf, np.inf), np.nan)\n",
    "            d = d.dropna()\n",
    "\n",
    "            pi.append(d.values)\n",
    "    else:\n",
    "        vi = p\n",
    "        pi = np.log10(df[vi])\n",
    "        pi = pi.replace((-np.inf, np.inf), np.nan)    \n",
    "        pi = pi.dropna().values\n",
    "        \n",
    "        \n",
    "    plot_var_vals.append(pi)\n",
    "\n",
    "#df['log_thermal_footprint_max'] = np.log10(df['thermal_footprint_net_max'])\n",
    "#df['log_thermal_footprint_max'] = df['log_thermal_footprint_max'].replace((-np.inf, np.inf), np.nan)\n",
    "\n",
    "\n",
    "#\n",
    "#xlim = (2, 9)\n",
    "#xint = 0.25\n",
    "#bins = np.arange(xlim[0], xlim[1]+ xint, xint)\n",
    "\n",
    "fig, axs = pl.subplots(1, 3, figsize=(7.5, 7.5/3), sharey=True)\n",
    "\n",
    "ax = axs.ravel()\n",
    "\n",
    "for ax, plot_var, val, add_mmi in zip(axs, plot_vars, plot_var_vals, add_mm):\n",
    "    \n",
    "    if add_mmi is False:\n",
    "        ax.hist(val, bins=20, facecolor='gray')\n",
    "    else:\n",
    "        ax.hist(val, bins=20, label=['min.', 'max.'])\n",
    "        ax.legend(frameon=False, fontsize=leg_fs)\n",
    "\n",
    "\n",
    "#axs[2].hist(df['thermal_footprint_net_best'].dropna(), facecolor='gray', bins=30)\n",
    "\n",
    "\n",
    "for i, panel in enumerate(axs):\n",
    "    panel.spines['top'].set_visible(False)\n",
    "    panel.spines['right'].set_visible(False)\n",
    "    panel.text(0.03, 1.0, string.ascii_lowercase[i + 1], \n",
    "        weight='bold', transform=panel.transAxes, ha='left', va='bottom')\n",
    "\n",
    "#for ax in axs:\n",
    "#    ax.set_xlim(xlim)\n",
    "\n",
    "for ax, l in zip(axs, labels):\n",
    "    ax.set_xlabel(l)\n",
    "    \n",
    "axs[0].set_ylabel('Number of springs')\n",
    "\n",
    "fig.tight_layout()\n",
    "\n",
    "fig.savefig('fig/contributing_area_HF_and_thermal_footprint.pdf')\n",
    "fig.savefig('fig/contributing_area_HF_and_thermal_footprint.png', dpi=200)"
   ]
  },
  {
   "cell_type": "markdown",
   "metadata": {},
   "source": [
    "**Fig. caption** *Calculated contributing area and thermal footprint for each spring and a comparison with the area of watersheds that the springs are located in.*"
   ]
  },
  {
   "cell_type": "code",
   "execution_count": 14,
   "metadata": {},
   "outputs": [
    {
     "name": "stdout",
     "output_type": "stream",
     "text": [
      "\n",
      "Watershed area stats (m2):\n",
      " count    3.940000e+02\n",
      "mean     1.588754e+08\n",
      "std      4.594397e+07\n",
      "min      3.500000e+06\n",
      "25%      1.317250e+08\n",
      "50%      1.472000e+08\n",
      "75%      1.842250e+08\n",
      "max      3.668000e+08\n",
      "Name: watershed_area, dtype: float64\n",
      "\n",
      "Contributing area stats (m2):\n",
      " count    2.250000e+02\n",
      "mean     6.129354e+05\n",
      "std      1.871053e+06\n",
      "min      1.468059e+02\n",
      "25%      1.851829e+04\n",
      "50%      7.262816e+04\n",
      "75%      3.877195e+05\n",
      "max      1.590481e+07\n",
      "Name: contributing_area, dtype: float64\n",
      "\n",
      "Thermal footprint min stats (m2):\n",
      " count    2.260000e+02\n",
      "mean     4.918801e+06\n",
      "std      1.208200e+07\n",
      "min      0.000000e+00\n",
      "25%      0.000000e+00\n",
      "50%      3.114644e+05\n",
      "75%      3.282303e+06\n",
      "max      9.290677e+07\n",
      "Name: thermal_footprint_net_min, dtype: float64\n",
      "\n",
      "Thermal radius min stats (m2):\n",
      " count     226.000000\n",
      "mean      723.873132\n",
      "std      1022.907831\n",
      "min         0.000000\n",
      "25%         0.000000\n",
      "50%       314.845740\n",
      "75%      1021.892467\n",
      "max      5438.119340\n",
      "Name: thermal_radius_net_min, dtype: float64\n",
      "\n",
      "Thermal footprint max stats (m2):\n",
      " count    2.260000e+02\n",
      "mean     8.795423e+06\n",
      "std      1.916466e+07\n",
      "min      1.467466e+03\n",
      "25%      2.350240e+05\n",
      "50%      1.493743e+06\n",
      "75%      6.983339e+06\n",
      "max      1.464624e+08\n",
      "Name: thermal_footprint_net_max, dtype: float64\n",
      "\n",
      "Thermal radius max stats (m2):\n",
      " count     226.000000\n",
      "mean     1131.925583\n",
      "std      1234.974927\n",
      "min        21.612704\n",
      "25%       273.506430\n",
      "50%       689.545559\n",
      "75%      1490.017704\n",
      "max      6827.915748\n",
      "Name: thermal_radius_net_max, dtype: float64\n"
     ]
    }
   ],
   "source": [
    "print('\\nWatershed area stats (m2):\\n', df['watershed_area'].describe())\n",
    "\n",
    "print('\\nContributing area stats (m2):\\n', df['contributing_area'].describe())\n",
    "\n",
    "minmaxs = ['min', 'max']\n",
    "\n",
    "for mm in minmaxs:\n",
    "    print('\\nThermal footprint %s stats (m2):\\n' % mm, df['thermal_footprint_net_%s' % mm].describe())\n",
    "    print('\\nThermal radius %s stats (m2):\\n' % mm, df['thermal_radius_net_%s' % mm].describe())"
   ]
  },
  {
   "cell_type": "markdown",
   "metadata": {},
   "source": [
    "## Generate curves of SiO2 vs circulation temp"
   ]
  },
  {
   "cell_type": "code",
   "execution_count": 15,
   "metadata": {},
   "outputs": [
    {
     "data": {
      "image/png": "[encoded data removed]",
      "text/plain": [
       "<Figure size 432x288 with 1 Axes>"
      ]
     },
     "metadata": {
      "needs_background": "light"
     },
     "output_type": "display_data"
    }
   ],
   "source": [
    "x_si = np.arange(5, 101, 1)\n",
    "\n",
    "circ_temp_y = vf.SI_geothermometers(x_si)\n",
    "\n",
    "fig, panel = pl.subplots(1, 1, figsize=(6, 4))\n",
    "\n",
    "panel.fill_between(x_si, circ_temp_y[1], circ_temp_y[2], color='lightgrey', label='range')\n",
    "panel.plot(x_si, circ_temp_y[0], color='black', label='mean')\n",
    "panel.legend(fontsize=leg_fs, frameon=False)\n",
    "\n",
    "panel.set_xlabel(r'SiO$_2$ (mg L$^{-1}$)')\n",
    "panel.set_ylabel(u'Circulation temperature (°C)')\n",
    "\n",
    "panel.spines['top'].set_visible(False)\n",
    "panel.spines['right'].set_visible(False)\n",
    "\n",
    "fig.savefig('fig/SiO2_vs_circ_temp.pdf')"
   ]
  },
  {
   "cell_type": "markdown",
   "metadata": {},
   "source": [
    "## Load precipication d2H/d18O data"
   ]
  },
  {
   "cell_type": "code",
   "execution_count": 16,
   "metadata": {},
   "outputs": [
    {
     "data": {
      "text/plain": [
       "['Number',\n",
       " 'Site',\n",
       " 'Country',\n",
       " 'Latitude',\n",
       " 'Longitude',\n",
       " 'Elevation (m)',\n",
       " 'Period',\n",
       " 'd18O',\n",
       " 'Error',\n",
       " 'd2H',\n",
       " 'Error.1',\n",
       " 'd-excess (‰) Avg',\n",
       " 'Error.2',\n",
       " 'Air Temperature (°C) Avg',\n",
       " 'Error.3',\n",
       " 'Precipitation (mm) Avg',\n",
       " 'Error.4',\n",
       " 'Unnamed: 17']"
      ]
     },
     "execution_count": 16,
     "metadata": {},
     "output_type": "execute_result"
    }
   ],
   "source": [
    "dp = pd.read_csv('data/Gesamt_Alpen_GNIP.csv')\n",
    "dp.columns.tolist()"
   ]
  },
  {
   "cell_type": "code",
   "execution_count": 17,
   "metadata": {},
   "outputs": [],
   "source": [
    "## Boxes for magmatic and metamorphic dehydration water\n",
    "\n",
    "# following Rye 1993\n",
    "magm_2H = [-75, -40] \n",
    "magm_18O = [4.0, 9.5] \n",
    "\n",
    "# values from Yardley 2009, Sheppard 1986\n",
    "metamorphic_2H = [-70, 0]\n",
    "metamorphic_18O = [3, 20]\n",
    "\n",
    "\n",
    "O18 = np.arange(-17, 0.1, 0.1)\n",
    "H2 = 10 + 8 * O18"
   ]
  },
  {
   "cell_type": "markdown",
   "metadata": {},
   "source": [
    "## Make a figure of circulation depth & temp"
   ]
  },
  {
   "cell_type": "code",
   "execution_count": 18,
   "metadata": {},
   "outputs": [
    {
     "data": {
      "image/png": "[encoded data removed]",
      "text/plain": [
       "<Figure size 432x432 with 4 Axes>"
      ]
     },
     "metadata": {
      "needs_background": "light"
     },
     "output_type": "display_data"
    }
   ],
   "source": [
    "dg = df\n",
    "\n",
    "\n",
    "colors = pl.rcParams[\"axes.prop_cycle\"].by_key()[\"color\"]\n",
    "\n",
    "fig, panels_init = pl.subplots(2, 2, figsize=(6, 6))\n",
    "\n",
    "panels = panels_init.ravel()\n",
    "\n",
    "fs = 'medium'\n",
    "\n",
    "spring_label = 'springs, n=%i' % (len(dg.dropna(subset=['delta_18O', 'delta_2H'])))\n",
    "#prec_label = 'precipitation, n=%i' % len(dp)\n",
    "prec_label = 'precipitation'\n",
    "leg_iso_springs = panels[0].scatter(dg['delta_18O'], dg['delta_2H'],\n",
    "                                    facecolor='none', edgecolor=colors[0], label=spring_label)\n",
    "leg_iso_precip = panels[0].scatter(dp['d18O'], dp['d2H'], \n",
    "                                   facecolor='none', edgecolor=colors[1], \n",
    "                                   label=prec_label)\n",
    "\n",
    "#panels[0].fill_between(magm_18O, [magm_2H[0], magm_2H[0]], \n",
    "#                       [magm_2H[1], magm_2H[1]], color='lightgrey', edgecolor='black', linestyle='-')\n",
    "\n",
    "#panels[0].fill_between(metamorphic_18O, [metamorphic_2H[0], metamorphic_2H[0]], \n",
    "#                       [metamorphic_2H[1], metamorphic_2H[1]], \n",
    "#                       color='lightgrey', edgecolor='black', linestyle='-')\n",
    "\n",
    "x0, y0 = metamorphic_18O[0], metamorphic_2H[0]\n",
    "dx, dy = metamorphic_18O[1] - metamorphic_18O[0], metamorphic_2H[1] - metamorphic_2H[0]\n",
    "rect = matplotlib.patches.Rectangle((x0, y0), dx, dy,\n",
    "                                    linewidth=1, edgecolor='black', facecolor='none', ls=':')\n",
    "panels[0].add_patch(rect)\n",
    "panels[0].text(x0 + dx/2, y0 + dy * 0.75, 'metamorphic', va='center', ha='center', fontsize=leg_fs)\n",
    "\n",
    "x0, y0 = magm_18O[0], magm_2H[0]\n",
    "dx, dy = magm_18O[1] - magm_18O[0], magm_2H[1] - magm_2H[0]\n",
    "rect = matplotlib.patches.Rectangle((x0, y0), dx, dy,\n",
    "                                    linewidth=1, edgecolor='black', facecolor='none', ls=':')\n",
    "panels[0].add_patch(rect)\n",
    "panels[0].text(x0, y0-5, 'magmatic', va='top', ha='left', fontsize=leg_fs)\n",
    "\n",
    "panels[0].scatter([0], [0], color='gray', edgecolor='black')\n",
    "panels[0].text(0, 3, 'VSMOW', ha='left', va='bottom', fontsize=leg_fs)\n",
    "\n",
    "panels[0].plot(O18, H2, ls='--', color='black')\n",
    "panels[0].text(O18[-10], H2[-10], 'GMWL', rotation=63, va='top', ha='right', fontsize=leg_fs)\n",
    "\n",
    "panels[0].set_ylim(-130, 20)\n",
    "panels[0].set_xlim(-22, 22)\n",
    "\n",
    "panels[0].legend(loc='lower right', frameon=False)\n",
    "\n",
    "legh = panels[1].hist(dg['SiO2'].dropna().values, bins=np.arange(0, 100, 5), color='grey')\n",
    "panels[1].set_xlim(0, 100)\n",
    "\n",
    "tekst = 'n=%i' % (len(dg['SiO2'].dropna()))\n",
    "panels[1].text(0.98, 0.98, tekst, ha='right', va='top', \n",
    "                 transform=panels[1].transAxes, fontsize=leg_fs)\n",
    "\n",
    "#panels[1].fill_between(x_si, circ_temp_y[1], circ_temp_y[2], color='lightgrey', label='range')\n",
    "#panels[1].plot(x_si, circ_temp_y[0], color='black', label='mean')\n",
    "#panels[1].legend(fontsize=leg_fs, frameon=False)\n",
    "\n",
    "legh =  panels[2].hist([dg['circulation_temp_min'].dropna().values, \n",
    "                dg['circulation_temp_best'].dropna().values,\n",
    "                dg['circulation_temp_max'].dropna().values], \n",
    "               bins=np.arange(0, 180, 20))\n",
    "\n",
    "tekst = 'n=%i' % (len(dg['circulation_temp_min'].dropna()))\n",
    "panels[2].text(0.98, 1.01, tekst, ha='right', va='bottom', \n",
    "                 transform=panels[2].transAxes, fontsize=leg_fs)\n",
    "\n",
    "panels[2].legend(legh[-1], ['min.', 'best', 'max.'], fontsize=leg_fs, frameon=False)\n",
    "\n",
    "legd = panels[3].hist([dg['circ_depth_min'].dropna().values,\n",
    "                       dg['circ_depth_best'].dropna().values,\n",
    "                       dg['circ_depth_max'].dropna().values],\n",
    "                       bins=np.arange(0, 6000, 500))\n",
    "\n",
    "tekst = 'n=%i' % (len(dg['circ_depth_min'].dropna()))\n",
    "panels[3].text(0.98, 1.01, tekst, ha='right', va='bottom', \n",
    "               transform=panels[3].transAxes, fontsize=leg_fs)\n",
    "\n",
    "panels[3].legend(legh[-1], ['min.', 'best', 'max.'], fontsize=leg_fs, frameon=False)\n",
    "\n",
    "for i, panel in enumerate(panels[:]):\n",
    "    panel.spines['top'].set_visible(False)\n",
    "    panel.spines['right'].set_visible(False)\n",
    "    panel.text(0.03, 1.0, string.ascii_lowercase[i], \n",
    "        weight='bold', transform=panel.transAxes, ha='left', va='bottom')\n",
    "\n",
    "for panel in panels[1:]:\n",
    "    panel.set_ylabel('Number of springs')\n",
    "\n",
    "panels[0].set_xlabel(r'$\\delta ^{18}O$')    \n",
    "panels[0].set_ylabel(r'$\\delta ^{2}H$')    \n",
    "\n",
    "panels[1].set_xlabel(r'SiO$_2$ (mg L$^{-1}$)')\n",
    "panels[2].set_xlabel(u'Circulation temperature (°C)')\n",
    "panels[3].set_xlabel('Circulation depth (m)')\n",
    "\n",
    "fig.tight_layout()\n",
    "\n",
    "fig.savefig('fig/circ_temp_and_depth.pdf')"
   ]
  },
  {
   "cell_type": "markdown",
   "metadata": {},
   "source": [
    "## Some stats:"
   ]
  },
  {
   "cell_type": "code",
   "execution_count": 19,
   "metadata": {},
   "outputs": [
    {
     "name": "stdout",
     "output_type": "stream",
     "text": [
      "circulation temp statistics:\n",
      " count    133.000000\n",
      "mean      64.456307\n",
      "std       28.875454\n",
      "min       14.754632\n",
      "25%       40.378492\n",
      "50%       60.738275\n",
      "75%       88.143429\n",
      "max      129.538405\n",
      "Name: circulation_temp_best, dtype: float64\n",
      "\n",
      "circulation depth statistics:\n",
      " count     133.000000\n",
      "mean     2111.605133\n",
      "std      1126.479788\n",
      "min       308.030706\n",
      "25%      1170.562426\n",
      "50%      1901.699175\n",
      "75%      2996.819879\n",
      "max      4675.836105\n",
      "Name: circ_depth_best, dtype: float64\n"
     ]
    }
   ],
   "source": [
    "print('circulation temp statistics:\\n', dg['circulation_temp_best'].dropna().describe())\n",
    "print('\\ncirculation depth statistics:\\n', dg['circ_depth_best'].dropna().describe())"
   ]
  },
  {
   "cell_type": "markdown",
   "metadata": {},
   "source": [
    "##"
   ]
  },
  {
   "cell_type": "code",
   "execution_count": 20,
   "metadata": {},
   "outputs": [
    {
     "name": "stdout",
     "output_type": "stream",
     "text": [
      "thermal footprint stats:\n",
      "\n",
      "count    1.680000e+02\n",
      "mean     6.616958e+06\n",
      "std      1.361501e+07\n",
      "min      1.229163e+02\n",
      "25%      1.250639e+05\n",
      "50%      1.108919e+06\n",
      "75%      5.464506e+06\n",
      "max      9.290677e+07\n",
      "Name: thermal_footprint_net_min, dtype: float64\n",
      "count    2.260000e+02\n",
      "mean     8.795423e+06\n",
      "std      1.916466e+07\n",
      "min      1.467466e+03\n",
      "25%      2.350240e+05\n",
      "50%      1.493743e+06\n",
      "75%      6.983339e+06\n",
      "max      1.464624e+08\n",
      "Name: thermal_footprint_net_max, dtype: float64\n",
      "mean thermal radius using mean thermal footprint: 1451.29-1673.22 km\n",
      "thermal radius stats:\n",
      "\n",
      "count     168.000000\n",
      "mean      973.781713\n",
      "std      1079.317595\n",
      "min         6.255035\n",
      "25%       199.514295\n",
      "50%       594.118448\n",
      "75%      1318.865419\n",
      "max      5438.119340\n",
      "Name: thermal_radius_net_min, dtype: float64\n",
      "count     226.000000\n",
      "mean     1131.925583\n",
      "std      1234.974927\n",
      "min        21.612704\n",
      "25%       273.506430\n",
      "50%       689.545559\n",
      "75%      1490.017704\n",
      "max      6827.915748\n",
      "Name: thermal_radius_net_max, dtype: float64\n",
      "contrb. area stats:\n",
      "\n",
      "count    2.250000e+02\n",
      "mean     6.129354e+05\n",
      "std      1.871053e+06\n",
      "min      1.468059e+02\n",
      "25%      1.851829e+04\n",
      "50%      7.262816e+04\n",
      "75%      3.877195e+05\n",
      "max      1.590481e+07\n",
      "Name: contributing_area, dtype: float64\n"
     ]
    }
   ],
   "source": [
    "print('thermal footprint stats:\\n')\n",
    "\n",
    "ind1 = dg['thermal_footprint_net_min'] > 0\n",
    "print(dg.loc[ind1, 'thermal_footprint_net_min'].describe())\n",
    "ind2 = dg['thermal_footprint_net_max'] > 0\n",
    "print(dg.loc[ind2, 'thermal_footprint_net_max'].describe())\n",
    "\n",
    "d1 = dg.loc[ind1, 'thermal_footprint_net_min'].mean()\n",
    "d2 = dg.loc[ind2, 'thermal_footprint_net_max'].mean()\n",
    "\n",
    "r1 = np.sqrt(d1 / np.pi)\n",
    "r2 = np.sqrt(d2 / np.pi)\n",
    "\n",
    "print('mean thermal radius using mean thermal footprint: %0.2f-%0.2f km' % (r1, r2))\n",
    "\n",
    "print('thermal radius stats:\\n')\n",
    "\n",
    "ind = dg['thermal_radius_net_min'] > 0\n",
    "print(dg.loc[ind, 'thermal_radius_net_min'].describe())\n",
    "ind = dg['thermal_radius_net_max'] > 0\n",
    "print(dg.loc[ind, 'thermal_radius_net_max'].describe())\n",
    "\n",
    "print('contrb. area stats:\\n')\n",
    "ind = dg['contributing_area'] > 0\n",
    "print(dg.loc[ind, 'contributing_area'].describe())\n",
    "\n"
   ]
  },
  {
   "cell_type": "code",
   "execution_count": null,
   "metadata": {},
   "outputs": [],
   "source": []
  }
 ],
 "metadata": {
  "kernelspec": {
   "display_name": "Python 3",
   "language": "python",
   "name": "python3"
  },
  "language_info": {
   "codemirror_mode": {
    "name": "ipython",
    "version": 3
   },
   "file_extension": ".py",
   "mimetype": "text/x-python",
   "name": "python",
   "nbconvert_exporter": "python",
   "pygments_lexer": "ipython3",
   "version": "3.7.0"
  }
 },
 "nbformat": 4,
 "nbformat_minor": 4
}
