{
 "cells": [
  {
   "cell_type": "markdown",
   "metadata": {},
   "source": [
    "# Geospatial data analysis thermal springs\n",
    "\n",
    "This notebook reads the thermal spring dataset, gets rid of well data and springs outside of the alps, and calculates spatial statistics using external datasets such as groundwater recharge, surface lithology, proximity to faults, etc... \n",
    "\n",
    "The results are saved as a new csv file that can then be used by other notebooks for additional analysis\n",
    "\n",
    "**Input:** ``data/thermal_springs_alps.csv`` -> spring dataset. This can be obtained by saving the second sheet of the google drive database as a comma separated file.\n",
    "\n",
    "**Output:** input filename with ``'_with_geospatial_data.csv`` appended to it -> contains additional columns that contain recharge, elevation and lithology data from the raster datafile that you can specify below. \n",
    "\n",
    "Note that this notebook also cleans the thermal spring dataset by removing all areas that are outside the alps. The outline of the Alps can be defined by a polygon shapefile, see ``GIS_data/outline_alps_final.shp``"
   ]
  },
  {
   "cell_type": "code",
   "execution_count": 1,
   "metadata": {},
   "outputs": [],
   "source": [
    "import math\n",
    "import itertools\n",
    "import string\n",
    "import random\n",
    "import os\n",
    "import chardet\n",
    "\n",
    "\n",
    "import numpy as np\n",
    "import pandas as pd\n",
    "import geopandas as gp\n",
    "import rasterio as rio\n",
    "\n",
    "from rasterstats import zonal_stats\n",
    "\n",
    "#import shapely.geometry as gm\n",
    "import matplotlib.pyplot as pl\n",
    "\n",
    "import shapely.geometry\n",
    "\n",
    "#import lib.pyGISlib as pyGISlib"
   ]
  },
  {
   "cell_type": "code",
   "execution_count": 2,
   "metadata": {},
   "outputs": [],
   "source": [
    "import osgeo.osr\n",
    "import osgeo.gdal\n",
    "\n",
    "def read_raster_file(filename, verbose=False, band_number=1):\n",
    "    \"\"\"\n",
    "    Read gdal-compatible raster file and convert to numpy array\n",
    "    \n",
    "    Parameters\n",
    "    ----------\n",
    "    filename : string\n",
    "        filename of gdal compatible raster file\n",
    "    verbose : bool, optional\n",
    "        verbose output\n",
    "    \n",
    "    Returns\n",
    "    -------\n",
    "    raster_array : array\n",
    "        raster data\n",
    "    dimensions : list\n",
    "        x and y size of raster\n",
    "    origin : list \n",
    "        coordinates of (0,0) point of raster\n",
    "    cellsize : list\n",
    "        cellsize of raster\n",
    "    nodata : float\n",
    "        nodata value\n",
    "    projection : osgeo.osr.SpatialReference class\n",
    "\n",
    "    \"\"\"\n",
    "\n",
    "    if os.path.isfile(filename):\n",
    "        raster = osgeo.gdal.Open(filename, osgeo.gdal.GA_ReadOnly)\n",
    "    else:\n",
    "        print('error, could not open file %s' % filename)\n",
    "        return None, None, None, None, None, None\n",
    "\n",
    "    if verbose is True:\n",
    "        print('\\tnumber of raster bands:', raster.RasterCount)\n",
    "\n",
    "    inband = raster.GetRasterBand(band_number)\n",
    "    geotransform = raster.GetGeoTransform()\n",
    "    dimensions = [inband.XSize, inband.YSize]\n",
    "    nodata = inband.GetNoDataValue()\n",
    "    origin = [geotransform[0], geotransform[3]]\n",
    "    cellsize = [geotransform[1], geotransform[5]]\n",
    "    projection = osgeo.osr.SpatialReference()\n",
    "    projection.ImportFromWkt(raster.GetProjectionRef())\n",
    "\n",
    "    if verbose is True:\n",
    "        print('\\torigin = (', geotransform[0], ',', geotransform[3], ')')\n",
    "        print('\\tpixel Size = (', geotransform[1], ',', geotransform[5], ')')\n",
    "        print('\\tdimensions: x= %s, y= %s' % (inband.XSize, inband.YSize))\n",
    "        print('\\tstart reading raster file')\n",
    "\n",
    "    raster_array = raster.ReadAsArray()\n",
    "\n",
    "    if verbose is True:\n",
    "        print('\\tfinished reading raster file')\n",
    "        print('min,max data values = %0.1f - %0.1f' \\\n",
    "              % (raster_array.min(), raster_array.max()))\n",
    "\n",
    "    return raster_array, dimensions, origin, cellsize, nodata, projection\n",
    "\n"
   ]
  },
  {
   "cell_type": "markdown",
   "metadata": {},
   "source": [
    "## Define a function that we'll need later on:"
   ]
  },
  {
   "cell_type": "code",
   "execution_count": 3,
   "metadata": {},
   "outputs": [],
   "source": [
    "def haversine(lon1, lat1, lon2, lat2):\n",
    "\n",
    "    \"\"\"\n",
    "    Calculate the great circle distance between two points\n",
    "    on the earth (specified in decimal degrees)\n",
    "\n",
    "    https://stackoverflow.com/questions/4913349/haversine-formula-in-python-bearing-and-distance-between-two-gps-points\n",
    "    \"\"\"\n",
    "\n",
    "    # convert decimal degrees to radians\n",
    "    lon1, lat1, lon2, lat2 = map(math.radians, [lon1, lat1, lon2, lat2])\n",
    "\n",
    "    # haversine formula\n",
    "    dlon = lon2 - lon1\n",
    "    dlat = lat2 - lat1\n",
    "    a = math.sin(dlat / 2) ** 2 + math.cos(lat1) * math.cos(lat2) * math.sin(dlon / 2) ** 2\n",
    "    c = 2 * math.asin(np.sqrt(a))\n",
    "    r = 6371  # Radius of earth in kilometers. Use 3956 for miles\n",
    "\n",
    "    return c * r"
   ]
  },
  {
   "cell_type": "markdown",
   "metadata": {},
   "source": [
    "## Define GIS files to use:\n",
    "\n",
    "note, the elevation raster should always be last"
   ]
  },
  {
   "cell_type": "code",
   "execution_count": 4,
   "metadata": {},
   "outputs": [],
   "source": [
    "spring_data_file = 'data/thermal_springs_alps.csv'\n",
    "\n",
    "recharge_raster = 'GIS_data/rch_mod.tif'\n",
    "lithology_raster = 'GIS_data/GLIM_WGS84_xx_001deg1_alps.tif'\n",
    "waterlevel_depth_raster = 'GIS_data/gw_lvl_depth.tif'\n",
    "waterlevel_elevation_raster = 'GIS_data/gw_lvl_elevation.tif'\n",
    "surface_temp_raster = 'GIS_data/long_term_mean_annual_temp.tif'\n",
    "dem_file = 'GIS_data/gmted2010_alps_ll.tif'\n",
    "\n",
    "raster_files = [recharge_raster, lithology_raster, waterlevel_depth_raster, waterlevel_elevation_raster, surface_temp_raster, dem_file]\n",
    "\n",
    "process_zonal_stats = [True, False, True, True,  True, True]\n",
    "\n",
    "variable_names = ['recharge', 'lithology', 'gw_lvl_depth', 'gw_lvl_elev', 'surface_temp', 'elevation', ]\n",
    "\n",
    "fnb = 'GIS_data/outline_alps_final.shp'\n",
    "\n",
    "alps_bnd_buffer = 0.01"
   ]
  },
  {
   "cell_type": "markdown",
   "metadata": {},
   "source": [
    "## Load the thermal springs csv file:"
   ]
  },
  {
   "cell_type": "code",
   "execution_count": 5,
   "metadata": {},
   "outputs": [
    {
     "name": "stdout",
     "output_type": "stream",
     "text": [
      "UTF-8-SIG\n"
     ]
    }
   ],
   "source": [
    "def find_encoding(fname):\n",
    "    r_file = open(fname, 'rb').read()\n",
    "    result = chardet.detect(r_file)\n",
    "    charenc = result['encoding']\n",
    "    return charenc\n",
    "\n",
    "\n",
    "encoding = find_encoding(spring_data_file)\n",
    "print(encoding)"
   ]
  },
  {
   "cell_type": "code",
   "execution_count": 6,
   "metadata": {},
   "outputs": [
    {
     "name": "stdout",
     "output_type": "stream",
     "text": [
      "columns in csv file:  ['spring number', 'spring location', 'spring name', 'long', 'lat', 'type', 'well_depth', 'flow_rate_mean', 'flow_rate_min', 'flow_rate_max', 'temp_mean', 'temp_min', 'temp_max', 'reference', 'reference_DOI', 'reference_link', 'EC', 'pH', 'sample_temperature', 'TDS', 'TDS_min', 'TDS_max', 'Na', 'Ca', 'Mg', 'K', 'NH4', 'Cl', 'F', 'SO4', 'HCO3', 'CO3', 'NO3', 'Si', 'Li', 'SiO2', 'reference_hydrochemistry', 'doi_hydrochemistry', 'reference_link_hydrochemistry', 'delta_18O', 'delta_2H', '3H', 'delta_14C', 'delta_13C', '4He', '3He', 'reference_isotope_data', 'DOI_isotope_data', 'reference_link_isotope_data']\n"
     ]
    },
    {
     "data": {
      "text/html": [
       "<div>\n",
       "<style scoped>\n",
       "    .dataframe tbody tr th:only-of-type {\n",
       "        vertical-align: middle;\n",
       "    }\n",
       "\n",
       "    .dataframe tbody tr th {\n",
       "        vertical-align: top;\n",
       "    }\n",
       "\n",
       "    .dataframe thead th {\n",
       "        text-align: right;\n",
       "    }\n",
       "</style>\n",
       "<table border=\"1\" class=\"dataframe\">\n",
       "  <thead>\n",
       "    <tr style=\"text-align: right;\">\n",
       "      <th></th>\n",
       "      <th>spring number</th>\n",
       "      <th>spring location</th>\n",
       "      <th>spring name</th>\n",
       "      <th>long</th>\n",
       "      <th>lat</th>\n",
       "      <th>type</th>\n",
       "      <th>well_depth</th>\n",
       "      <th>flow_rate_mean</th>\n",
       "      <th>flow_rate_min</th>\n",
       "      <th>flow_rate_max</th>\n",
       "      <th>...</th>\n",
       "      <th>delta_18O</th>\n",
       "      <th>delta_2H</th>\n",
       "      <th>3H</th>\n",
       "      <th>delta_14C</th>\n",
       "      <th>delta_13C</th>\n",
       "      <th>4He</th>\n",
       "      <th>3He</th>\n",
       "      <th>reference_isotope_data</th>\n",
       "      <th>DOI_isotope_data</th>\n",
       "      <th>reference_link_isotope_data</th>\n",
       "    </tr>\n",
       "  </thead>\n",
       "  <tbody>\n",
       "    <tr>\n",
       "      <th>0</th>\n",
       "      <td>1</td>\n",
       "      <td>Euganei (Euganean geothermal area - Abano Terme</td>\n",
       "      <td>Bonato 1</td>\n",
       "      <td>11.787467</td>\n",
       "      <td>45.344444</td>\n",
       "      <td>well</td>\n",
       "      <td>269</td>\n",
       "      <td>NaN</td>\n",
       "      <td>NaN</td>\n",
       "      <td>NaN</td>\n",
       "      <td>...</td>\n",
       "      <td>NaN</td>\n",
       "      <td>NaN</td>\n",
       "      <td>NaN</td>\n",
       "      <td>NaN</td>\n",
       "      <td>NaN</td>\n",
       "      <td>NaN</td>\n",
       "      <td>NaN</td>\n",
       "      <td>NaN</td>\n",
       "      <td>NaN</td>\n",
       "      <td>NaN</td>\n",
       "    </tr>\n",
       "    <tr>\n",
       "      <th>1</th>\n",
       "      <td>2</td>\n",
       "      <td>Euganei (Euganean geothermal area - Abano Terme</td>\n",
       "      <td>All' Alba</td>\n",
       "      <td>11.787467</td>\n",
       "      <td>45.344444</td>\n",
       "      <td>well</td>\n",
       "      <td>NaN</td>\n",
       "      <td>NaN</td>\n",
       "      <td>NaN</td>\n",
       "      <td>NaN</td>\n",
       "      <td>...</td>\n",
       "      <td>-11.0</td>\n",
       "      <td>-83.1</td>\n",
       "      <td>NaN</td>\n",
       "      <td>NaN</td>\n",
       "      <td>NaN</td>\n",
       "      <td>NaN</td>\n",
       "      <td>NaN</td>\n",
       "      <td>Gherardi F. et al. (2000): Water and gas geoch...</td>\n",
       "      <td>https://doi.org/10.1016/S0883-2927(99)00056-6</td>\n",
       "      <td>https://www.researchgate.net/publication/24221...</td>\n",
       "    </tr>\n",
       "    <tr>\n",
       "      <th>2</th>\n",
       "      <td>3</td>\n",
       "      <td>Euganei (Euganean geothermal area - Abano Terme</td>\n",
       "      <td>Toson</td>\n",
       "      <td>11.787467</td>\n",
       "      <td>45.344444</td>\n",
       "      <td>well</td>\n",
       "      <td>602</td>\n",
       "      <td>NaN</td>\n",
       "      <td>NaN</td>\n",
       "      <td>NaN</td>\n",
       "      <td>...</td>\n",
       "      <td>-10.1</td>\n",
       "      <td>-71.5</td>\n",
       "      <td>NaN</td>\n",
       "      <td>NaN</td>\n",
       "      <td>NaN</td>\n",
       "      <td>NaN</td>\n",
       "      <td>NaN</td>\n",
       "      <td>Gherardi F. et al. (2000): Water and gas geoch...</td>\n",
       "      <td>https://doi.org/10.1016/S0883-2927(99)00056-6</td>\n",
       "      <td>https://www.researchgate.net/publication/24221...</td>\n",
       "    </tr>\n",
       "    <tr>\n",
       "      <th>3</th>\n",
       "      <td>4</td>\n",
       "      <td>Euganei (Euganean geothermal area - Abano Terme</td>\n",
       "      <td>Bernabei</td>\n",
       "      <td>11.787467</td>\n",
       "      <td>45.344444</td>\n",
       "      <td>well</td>\n",
       "      <td>NaN</td>\n",
       "      <td>NaN</td>\n",
       "      <td>NaN</td>\n",
       "      <td>NaN</td>\n",
       "      <td>...</td>\n",
       "      <td>-11.0</td>\n",
       "      <td>-82.1</td>\n",
       "      <td>NaN</td>\n",
       "      <td>NaN</td>\n",
       "      <td>NaN</td>\n",
       "      <td>NaN</td>\n",
       "      <td>NaN</td>\n",
       "      <td>Gherardi F. et al. (2000): Water and gas geoch...</td>\n",
       "      <td>https://doi.org/10.1016/S0883-2927(99)00056-6</td>\n",
       "      <td>https://www.researchgate.net/publication/24221...</td>\n",
       "    </tr>\n",
       "    <tr>\n",
       "      <th>4</th>\n",
       "      <td>5</td>\n",
       "      <td>Euganei (Euganean geothermal area - Abano Terme</td>\n",
       "      <td>Espana</td>\n",
       "      <td>11.787467</td>\n",
       "      <td>45.344444</td>\n",
       "      <td>well</td>\n",
       "      <td>NaN</td>\n",
       "      <td>NaN</td>\n",
       "      <td>NaN</td>\n",
       "      <td>NaN</td>\n",
       "      <td>...</td>\n",
       "      <td>-10.2</td>\n",
       "      <td>-72.0</td>\n",
       "      <td>NaN</td>\n",
       "      <td>NaN</td>\n",
       "      <td>NaN</td>\n",
       "      <td>NaN</td>\n",
       "      <td>NaN</td>\n",
       "      <td>Gherardi F. et al. (2000): Water and gas geoch...</td>\n",
       "      <td>https://doi.org/10.1016/S0883-2927(99)00056-6</td>\n",
       "      <td>https://www.researchgate.net/publication/24221...</td>\n",
       "    </tr>\n",
       "  </tbody>\n",
       "</table>\n",
       "<p>5 rows × 49 columns</p>\n",
       "</div>"
      ],
      "text/plain": [
       "   spring number                                  spring location spring name  \\\n",
       "0              1  Euganei (Euganean geothermal area - Abano Terme    Bonato 1   \n",
       "1              2  Euganei (Euganean geothermal area - Abano Terme   All' Alba   \n",
       "2              3  Euganei (Euganean geothermal area - Abano Terme       Toson   \n",
       "3              4  Euganei (Euganean geothermal area - Abano Terme    Bernabei   \n",
       "4              5  Euganei (Euganean geothermal area - Abano Terme      Espana   \n",
       "\n",
       "        long        lat  type well_depth  flow_rate_mean  flow_rate_min  \\\n",
       "0  11.787467  45.344444  well        269             NaN            NaN   \n",
       "1  11.787467  45.344444  well        NaN             NaN            NaN   \n",
       "2  11.787467  45.344444  well        602             NaN            NaN   \n",
       "3  11.787467  45.344444  well        NaN             NaN            NaN   \n",
       "4  11.787467  45.344444  well        NaN             NaN            NaN   \n",
       "\n",
       "   flow_rate_max  ... delta_18O  delta_2H  3H delta_14C delta_13C 4He 3He  \\\n",
       "0            NaN  ...       NaN       NaN NaN       NaN       NaN NaN NaN   \n",
       "1            NaN  ...     -11.0     -83.1 NaN       NaN       NaN NaN NaN   \n",
       "2            NaN  ...     -10.1     -71.5 NaN       NaN       NaN NaN NaN   \n",
       "3            NaN  ...     -11.0     -82.1 NaN       NaN       NaN NaN NaN   \n",
       "4            NaN  ...     -10.2     -72.0 NaN       NaN       NaN NaN NaN   \n",
       "\n",
       "                              reference_isotope_data  \\\n",
       "0                                                NaN   \n",
       "1  Gherardi F. et al. (2000): Water and gas geoch...   \n",
       "2  Gherardi F. et al. (2000): Water and gas geoch...   \n",
       "3  Gherardi F. et al. (2000): Water and gas geoch...   \n",
       "4  Gherardi F. et al. (2000): Water and gas geoch...   \n",
       "\n",
       "                                DOI_isotope_data  \\\n",
       "0                                            NaN   \n",
       "1  https://doi.org/10.1016/S0883-2927(99)00056-6   \n",
       "2  https://doi.org/10.1016/S0883-2927(99)00056-6   \n",
       "3  https://doi.org/10.1016/S0883-2927(99)00056-6   \n",
       "4  https://doi.org/10.1016/S0883-2927(99)00056-6   \n",
       "\n",
       "                         reference_link_isotope_data  \n",
       "0                                                NaN  \n",
       "1  https://www.researchgate.net/publication/24221...  \n",
       "2  https://www.researchgate.net/publication/24221...  \n",
       "3  https://www.researchgate.net/publication/24221...  \n",
       "4  https://www.researchgate.net/publication/24221...  \n",
       "\n",
       "[5 rows x 49 columns]"
      ]
     },
     "execution_count": 6,
     "metadata": {},
     "output_type": "execute_result"
    }
   ],
   "source": [
    "df = pd.read_csv(spring_data_file, dtype={'reference': object, 'reference_link': object}, encoding=encoding)\n",
    "print('columns in csv file: ', df.columns.tolist())\n",
    "df.head()"
   ]
  },
  {
   "cell_type": "markdown",
   "metadata": {},
   "source": [
    "## Convert to numeric data and remove wells, boreholes and tunnels:"
   ]
  },
  {
   "cell_type": "code",
   "execution_count": 7,
   "metadata": {},
   "outputs": [
    {
     "name": "stdout",
     "output_type": "stream",
     "text": [
      "number of springs left = 576\n"
     ]
    }
   ],
   "source": [
    "# make all data numeric\n",
    "for col in df.columns:\n",
    "    if 'spring' not in col and 'type' not in col:\n",
    "        df[col] = pd.to_numeric(df[col], errors='coerce')\n",
    "    else:\n",
    "        df[col] = df[col]\n",
    "\n",
    "# remove empty lines\n",
    "df = df.dropna(subset=['spring location'])\n",
    "df = df.dropna(subset=['lat', 'long'])\n",
    "df = df.loc[df['lat'].notnull()]\n",
    "\n",
    "ind = df['flow_rate_mean'] == 0.0\n",
    "df = df.loc[ind==False]\n",
    "\n",
    "# remove wells\n",
    "well_depth_cutoff = 100.0\n",
    "ind = (df['type'] == 'well') & (df['well_depth'] > well_depth_cutoff)\n",
    "df = df.loc[ind==False]\n",
    "ind = (df['type'] == 'borehole') & (df['well_depth'] > well_depth_cutoff)\n",
    "df = df.loc[ind==False]\n",
    "ind = (df['type'] == 'well') & (df['well_depth'].isnull())\n",
    "df = df.loc[ind==False]\n",
    "ind = (df['type'] == 'borehole') & (df['well_depth'].isnull())\n",
    "df = df.loc[ind==False]\n",
    "\n",
    "ind = (df['type'] == 'tunnel') | (df['type'] == 'gallery')\n",
    "df = df.loc[ind==False]\n",
    "\n",
    "ind = df['type'] == 'unknown'\n",
    "df = df.loc[ind==False]\n",
    "\n",
    "df = df.dropna(subset=['type'])\n",
    "\n",
    "print('number of springs left = %i' % len(df))"
   ]
  },
  {
   "cell_type": "code",
   "execution_count": 8,
   "metadata": {},
   "outputs": [
    {
     "name": "stdout",
     "output_type": "stream",
     "text": [
      "type of springs:  ['spring' 'springs and shallow wells' 'spring or shallow well' 'well'\n",
      " 'gallery & borehole' 'borehole' 'spring ']\n",
      "well depths:\n",
      " count     90.000000\n",
      "mean      31.723556\n",
      "std       30.757808\n",
      "min        2.000000\n",
      "25%        7.262500\n",
      "50%       15.500000\n",
      "75%       52.825000\n",
      "max      100.000000\n",
      "Name: well_depth, dtype: float64\n"
     ]
    }
   ],
   "source": [
    "print('type of springs: ', df['type'].unique())\n",
    "\n",
    "ind = (df['type'] == 'well') | (df['type'] == 'borehole')\n",
    "print('well depths:\\n', df.loc[ind, 'well_depth'].describe())"
   ]
  },
  {
   "cell_type": "markdown",
   "metadata": {},
   "source": [
    "## Calculate mean temperature and flow rate for springs with only min. and max. values available:"
   ]
  },
  {
   "cell_type": "code",
   "execution_count": 9,
   "metadata": {},
   "outputs": [
    {
     "name": "stdout",
     "output_type": "stream",
     "text": [
      "number of remaining springs = 576\n"
     ]
    }
   ],
   "source": [
    "# calculate mean temperature for datapoints with min, max T only\n",
    "df['temperature'] = df['temp_mean']\n",
    "ind = df['temperature'].isnull()\n",
    "df.loc[ind, 'temperature'] = 0.5 * df.loc[ind, 'temp_min'] + 0.5 * df.loc[ind, 'temp_max']\n",
    "\n",
    "# calculate mean flow rate from min and max \n",
    "df['flow_rate'] = df['flow_rate_mean']\n",
    "ind = df['flow_rate'].isnull()\n",
    "df.loc[ind, 'flow_rate'] = 0.5 * df.loc[ind, 'flow_rate_min'] + 0.5 * df.loc[ind, 'flow_rate_max']\n",
    "\n",
    "# calculate log flow rate & temperature \n",
    "df['log_flow_rate'] = np.log10(df['flow_rate'])\n",
    "df['log_temperature'] = np.log10(df['temperature'])\n",
    "\n",
    "df = df.replace([-np.inf, np.inf], np.nan)\n",
    "\n",
    "print('number of remaining springs = %i' % (len(df)))"
   ]
  },
  {
   "cell_type": "markdown",
   "metadata": {},
   "source": [
    "## convert spring dataset to geopandas file:\n",
    "\n",
    "(code found here https://gis.stackexchange.com/questions/114066/handling-kml-csv-with-geopandas-drivererror-unsupported-driver-ucsv)"
   ]
  },
  {
   "cell_type": "code",
   "execution_count": 10,
   "metadata": {},
   "outputs": [],
   "source": [
    "df['geometry'] = df.apply(lambda z: shapely.geometry.Point(z['long'], z['lat']), axis=1)\n",
    "dg = gp.GeoDataFrame(df)\n",
    "#dg = dg.astype({'reference': str})"
   ]
  },
  {
   "cell_type": "markdown",
   "metadata": {},
   "source": [
    "## Read shapefile with boundary Alps"
   ]
  },
  {
   "cell_type": "code",
   "execution_count": 11,
   "metadata": {},
   "outputs": [],
   "source": [
    "dgb = gp.read_file(fnb)\n",
    "alps_poly = dgb.buffer(alps_bnd_buffer).geometry[0]"
   ]
  },
  {
   "cell_type": "markdown",
   "metadata": {},
   "source": [
    "## Generate a collection of random points for comparing geospatial statistics:"
   ]
  },
  {
   "cell_type": "code",
   "execution_count": 12,
   "metadata": {},
   "outputs": [],
   "source": [
    "# number of random points\n",
    "n_target = len(df)\n",
    "\n",
    "(minx, miny, maxx, maxy) = alps_poly.bounds\n",
    "\n",
    "n = 0\n",
    "dr = gp.GeoDataFrame(index=np.arange(n_target), columns=['lat', 'long'])\n",
    "\n",
    "random_pts = []\n",
    "while n < n_target:\n",
    "    long = random.uniform(minx, maxx)\n",
    "    lat = random.uniform(miny, maxy)\n",
    "    p = shapely.geometry.Point(long, lat)\n",
    "    if p.within(alps_poly):\n",
    "        random_pts.append(p)\n",
    "        dr.loc[n]['lat'] = lat\n",
    "        dr.loc[n]['long'] = long\n",
    "        n += 1\n",
    "\n",
    "dr.geometry = random_pts"
   ]
  },
  {
   "cell_type": "markdown",
   "metadata": {},
   "source": [
    "## combine geodataframes in list:"
   ]
  },
  {
   "cell_type": "code",
   "execution_count": 13,
   "metadata": {},
   "outputs": [],
   "source": [
    "dgs = [dg, dr]"
   ]
  },
  {
   "cell_type": "markdown",
   "metadata": {},
   "source": [
    "## remove points that are not within the Alps shapefile"
   ]
  },
  {
   "cell_type": "code",
   "execution_count": 14,
   "metadata": {},
   "outputs": [
    {
     "name": "stdout",
     "output_type": "stream",
     "text": [
      "number of springs in the alps + buffer of 0.01 degrees = 394\n"
     ]
    },
    {
     "data": {
      "image/png": "[encoded data removed]",
      "text/plain": [
       "<Figure size 432x288 with 1 Axes>"
      ]
     },
     "metadata": {
      "needs_background": "light"
     },
     "output_type": "display_data"
    }
   ],
   "source": [
    "for i, dgi in enumerate(dgs):\n",
    "    #dg['in_alps'] = dg.within(alps_poly)\n",
    "    dgs[i] = dgi.loc[dgi.geometry.within(alps_poly)]\n",
    "    #dgc = dg.loc[dg['in_alps']]\n",
    "\n",
    "fig, ax = pl.subplots(1, 1)\n",
    "dgb.plot(ax=ax, facecolor='None', edgecolor='black')\n",
    "#dr.plot(ax=ax, color='red')\n",
    "dgs[0].plot(ax=ax, edgecolor='black')\n",
    "\n",
    "print('number of springs in the alps + buffer of %0.2f degrees = %i' % (alps_bnd_buffer, len(dgs[0])))"
   ]
  },
  {
   "cell_type": "markdown",
   "metadata": {},
   "source": [
    "## Load raster data for the springs and the random points"
   ]
  },
  {
   "cell_type": "code",
   "execution_count": 15,
   "metadata": {},
   "outputs": [
    {
     "name": "stdout",
     "output_type": "stream",
     "text": [
      "finding raster data values at spring locations\n",
      "GIS_data/rch_mod.tif recharge\n"
     ]
    },
    {
     "name": "stderr",
     "output_type": "stream",
     "text": [
      "/Users/elcopone/opt/miniconda3/lib/python3.7/site-packages/ipykernel_launcher.py:9: SettingWithCopyWarning: \n",
      "A value is trying to be set on a copy of a slice from a DataFrame.\n",
      "Try using .loc[row_indexer,col_indexer] = value instead\n",
      "\n",
      "See the caveats in the documentation: https://pandas.pydata.org/pandas-docs/stable/user_guide/indexing.html#returning-a-view-versus-a-copy\n",
      "  if __name__ == '__main__':\n",
      "/Users/elcopone/opt/miniconda3/lib/python3.7/site-packages/pandas/core/indexing.py:966: SettingWithCopyWarning: \n",
      "A value is trying to be set on a copy of a slice from a DataFrame.\n",
      "Try using .loc[row_indexer,col_indexer] = value instead\n",
      "\n",
      "See the caveats in the documentation: https://pandas.pydata.org/pandas-docs/stable/user_guide/indexing.html#returning-a-view-versus-a-copy\n",
      "  self.obj[item] = s\n"
     ]
    },
    {
     "name": "stdout",
     "output_type": "stream",
     "text": [
      "GIS_data/GLIM_WGS84_xx_001deg1_alps.tif lithology\n",
      "GIS_data/gw_lvl_depth.tif gw_lvl_depth\n",
      "GIS_data/gw_lvl_elevation.tif gw_lvl_elev\n",
      "GIS_data/long_term_mean_annual_temp.tif surface_temp\n",
      "GIS_data/gmted2010_alps_ll.tif elevation\n",
      "GIS_data/rch_mod.tif recharge\n",
      "GIS_data/GLIM_WGS84_xx_001deg1_alps.tif lithology\n",
      "GIS_data/gw_lvl_depth.tif gw_lvl_depth\n",
      "GIS_data/gw_lvl_elevation.tif gw_lvl_elev\n",
      "GIS_data/long_term_mean_annual_temp.tif surface_temp\n",
      "GIS_data/gmted2010_alps_ll.tif elevation\n"
     ]
    }
   ],
   "source": [
    "print('finding raster data values at spring locations')\n",
    "\n",
    "dgs_final = []\n",
    "for dgi in dgs: \n",
    "    for raster_file, variable_name in zip(raster_files, variable_names):\n",
    "        \n",
    "        print(raster_file, variable_name)\n",
    "        \n",
    "        dgi[variable_name] = np.nan\n",
    "        \n",
    "        #raster_array, dimensions, origin, cellsize, nodata, projection = \\\n",
    "        #    pyGISlib.read_raster_file(raster_file)\n",
    "        raster_array, dimensions, origin, cellsize, nodata, projection = read_raster_file(raster_file)\n",
    "\n",
    "        # go through all springs\n",
    "        xps, yps = dgi['long'].values, dgi['lat'].values\n",
    "        xps, yps = xps.astype(float), yps.astype(float)\n",
    "        xgs = (np.round((xps - (origin[0] + cellsize[0] * 0.5)) / cellsize[0])).astype(int)\n",
    "        ygs = (np.round((yps - (origin[1] + cellsize[1] * 0.5)) / cellsize[1])).astype(int)\n",
    "\n",
    "        for ix, xpi, ypi in zip(dgi.index, dgi['long'], dgi['lat']):\n",
    "\n",
    "            if np.isnan(xpi) == False and np.isnan(ypi) == False:\n",
    "                xg = np.int(np.round((xpi - (origin[0] + cellsize[0] * 0.5)) / cellsize[0]))\n",
    "                yg = np.int(np.round((ypi - (origin[1] + cellsize[1] * 0.5)) / cellsize[1]))\n",
    "\n",
    "                if xg > 0 and yg > 0 and xg < raster_array.shape[1] and yg < raster_array.shape[0]:\n",
    "                    dgi.loc[ix, variable_name] = raster_array[yg, xg]\n",
    "                else:\n",
    "                    print('warning, the following spring has a location that is outside the bound of %s the raster: %s' \n",
    "                          % (variable_name, str(df.loc[ix])))\n",
    "        # convert nodata values to nan\n",
    "        dgi.loc[dgi[variable_name] == nodata, variable_name] = np.nan\n",
    "    \n",
    "    dgs_final.append(dgi)"
   ]
  },
  {
   "cell_type": "markdown",
   "metadata": {},
   "source": [
    "## Calculate contributing area"
   ]
  },
  {
   "cell_type": "code",
   "execution_count": 16,
   "metadata": {},
   "outputs": [],
   "source": [
    "dg = dgs_final[0]"
   ]
  },
  {
   "cell_type": "code",
   "execution_count": 17,
   "metadata": {},
   "outputs": [
    {
     "name": "stdout",
     "output_type": "stream",
     "text": [
      "flow rate (m s-1):\n",
      " count    225.000000\n",
      "mean       0.009387\n",
      "std        0.028127\n",
      "min        0.000001\n",
      "25%        0.000300\n",
      "50%        0.001500\n",
      "75%        0.005029\n",
      "max        0.220000\n",
      "Name: flow_rate_mean, dtype: float64\n",
      "contributing area (m2):\n",
      " count    2.250000e+02\n",
      "mean     6.129354e+05\n",
      "std      1.871053e+06\n",
      "min      1.468059e+02\n",
      "25%      1.851829e+04\n",
      "50%      7.262816e+04\n",
      "75%      3.877195e+05\n",
      "max      1.590481e+07\n",
      "Name: contributing_area, dtype: float64\n"
     ]
    }
   ],
   "source": [
    "year = 365.25 * 24 * 3600\n",
    "dg['contributing_area'] = dg['flow_rate_mean'] / (dg['recharge'] / year)\n",
    "\n",
    "print('flow rate (m s-1):\\n', dg['flow_rate_mean'].describe())\n",
    "\n",
    "print('contributing area (m2):\\n', dg['contributing_area'].describe())\n",
    "\n",
    "dg['log_contrib_area'] = np.log10(dg['contributing_area'])\n",
    "dg['log_contrib_area'] = dg['log_contrib_area'].replace([np.inf, -np.inf], np.nan)"
   ]
  },
  {
   "cell_type": "markdown",
   "metadata": {},
   "source": [
    "## Create a circular buffer around each spring that is equal to the contributing area"
   ]
  },
  {
   "cell_type": "markdown",
   "metadata": {},
   "source": [
    "convert the circle radius to degrees using the haversine formula\n",
    "\n",
    "note for now this only calculates the average distance of one degree and uses this to convert the radius from meters to degrees. This is not so exact, but probably not too bad"
   ]
  },
  {
   "cell_type": "code",
   "execution_count": 18,
   "metadata": {},
   "outputs": [],
   "source": [
    "record_relief_in_contrib_area = False\n",
    "\n",
    "if record_relief_in_contrib_area is True:\n",
    "\n",
    "    dg['circle_radius'] = np.sqrt(dg['contributing_area'] / np.pi) * 4.0\n",
    "\n",
    "    print('radius of contributing area around each spring (m):\\n', dg['circle_radius'].describe())\n",
    "\n",
    "    long_avg = dg['long'].mean()\n",
    "    lat_avg = dg['lat'].mean()\n",
    "    dlong = haversine(long_avg, lat_avg, long_avg + 1, lat_avg)\n",
    "    dlat = haversine(long_avg, lat_avg, long_avg, lat_avg + 1.0)\n",
    "    davg = (dlong + dlat) / 2.0\n",
    "\n",
    "    dg['circle_radius_degrees'] = dg['circle_radius'] / davg / 1000.0\n",
    "    dg['circle_radius_degrees_long'] = dg['circle_radius'] / dlong / 1000.0\n",
    "    dg['circle_radius_degrees_lat'] = dg['circle_radius'] / dlat / 1000.0"
   ]
  },
  {
   "cell_type": "markdown",
   "metadata": {},
   "source": [
    "## Record the min, mean and max elevation in each circular buffer:"
   ]
  },
  {
   "cell_type": "code",
   "execution_count": 19,
   "metadata": {},
   "outputs": [],
   "source": [
    "\n",
    "if record_relief_in_contrib_area is True:\n",
    "    print('finding elevation within contributing area (this may take a while....)')\n",
    "\n",
    "    # get coordinates of raster points elevation raster (assuming this was the last \n",
    "    # raster that was loaded)\n",
    "    xi = (np.arange(dimensions[0]) + 0.5) * cellsize[0] + origin[0]\n",
    "    yi = (np.arange(dimensions[1]) + 0.5) * cellsize[1] + origin[1]\n",
    "    xgr , ygr = np.meshgrid(xi, yi)\n",
    "\n",
    "    # go through all springs\n",
    "    for i, ix, xpi, ypi, crx, cry in zip(itertools.count(), dg.index, dg['long'], dg['lat'], \n",
    "                                         dg['circle_radius_degrees_long'], \n",
    "                                         dg['circle_radius_degrees_lat']):\n",
    "\n",
    "        if int(i / 50.0) == float(i / 50.0):\n",
    "            print('thermal spring %i of %i' % (i, len(dg)))\n",
    "\n",
    "        if np.isnan(xpi) == False and np.isnan(ypi) == False and np.isnan(crx) == False:\n",
    "            #xg = int(np.round((xpi - (origin[0] + cellsize[0] * 0.5)) / cellsize[0]))\n",
    "            #yg = int(np.round((ypi - (origin[1] + cellsize[1] * 0.5)) / cellsize[1]))\n",
    "            #ind = (xgr >= (xpi - crx)) & (xgr <= (xpi + crx)) & (ygr >= (ypi - cry)) & (ygr <= (ypi + cry))\n",
    "\n",
    "\n",
    "            # find the edges of the circle in the 2d array\n",
    "            x1 = int(np.floor(((xpi - crx) - origin[0]) / cellsize[0])) \n",
    "            x2 = int(np.ceil(((xpi + crx) - origin[0]) / cellsize[0])) \n",
    "            y2 = int(np.floor(((ypi - cry) - origin[1]) / cellsize[1])) \n",
    "            y1 = int(np.ceil(((ypi + cry) - origin[1]) / cellsize[1])) \n",
    "\n",
    "            # select the square/region in array where circle is located\n",
    "            xgrs = xgr[y1:y2+1, x1:x2+1]\n",
    "            ygrs = ygr[y1:y2+1, x1:x2+1]\n",
    "            zs = raster_array[y1:y2+1, x1:x2+1]\n",
    "\n",
    "            # calculate distance of each ratser point to the thermal spring, normalized to the size of the contributing area\n",
    "            dxn = (xgrs - xpi) / crx\n",
    "            dyn = (ygrs - ypi) / cry\n",
    "            #dr = np.sqrt((xgr - xpi) ** 2 + (ygr - ypi)**2)\n",
    "            #ind = dr <= cr\n",
    "            dr = np.sqrt(dxn**2 + dyn**2) \n",
    "\n",
    "            # select parts of elevation raster that are within the contributing area\n",
    "            ind = dr <= 1.0\n",
    "            ds = zs[ind]\n",
    "\n",
    "            # \n",
    "            if np.any(ind) == True:\n",
    "                dg.loc[ix, 'elevation_buffer_min'] = ds.min()\n",
    "                dg.loc[ix, 'elevation_buffer_max'] = ds.max()\n",
    "                dg.loc[ix, 'elevation_buffer_mean'] = ds.mean()\n",
    "                dg.loc[ix, 'elevation_buffer_median'] = np.median(ds)\n",
    "                dg.loc[ix, 'found_buffer_elevation'] = True\n",
    "            else:\n",
    "                dg.loc[ix, 'found_buffer_elevation'] = False\n",
    "        #print(bla)"
   ]
  },
  {
   "cell_type": "markdown",
   "metadata": {},
   "source": [
    "## Find watershed where each spring is located in\n",
    "\n",
    "### Load watershed shapefile"
   ]
  },
  {
   "cell_type": "code",
   "execution_count": 20,
   "metadata": {},
   "outputs": [
    {
     "data": {
      "text/html": [
       "<div>\n",
       "<style scoped>\n",
       "    .dataframe tbody tr th:only-of-type {\n",
       "        vertical-align: middle;\n",
       "    }\n",
       "\n",
       "    .dataframe tbody tr th {\n",
       "        vertical-align: top;\n",
       "    }\n",
       "\n",
       "    .dataframe thead th {\n",
       "        text-align: right;\n",
       "    }\n",
       "</style>\n",
       "<table border=\"1\" class=\"dataframe\">\n",
       "  <thead>\n",
       "    <tr style=\"text-align: right;\">\n",
       "      <th></th>\n",
       "      <th>BASIN_ID</th>\n",
       "      <th>NEXT_DN</th>\n",
       "      <th>MAIN_BAS</th>\n",
       "      <th>UP_AREA</th>\n",
       "      <th>SUB_AREA</th>\n",
       "      <th>DIST_DN</th>\n",
       "      <th>PFAF_1</th>\n",
       "      <th>PFAF_2</th>\n",
       "      <th>PFAF_3</th>\n",
       "      <th>PFAF_4</th>\n",
       "      <th>PFAF_5</th>\n",
       "      <th>PFAF_6</th>\n",
       "      <th>PFAF_7</th>\n",
       "      <th>PFAF_8</th>\n",
       "      <th>PFAF_9</th>\n",
       "      <th>PFAF_10</th>\n",
       "      <th>PFAF_11</th>\n",
       "      <th>PFAF_12</th>\n",
       "      <th>PFAF_13</th>\n",
       "      <th>geometry</th>\n",
       "    </tr>\n",
       "  </thead>\n",
       "  <tbody>\n",
       "    <tr>\n",
       "      <th>0</th>\n",
       "      <td>2000001</td>\n",
       "      <td>0</td>\n",
       "      <td>2000001</td>\n",
       "      <td>5.1</td>\n",
       "      <td>5.1</td>\n",
       "      <td>0.0</td>\n",
       "      <td>2</td>\n",
       "      <td>21</td>\n",
       "      <td>211</td>\n",
       "      <td>2110</td>\n",
       "      <td>21101</td>\n",
       "      <td>211011</td>\n",
       "      <td>2110110</td>\n",
       "      <td>21101100</td>\n",
       "      <td>211011000</td>\n",
       "      <td>2110110000</td>\n",
       "      <td>21101100000</td>\n",
       "      <td>211011000000</td>\n",
       "      <td>2110110000000</td>\n",
       "      <td>POLYGON ((32.32083 31.26667, 32.27500 31.26667...</td>\n",
       "    </tr>\n",
       "    <tr>\n",
       "      <th>1</th>\n",
       "      <td>2000002</td>\n",
       "      <td>0</td>\n",
       "      <td>2000002</td>\n",
       "      <td>6264.1</td>\n",
       "      <td>157.7</td>\n",
       "      <td>0.0</td>\n",
       "      <td>2</td>\n",
       "      <td>21</td>\n",
       "      <td>211</td>\n",
       "      <td>2110</td>\n",
       "      <td>21101</td>\n",
       "      <td>211012</td>\n",
       "      <td>2110120</td>\n",
       "      <td>21101201</td>\n",
       "      <td>211012010</td>\n",
       "      <td>2110120101</td>\n",
       "      <td>21101201011</td>\n",
       "      <td>211012010110</td>\n",
       "      <td>2110120101100</td>\n",
       "      <td>POLYGON ((32.22500 30.97500, 32.22689 30.98144...</td>\n",
       "    </tr>\n",
       "    <tr>\n",
       "      <th>2</th>\n",
       "      <td>2000003</td>\n",
       "      <td>0</td>\n",
       "      <td>2000003</td>\n",
       "      <td>5.0</td>\n",
       "      <td>5.0</td>\n",
       "      <td>0.0</td>\n",
       "      <td>2</td>\n",
       "      <td>21</td>\n",
       "      <td>211</td>\n",
       "      <td>2110</td>\n",
       "      <td>21101</td>\n",
       "      <td>211013</td>\n",
       "      <td>2110130</td>\n",
       "      <td>21101301</td>\n",
       "      <td>211013010</td>\n",
       "      <td>2110130101</td>\n",
       "      <td>21101301010</td>\n",
       "      <td>211013010100</td>\n",
       "      <td>2110130101000</td>\n",
       "      <td>POLYGON ((32.32083 31.24583, 32.31842 31.26053...</td>\n",
       "    </tr>\n",
       "    <tr>\n",
       "      <th>3</th>\n",
       "      <td>2000004</td>\n",
       "      <td>0</td>\n",
       "      <td>2000004</td>\n",
       "      <td>113.3</td>\n",
       "      <td>113.3</td>\n",
       "      <td>0.0</td>\n",
       "      <td>2</td>\n",
       "      <td>21</td>\n",
       "      <td>211</td>\n",
       "      <td>2110</td>\n",
       "      <td>21101</td>\n",
       "      <td>211013</td>\n",
       "      <td>2110130</td>\n",
       "      <td>21101301</td>\n",
       "      <td>211013010</td>\n",
       "      <td>2110130102</td>\n",
       "      <td>21101301020</td>\n",
       "      <td>211013010200</td>\n",
       "      <td>2110130102000</td>\n",
       "      <td>POLYGON ((32.34583 31.08750, 32.33828 31.08966...</td>\n",
       "    </tr>\n",
       "    <tr>\n",
       "      <th>4</th>\n",
       "      <td>2000005</td>\n",
       "      <td>0</td>\n",
       "      <td>2000005</td>\n",
       "      <td>49.6</td>\n",
       "      <td>49.6</td>\n",
       "      <td>0.0</td>\n",
       "      <td>2</td>\n",
       "      <td>21</td>\n",
       "      <td>211</td>\n",
       "      <td>2110</td>\n",
       "      <td>21101</td>\n",
       "      <td>211013</td>\n",
       "      <td>2110130</td>\n",
       "      <td>21101301</td>\n",
       "      <td>211013010</td>\n",
       "      <td>2110130103</td>\n",
       "      <td>21101301030</td>\n",
       "      <td>211013010300</td>\n",
       "      <td>2110130103000</td>\n",
       "      <td>POLYGON ((32.50417 31.10833, 32.50174 31.11007...</td>\n",
       "    </tr>\n",
       "  </tbody>\n",
       "</table>\n",
       "</div>"
      ],
      "text/plain": [
       "   BASIN_ID  NEXT_DN  MAIN_BAS  UP_AREA  SUB_AREA  DIST_DN  PFAF_1  PFAF_2  \\\n",
       "0   2000001        0   2000001      5.1       5.1      0.0       2      21   \n",
       "1   2000002        0   2000002   6264.1     157.7      0.0       2      21   \n",
       "2   2000003        0   2000003      5.0       5.0      0.0       2      21   \n",
       "3   2000004        0   2000004    113.3     113.3      0.0       2      21   \n",
       "4   2000005        0   2000005     49.6      49.6      0.0       2      21   \n",
       "\n",
       "   PFAF_3  PFAF_4  PFAF_5  PFAF_6   PFAF_7    PFAF_8     PFAF_9     PFAF_10  \\\n",
       "0     211    2110   21101  211011  2110110  21101100  211011000  2110110000   \n",
       "1     211    2110   21101  211012  2110120  21101201  211012010  2110120101   \n",
       "2     211    2110   21101  211013  2110130  21101301  211013010  2110130101   \n",
       "3     211    2110   21101  211013  2110130  21101301  211013010  2110130102   \n",
       "4     211    2110   21101  211013  2110130  21101301  211013010  2110130103   \n",
       "\n",
       "       PFAF_11       PFAF_12        PFAF_13  \\\n",
       "0  21101100000  211011000000  2110110000000   \n",
       "1  21101201011  211012010110  2110120101100   \n",
       "2  21101301010  211013010100  2110130101000   \n",
       "3  21101301020  211013010200  2110130102000   \n",
       "4  21101301030  211013010300  2110130103000   \n",
       "\n",
       "                                            geometry  \n",
       "0  POLYGON ((32.32083 31.26667, 32.27500 31.26667...  \n",
       "1  POLYGON ((32.22500 30.97500, 32.22689 30.98144...  \n",
       "2  POLYGON ((32.32083 31.24583, 32.31842 31.26053...  \n",
       "3  POLYGON ((32.34583 31.08750, 32.33828 31.08966...  \n",
       "4  POLYGON ((32.50417 31.10833, 32.50174 31.11007...  "
      ]
     },
     "execution_count": 20,
     "metadata": {},
     "output_type": "execute_result"
    }
   ],
   "source": [
    "# load watershed file\n",
    "fnw = 'GIS_data/eu_pfaf_gamma.shp'\n",
    "\n",
    "dgw = gp.read_file(fnw)\n",
    "\n",
    "dgw.head()"
   ]
  },
  {
   "cell_type": "markdown",
   "metadata": {},
   "source": [
    "### Crop the shapefile"
   ]
  },
  {
   "cell_type": "code",
   "execution_count": 21,
   "metadata": {},
   "outputs": [
    {
     "data": {
      "text/plain": [
       "<matplotlib.axes._subplots.AxesSubplot at 0x11e530fd0>"
      ]
     },
     "execution_count": 21,
     "metadata": {},
     "output_type": "execute_result"
    },
    {
     "data": {
      "image/png": "[encoded data removed]",
      "text/plain": [
       "<Figure size 432x288 with 1 Axes>"
      ]
     },
     "metadata": {
      "needs_background": "light"
     },
     "output_type": "display_data"
    }
   ],
   "source": [
    "buffer = 0.5\n",
    "xmin, ymin, xmax, ymax = alps_poly.bounds\n",
    "\n",
    "xmin -= buffer\n",
    "xmax += buffer\n",
    "ymin -= buffer\n",
    "ymax += buffer\n",
    "\n",
    "dgw = dgw.cx[xmin:xmax, ymin:ymax]\n",
    "dgw.plot()"
   ]
  },
  {
   "cell_type": "markdown",
   "metadata": {},
   "source": [
    "### Go through springs and find watershed"
   ]
  },
  {
   "cell_type": "code",
   "execution_count": 22,
   "metadata": {},
   "outputs": [
    {
     "name": "stdout",
     "output_type": "stream",
     "text": [
      "finding watershed for spring 0 of 394\n",
      "finding watershed for spring 100 of 394\n",
      "finding watershed for spring 200 of 394\n",
      "finding watershed for spring 300 of 394\n",
      "finding watershed for spring 0 of 576\n",
      "finding watershed for spring 100 of 576\n",
      "finding watershed for spring 200 of 576\n",
      "finding watershed for spring 300 of 576\n",
      "finding watershed for spring 400 of 576\n",
      "finding watershed for spring 500 of 576\n"
     ]
    }
   ],
   "source": [
    "for i, dgi in enumerate(dgs_final):\n",
    "    dgi['geometry_ws'] = dgi['geometry'].copy()\n",
    "    dgi['watershed_area'] = np.nan\n",
    "    for j, wsid in enumerate(dgi.index):\n",
    "        if int(j/100) == float(j/100.0):\n",
    "            print('finding watershed for spring %i of %i' % (j, len(dgi)))\n",
    "        if dgi.loc[wsid].geometry is not None:\n",
    "            ws_ind = dgw.contains(dgi.loc[wsid].geometry)\n",
    "\n",
    "            if np.any(ws_ind.values):\n",
    "                ws_ind2 = dgw.loc[ws_ind].index[0]\n",
    "                #ws_poly = dgw.loc[ws_ind].dissolve(by='BASIN_ID')\n",
    "\n",
    "                # see issue reported here: https://github.com/pandas-dev/pandas/issues/26333\n",
    "                a = dgw.loc[[ws_ind2]].geometry.values[0]\n",
    "\n",
    "                dgi.loc[[wsid], 'geometry_ws'] = dgw.loc[[ws_ind2], 'geometry'].values\n",
    "                dgi.loc[[wsid], 'watershed_area'] = dgw.loc[[ws_ind2], 'SUB_AREA'].values[0] * 1e6\n",
    "            else:\n",
    "                dgi.loc[[wsid], 'geometry_ws'] = np.nan\n",
    "\n",
    "    # copy back modified watershed file into list\n",
    "    dgs_final[i] = dgi"
   ]
  },
  {
   "cell_type": "markdown",
   "metadata": {},
   "source": [
    "## Process zonal stats in watersheds"
   ]
  },
  {
   "cell_type": "code",
   "execution_count": 23,
   "metadata": {},
   "outputs": [
    {
     "name": "stdout",
     "output_type": "stream",
     "text": [
      "processing zonal statistics watershed areas\n",
      "GIS_data/rch_mod.tif recharge\n",
      "going through spring data\n",
      "and saving in columns ['mean_recharge_ws', 'min_recharge_ws', 'max_recharge_ws']\n",
      "finding recharge stats for spring 0 of 394\n"
     ]
    },
    {
     "name": "stderr",
     "output_type": "stream",
     "text": [
      "/Users/elcopone/opt/miniconda3/lib/python3.7/site-packages/rasterstats/io.py:301: UserWarning: Setting nodata to -999; specify nodata explicitly\n",
      "  warnings.warn(\"Setting nodata to -999; specify nodata explicitly\")\n"
     ]
    },
    {
     "name": "stdout",
     "output_type": "stream",
     "text": [
      "finding recharge stats for spring 100 of 394\n",
      "finding recharge stats for spring 200 of 394\n",
      "finding recharge stats for spring 300 of 394\n",
      "finding recharge stats for spring 0 of 576\n",
      "finding recharge stats for spring 100 of 576\n",
      "finding recharge stats for spring 200 of 576\n",
      "finding recharge stats for spring 300 of 576\n",
      "finding recharge stats for spring 400 of 576\n",
      "finding recharge stats for spring 500 of 576\n",
      "GIS_data/gw_lvl_depth.tif gw_lvl_depth\n",
      "going through spring data\n",
      "and saving in columns ['mean_gw_lvl_depth_ws', 'min_gw_lvl_depth_ws', 'max_gw_lvl_depth_ws']\n",
      "finding gw_lvl_depth stats for spring 0 of 394\n",
      "finding gw_lvl_depth stats for spring 100 of 394\n",
      "finding gw_lvl_depth stats for spring 200 of 394\n",
      "finding gw_lvl_depth stats for spring 300 of 394\n",
      "finding gw_lvl_depth stats for spring 0 of 576\n",
      "finding gw_lvl_depth stats for spring 100 of 576\n",
      "finding gw_lvl_depth stats for spring 200 of 576\n",
      "finding gw_lvl_depth stats for spring 300 of 576\n",
      "finding gw_lvl_depth stats for spring 400 of 576\n",
      "finding gw_lvl_depth stats for spring 500 of 576\n",
      "GIS_data/gw_lvl_elevation.tif gw_lvl_elev\n",
      "going through spring data\n",
      "and saving in columns ['mean_gw_lvl_elev_ws', 'min_gw_lvl_elev_ws', 'max_gw_lvl_elev_ws']\n",
      "finding gw_lvl_elev stats for spring 0 of 394\n",
      "finding gw_lvl_elev stats for spring 100 of 394\n",
      "finding gw_lvl_elev stats for spring 200 of 394\n",
      "finding gw_lvl_elev stats for spring 300 of 394\n",
      "finding gw_lvl_elev stats for spring 0 of 576\n",
      "finding gw_lvl_elev stats for spring 100 of 576\n",
      "finding gw_lvl_elev stats for spring 200 of 576\n",
      "finding gw_lvl_elev stats for spring 300 of 576\n",
      "finding gw_lvl_elev stats for spring 400 of 576\n",
      "finding gw_lvl_elev stats for spring 500 of 576\n",
      "GIS_data/long_term_mean_annual_temp.tif surface_temp\n",
      "going through spring data\n",
      "and saving in columns ['mean_surface_temp_ws', 'min_surface_temp_ws', 'max_surface_temp_ws']\n",
      "finding surface_temp stats for spring 0 of 394\n"
     ]
    },
    {
     "name": "stderr",
     "output_type": "stream",
     "text": [
      "/Users/elcopone/opt/miniconda3/lib/python3.7/site-packages/numpy/core/_methods.py:38: RuntimeWarning: overflow encountered in reduce\n",
      "  return umr_sum(a, axis, dtype, out, keepdims, initial, where)\n"
     ]
    },
    {
     "name": "stdout",
     "output_type": "stream",
     "text": [
      "finding surface_temp stats for spring 100 of 394\n",
      "finding surface_temp stats for spring 200 of 394\n",
      "finding surface_temp stats for spring 300 of 394\n",
      "finding surface_temp stats for spring 0 of 576\n",
      "finding surface_temp stats for spring 100 of 576\n",
      "finding surface_temp stats for spring 200 of 576\n",
      "finding surface_temp stats for spring 300 of 576\n",
      "finding surface_temp stats for spring 400 of 576\n",
      "finding surface_temp stats for spring 500 of 576\n",
      "GIS_data/gmted2010_alps_ll.tif elevation\n",
      "going through spring data\n",
      "and saving in columns ['mean_elevation_ws', 'min_elevation_ws', 'max_elevation_ws']\n",
      "finding elevation stats for spring 0 of 394\n",
      "finding elevation stats for spring 100 of 394\n",
      "finding elevation stats for spring 200 of 394\n",
      "finding elevation stats for spring 300 of 394\n",
      "finding elevation stats for spring 0 of 576\n",
      "finding elevation stats for spring 100 of 576\n",
      "finding elevation stats for spring 200 of 576\n",
      "finding elevation stats for spring 300 of 576\n",
      "finding elevation stats for spring 400 of 576\n",
      "finding elevation stats for spring 500 of 576\n"
     ]
    }
   ],
   "source": [
    "print('processing zonal statistics watershed areas')\n",
    "\n",
    "rasters_zs = [r for r, yn in zip(raster_files, process_zonal_stats) if yn is True]\n",
    "var_names_zs = [v for v, yn in zip(variable_names, process_zonal_stats) if yn is True]\n",
    "                                   \n",
    "for raster, var_name in zip(rasters_zs, var_names_zs):\n",
    "    \n",
    "    print(raster, var_name)                               \n",
    "                                   \n",
    "    raster = rio.open(raster)\n",
    "    zr = raster.read(1)\n",
    "    \n",
    "    #affine = raster.transform\n",
    "    # alternative for rasterio pre version 1.0:\n",
    "    affine = raster.affine\n",
    "    \n",
    "    zs_cols = ['mean_%s_ws' % var_name, 'min_%s_ws'  % var_name, 'max_%s_ws'  % var_name]\n",
    "    stats =['mean', 'min', 'max']\n",
    "\n",
    "    print('going through spring data')\n",
    "    print('and saving in columns %s' % zs_cols)\n",
    "    for i, dgi in enumerate(dgs_final):\n",
    "        \n",
    "        for zs_col in zs_cols:\n",
    "            dgi[zs_col] = np.nan\n",
    "        #dgi['min_elevation_ws'] = np.nan\n",
    "        #dgi['max_elevation_ws'] = np.nan\n",
    "        #dgi['mean_elevation_ws'] = np.nan\n",
    "\n",
    "        for j, springid in enumerate(dgi.index):\n",
    "            if int(j/100) == float(j/100.0):\n",
    "                print('finding %s stats for spring %i of %i' % (var_name, j, len(dgi)))\n",
    "                \n",
    "\n",
    "            #try:\n",
    "            if dgi.loc[springid, 'geometry_ws'] is not None:\n",
    "                zs = zonal_stats(dgi.loc[springid, 'geometry_ws'], \n",
    "                                 zr, affine=affine, stats=stats)\n",
    "\n",
    "                dgi.loc[springid, zs_cols[0]] = zs[0][stats[0]]\n",
    "                dgi.loc[springid, zs_cols[1]] = zs[0][stats[1]]\n",
    "                dgi.loc[springid, zs_cols[2]] = zs[0][stats[2]]\n",
    "\n",
    "            #except:\n",
    "                #print('failed to find zonal stats for spring ',j, springid)\n",
    "            #    pass\n",
    "            \n",
    "        # copy back modified watershed file into list\n",
    "        dgs_final[i] = dgi\n",
    "    \n",
    "#\n",
    "for i, dgi in enumerate(dgs_final):\n",
    "    # calculate relief\n",
    "    dgs_final[i]['ws_relief'] = dgs[i]['max_elevation_ws'] - dgs[i]['min_elevation_ws']"
   ]
  },
  {
   "cell_type": "markdown",
   "metadata": {},
   "source": [
    "## Calculate relief in a x km circle around each spring"
   ]
  },
  {
   "cell_type": "code",
   "execution_count": 24,
   "metadata": {},
   "outputs": [],
   "source": [
    "calculate_relief_in_circular_area = False\n",
    "if calculate_relief_in_circular_area is True:\n",
    "\n",
    "    #relief_windows = [0.05, 0.1, 0.25, 0.5]\n",
    "    relief_radius = np.array([1, 5, 10, 50])\n",
    "\n",
    "    relief_radius_long = relief_radius/ dlong\n",
    "    relief_radius_lat = relief_radius / dlat\n",
    "\n",
    "    #dlong = haversine(long_avg, lat_avg, long_avg + 1, lat_avg)\n",
    "    #dlat = haversine(long_avg, lat_avg, long_avg, lat_avg + 1.0)\n",
    "    #def haversine(lon1, lat1, lon2, lat2):\n",
    "\n",
    "    for dfi, dgi in enumerate(dgs_final):\n",
    "\n",
    "        for radius, crx_long, cry_lat in zip(relief_radius, relief_radius_long, relief_radius_lat):\n",
    "            print('finding relief in a radius of %0.3f km, which is ~ %0.3f x %0.3f degrees' % (radius, crx_long, cry_lat))\n",
    "            for i, ix in enumerate(dg.index):\n",
    "\n",
    "                xpi = dg.loc[ix, 'long']\n",
    "                ypi = dg.loc[ix, 'lat']\n",
    "\n",
    "                # find the edges of the circle in the 2d array\n",
    "                x1 = int(np.floor(((xpi - crx_long) - origin[0]) / cellsize[0])) \n",
    "                x2 = int(np.ceil(((xpi + crx_long) - origin[0]) / cellsize[0])) \n",
    "                y2 = int(np.floor(((ypi - cry_lat) - origin[1]) / cellsize[1])) \n",
    "                y1 = int(np.ceil(((ypi + cry_lat) - origin[1]) / cellsize[1])) \n",
    "\n",
    "                # select the square/region in array where circle is located\n",
    "                xgrs = xgr[y1:y2+1, x1:x2+1]\n",
    "                ygrs = ygr[y1:y2+1, x1:x2+1]\n",
    "                zs = raster_array[y1:y2+1, x1:x2+1]\n",
    "\n",
    "                dgi.loc[ix, 'relief_plus_%0.2fkm' % (radius)] = np.max(zs) - dg.loc[ix, 'elevation']\n",
    "                dgi.loc[ix, 'relief_min_%0.2fkm' % (radius)] = np.min(zs) - dg.loc[ix, 'elevation']\n",
    "\n",
    "        dgs_final[dfi] = dgi"
   ]
  },
  {
   "cell_type": "markdown",
   "metadata": {},
   "source": [
    "## Saving results of geospatial analysis as shapefiles:"
   ]
  },
  {
   "cell_type": "code",
   "execution_count": 25,
   "metadata": {},
   "outputs": [
    {
     "name": "stdout",
     "output_type": "stream",
     "text": [
      "saving geodataframe as data/thermal_springs_alps_with_geospatial_data.shp\n",
      "saving geodataframe as data/random_points_in_alps.shp\n"
     ]
    }
   ],
   "source": [
    "fns = [spring_data_file[:-4] + '_with_geospatial_data.shp', 'data/random_points_in_alps.shp']\n",
    "for dgi, fn in zip(dgs_final, fns):\n",
    "    print('saving geodataframe as %s' % fn)\n",
    "    dgi2 = dgi\n",
    "    dgi2['geometry_ws'] = np.nan\n",
    "    dgi2.to_file(fn, encoding='utf-8')"
   ]
  },
  {
   "cell_type": "markdown",
   "metadata": {},
   "source": [
    "## Saving results as .csv file:"
   ]
  },
  {
   "cell_type": "code",
   "execution_count": 26,
   "metadata": {},
   "outputs": [
    {
     "name": "stdout",
     "output_type": "stream",
     "text": [
      "saving geodataframe as data/thermal_springs_alps_with_geospatial_data.csv\n",
      "saving geodataframe as data/random_points_in_alps.csv\n"
     ]
    }
   ],
   "source": [
    "fns = [spring_data_file[:-4] + '_with_geospatial_data.csv', 'data/random_points_in_alps.csv']\n",
    "for dgi, fn in zip(dgs_final, fns):\n",
    "    print('saving geodataframe as %s' % fn)\n",
    "    dgi2 = dgi\n",
    "    dgi2['geometry_ws'] = np.nan\n",
    "    dgi2.to_csv(fn, index=False, index_label=False, encoding=encoding)"
   ]
  },
  {
   "cell_type": "code",
   "execution_count": null,
   "metadata": {},
   "outputs": [],
   "source": []
  }
 ],
 "metadata": {
  "kernelspec": {
   "display_name": "Python 3",
   "language": "python",
   "name": "python3"
  },
  "language_info": {
   "codemirror_mode": {
    "name": "ipython",
    "version": 3
   },
   "file_extension": ".py",
   "mimetype": "text/x-python",
   "name": "python",
   "nbconvert_exporter": "python",
   "pygments_lexer": "ipython3",
   "version": "3.7.0"
  }
 },
 "nbformat": 4,
 "nbformat_minor": 4
}
