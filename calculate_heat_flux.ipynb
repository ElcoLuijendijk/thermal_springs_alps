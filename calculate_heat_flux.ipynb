{
 "cells": [
  {
   "cell_type": "markdown",
   "metadata": {},
   "source": [
    "# Calculate contributing area, recharge temperature and heat flux of thermal springs\n",
    "\n",
    "This notebook uses estimates of groundwater recharge and recorde average discharge of springs to calculate the contributing area of each spring, ie the area that contributes groundwater recharge to each spring. It then draws a circle of the size of the contributing area around each spring and records the minimum and maximum surface elevation in this circle using digital elevation data. This can then be used to estimate the minimum and maximum infiltration temperature of the water that feeds the thermal springs. THis is useful for calculating the heat flow of each spring.\n",
    "\n",
    "**Input:** ``data/data/thermal_springs_alps_with_geospatial_data.csv`` -> spring dataset with the results of the geospatial data analysis obtained with the ``GIS_analysis_spring_data.ipynb`` notebook.\n",
    "\n",
    "**Output:** input filename with ``_with_HF_estimates.csv`` appended to it -> contains additional columns for the estimated recharge temperature, the contributing area and the spring heat flux "
   ]
  },
  {
   "cell_type": "code",
   "execution_count": 64,
   "metadata": {},
   "outputs": [],
   "source": [
    "import math\n",
    "import itertools\n",
    "import string\n",
    "import chardet\n",
    "\n",
    "import numpy as np\n",
    "import pandas as pd\n",
    "import geopandas as gp\n",
    "import scipy.stats\n",
    "\n",
    "import shapely.geometry as gm\n",
    "import matplotlib.pyplot as pl\n",
    "\n",
    "#import lib.pyGISlib as pyGISlib\n",
    "\n",
    "import lib.various_functions as vf"
   ]
  },
  {
   "cell_type": "markdown",
   "metadata": {},
   "source": [
    "## Parameters"
   ]
  },
  {
   "cell_type": "code",
   "execution_count": 65,
   "metadata": {},
   "outputs": [],
   "source": [
    "# define locations of spring and raster files. change this to the locations on your own machine or server:\n",
    "spring_data_file = 'data/thermal_springs_alps_with_geospatial_data.csv'\n",
    "\n",
    "# shapefile with outline of the Alps\n",
    "fnb = 'GIS_data/outline_alps_final.shp'\n",
    "\n",
    "# min. difference between recharge and spring temp to be considered a thermal spring\n",
    "temp_cutoff_thermal_springs = 5.0\n",
    "\n",
    "# \n",
    "g = 9.81\n",
    "\n",
    "# specific heat capacity J kg-1 K-1\n",
    "c = 4181.3\n",
    "\n",
    "# fluid density\n",
    "rho = 1000.0\n",
    "\n",
    "#\n",
    "degree_symbol = chr(176)\n",
    "\n",
    "year = 365.25 * 24 * 3600.\n",
    "\n",
    "# average geothermal gradient\n",
    "avg_thermal_gradient = 26e-3\n",
    "\n",
    "# background heat flow density\n",
    "background_HF = 76e-3"
   ]
  },
  {
   "cell_type": "code",
   "execution_count": 66,
   "metadata": {},
   "outputs": [
    {
     "name": "stdout",
     "output_type": "stream",
     "text": [
      "used area of alps of 2.02e+05 km2\n"
     ]
    }
   ],
   "source": [
    "# area of the alps outline shapefile used in GIS_analysis_spring_data.ipynb (m2)\n",
    "#area_alps = 217759312854.528\n",
    "\n",
    "# read shapefile with bnd Alps:\n",
    "dgb = gp.read_file(fnb)\n",
    "\n",
    "# convert to UTM to calculate area. UTM 32N = epsg: 32632\n",
    "dgbu = dgb.to_crs({'init': 'epsg:32632'})\n",
    "area_alps = dgbu.geometry.area[0]\n",
    "\n",
    "print('used area of alps of %0.2e km2' % (area_alps / 1e6))"
   ]
  },
  {
   "cell_type": "markdown",
   "metadata": {},
   "source": [
    "## Load the thermal springs csv file"
   ]
  },
  {
   "cell_type": "code",
   "execution_count": 67,
   "metadata": {},
   "outputs": [
    {
     "name": "stdout",
     "output_type": "stream",
     "text": [
      "UTF-8-SIG\n"
     ]
    }
   ],
   "source": [
    "def find_encoding(fname):\n",
    "    r_file = open(fname, 'rb').read()\n",
    "    result = chardet.detect(r_file)\n",
    "    charenc = result['encoding']\n",
    "    return charenc\n",
    "\n",
    "\n",
    "encoding = find_encoding(spring_data_file)\n",
    "print(encoding)"
   ]
  },
  {
   "cell_type": "code",
   "execution_count": 68,
   "metadata": {},
   "outputs": [],
   "source": [
    "df = pd.read_csv(spring_data_file, encoding=encoding)\n",
    "#print('columns in csv file: ', df.columns.tolist())"
   ]
  },
  {
   "cell_type": "markdown",
   "metadata": {},
   "source": [
    "## Get rid of springs without coordinates and convert columns to numeric format:"
   ]
  },
  {
   "cell_type": "code",
   "execution_count": 69,
   "metadata": {},
   "outputs": [
    {
     "name": "stdout",
     "output_type": "stream",
     "text": [
      "394\n"
     ]
    }
   ],
   "source": [
    "# make all data numeric\n",
    "for col in df.columns:\n",
    "    if 'spring' not in col and 'type' not in col:\n",
    "        df[col] = pd.to_numeric(df[col], errors='coerce')\n",
    "    else:\n",
    "        df[col] = df[col]\n",
    "\n",
    "print(len(df))"
   ]
  },
  {
   "cell_type": "markdown",
   "metadata": {},
   "source": [
    "## Convert to geopandas file:\n",
    "(code found here https://gis.stackexchange.com/questions/114066/handling-kml-csv-with-geopandas-drivererror-unsupported-driver-ucsv)"
   ]
  },
  {
   "cell_type": "code",
   "execution_count": 70,
   "metadata": {},
   "outputs": [],
   "source": [
    "df['geometry'] = df.apply(lambda z: gm.Point(z['long'], z['lat']), axis=1)\n",
    "dg = gp.GeoDataFrame(df)"
   ]
  },
  {
   "cell_type": "code",
   "execution_count": 71,
   "metadata": {},
   "outputs": [],
   "source": [
    "## Some stats"
   ]
  },
  {
   "cell_type": "code",
   "execution_count": 72,
   "metadata": {},
   "outputs": [
    {
     "name": "stdout",
     "output_type": "stream",
     "text": [
      "temperature =  count    364.000000\n",
      "mean      22.286951\n",
      "std       14.662780\n",
      "min        3.400000\n",
      "25%       10.450000\n",
      "50%       18.050000\n",
      "75%       31.500000\n",
      "max       70.500000\n",
      "Name: temperature, dtype: float64\n",
      "discharge =  count    241.000000\n",
      "mean       0.011079\n",
      "std        0.033609\n",
      "min        0.000001\n",
      "25%        0.000400\n",
      "50%        0.001700\n",
      "75%        0.006450\n",
      "max        0.305000\n",
      "Name: flow_rate, dtype: float64\n",
      "Empty DataFrame\n",
      "Columns: [spring number, spring location, spring name, long, lat, type, well_depth, flow_rate_mean, flow_rate_min, flow_rate_max, temp_mean, temp_min, temp_max, reference, reference_DOI, reference_link, EC, pH, sample_temperature, TDS, TDS_min, TDS_max, Na, Ca, Mg, K, NH4, Cl, F, SO4, HCO3, CO3, NO3, Si, Li, SiO2, reference_hydrochemistry, doi_hydrochemistry, reference_link_hydrochemistry, delta_18O, delta_2H, 3H, delta_14C, delta_13C, 4He, 3He, reference_isotope_data, DOI_isotope_data, reference_link_isotope_data, temperature, flow_rate, log_flow_rate, log_temperature, geometry, recharge, lithology, gw_lvl_depth, gw_lvl_elev, surface_temp, elevation, contributing_area, log_contrib_area, geometry_ws, watershed_area, mean_recharge_ws, min_recharge_ws, max_recharge_ws, mean_gw_lvl_depth_ws, min_gw_lvl_depth_ws, max_gw_lvl_depth_ws, mean_gw_lvl_elev_ws, min_gw_lvl_elev_ws, max_gw_lvl_elev_ws, mean_surface_temp_ws, min_surface_temp_ws, max_surface_temp_ws, mean_elevation_ws, min_elevation_ws, max_elevation_ws, ws_relief]\n",
      "Index: []\n",
      "\n",
      "[0 rows x 80 columns]\n"
     ]
    }
   ],
   "source": [
    "print('temperature = ', df['temperature'].describe())\n",
    "print('discharge = ', df['flow_rate'].describe())\n",
    "\n",
    "ind = df['flow_rate'] == 0\n",
    "print(df.loc[ind])"
   ]
  },
  {
   "cell_type": "markdown",
   "metadata": {},
   "source": [
    "## Remove non-thermal springs"
   ]
  },
  {
   "cell_type": "code",
   "execution_count": 73,
   "metadata": {},
   "outputs": [
    {
     "name": "stdout",
     "output_type": "stream",
     "text": [
      "temp < infiltration temp 53\n",
      "nan temp values  30\n",
      "83\n",
      "     temperature  min_surface_temp_ws\n",
      "15           NaN            -5.620833\n",
      "27          4.80             0.562500\n",
      "29          3.40             1.387500\n",
      "32          5.90             2.491667\n",
      "57         14.60            12.133333\n",
      "..           ...                  ...\n",
      "371         6.85             3.970833\n",
      "373         7.00             3.970833\n",
      "385          NaN             1.416667\n",
      "386         4.85             1.416667\n",
      "387         5.70             1.416667\n",
      "\n",
      "[83 rows x 2 columns]\n",
      "394 311\n"
     ]
    }
   ],
   "source": [
    "non_thermal_ind1 = ((dg['temperature'] - temp_cutoff_thermal_springs) < dg['min_surface_temp_ws'])\n",
    "print('temp < infiltration temp', np.sum(non_thermal_ind1))\n",
    "\n",
    "non_thermal_ind2 = dg['temperature'].isnull()\n",
    "print('nan temp values ', np.sum(non_thermal_ind2))\n",
    "\n",
    "non_thermal_ind = ((dg['temperature'] - temp_cutoff_thermal_springs) < dg['min_surface_temp_ws']) | dg['temperature'].isnull()\n",
    "print(np.sum(non_thermal_ind))\n",
    "print(dg.loc[non_thermal_ind, ['temperature', 'min_surface_temp_ws']])\n",
    "print(len(dg), len(dg.loc[non_thermal_ind==False]))"
   ]
  },
  {
   "cell_type": "code",
   "execution_count": 74,
   "metadata": {},
   "outputs": [
    {
     "name": "stdout",
     "output_type": "stream",
     "text": [
      "remaining springs = 311\n"
     ]
    }
   ],
   "source": [
    "dg_nt = dg.loc[non_thermal_ind]\n",
    "dg_nt.to_csv('data/non_thermal_springs.csv')\n",
    "\n",
    "dg = dg.loc[non_thermal_ind==False]\n",
    "print('remaining springs = %i' % (len(dg)))"
   ]
  },
  {
   "cell_type": "code",
   "execution_count": null,
   "metadata": {},
   "outputs": [],
   "source": []
  },
  {
   "cell_type": "markdown",
   "metadata": {},
   "source": [
    "### Create dataframe to store summary results"
   ]
  },
  {
   "cell_type": "code",
   "execution_count": 75,
   "metadata": {},
   "outputs": [],
   "source": [
    "#cols = ['n_springs_total', 'n_springs_with_HF_data', \n",
    "#        'spring_density', \n",
    "#        'total_HF_min', 'total_HF_max', \n",
    "#        'total_HF_min_est', 'total_HF_max_est', \n",
    "#        'circulation_temp_min', 'circulation_temp_max',\n",
    "#        'HF_up_min', 'HF_up_max', 'HF_down_min', 'HF_down_max']\n",
    "\n",
    "cols = []\n",
    "\n",
    "ind = ['Alps']\n",
    "\n",
    "dfr = pd.DataFrame(index=ind, columns=cols)\n",
    "#dfr.head()"
   ]
  },
  {
   "cell_type": "markdown",
   "metadata": {},
   "source": [
    "## Calculate the contributing area for each spring \n",
    "\n",
    "by dividing discharge (m3/sec) by recharge (m/s):"
   ]
  },
  {
   "cell_type": "code",
   "execution_count": 76,
   "metadata": {},
   "outputs": [
    {
     "name": "stdout",
     "output_type": "stream",
     "text": [
      "statistics contributing area:\n",
      " count    1.980000e+02\n",
      "mean     5.955481e+05\n",
      "std      1.873172e+06\n",
      "min      1.468059e+02\n",
      "25%      2.245289e+04\n",
      "50%      8.472520e+04\n",
      "75%      3.740563e+05\n",
      "max      1.590481e+07\n",
      "Name: contributing_area, dtype: float64\n"
     ]
    }
   ],
   "source": [
    "dg['contributing_area'] = dg['flow_rate_mean'] / (dg['recharge'] /year)\n",
    "print('statistics contributing area:\\n', dg['contributing_area'].describe())"
   ]
  },
  {
   "cell_type": "markdown",
   "metadata": {},
   "source": [
    "## Get the min., best and max  recharge temperature"
   ]
  },
  {
   "cell_type": "code",
   "execution_count": 77,
   "metadata": {},
   "outputs": [],
   "source": [
    "dg['recharge_temp_max'] = dg['surface_temp']\n",
    "dg['recharge_temp_min'] = dg['min_surface_temp_ws']\n",
    "#dg['recharge_temp_min'] = dg['min_surface_temp_ws']\n",
    "\n",
    "dg['recharge_temp_best'] = (dg['surface_temp'] + dg['min_surface_temp_ws']) / 2.0\n",
    "\n",
    "freezing = dg['recharge_temp_min'] < 0\n",
    "dg.loc[freezing, 'recharge_temp_min'] = 0.0\n",
    "\n",
    "freezing = dg['recharge_temp_best'] < 0\n",
    "dg.loc[freezing, 'recharge_temp_best'] = 0.0"
   ]
  },
  {
   "cell_type": "markdown",
   "metadata": {},
   "source": [
    "## Get the min., best and max recharge elevation"
   ]
  },
  {
   "cell_type": "code",
   "execution_count": 78,
   "metadata": {},
   "outputs": [],
   "source": [
    "dg['rch_elev_max'] = dg['max_elevation_ws']\n",
    "dg['rch_elev_min'] = dg['elevation']\n",
    "dg['rch_elev_best'] = (dg['max_elevation_ws'] + dg['elevation']) / 2.0"
   ]
  },
  {
   "cell_type": "markdown",
   "metadata": {},
   "source": [
    "## Calculate circulation temperature based on SiO2"
   ]
  },
  {
   "cell_type": "code",
   "execution_count": 79,
   "metadata": {},
   "outputs": [
    {
     "name": "stdout",
     "output_type": "stream",
     "text": [
      "mean circulation temp = 6.80e+01 (5.60e+01 - 7.61e+01) degr. C\n"
     ]
    }
   ],
   "source": [
    "ind_ok = dg['SiO2'] > 5.0\n",
    "circ_temps = vf.SI_geothermometers(dg.loc[ind_ok, 'SiO2'].values)\n",
    "dg.loc[ind_ok, 'circulation_temp_best'] = circ_temps[0]\n",
    "dg.loc[ind_ok, 'circulation_temp_min'] = circ_temps[1]\n",
    "dg.loc[ind_ok, 'circulation_temp_max'] = circ_temps[2]\n",
    "\n",
    "print('mean circulation temp = %0.2e (%0.2e - %0.2e) degr. C' \n",
    "      % (dg['circulation_temp_best'].mean(), \n",
    "         dg['circulation_temp_min'].mean(), \n",
    "         dg['circulation_temp_max'].mean()))"
   ]
  },
  {
   "cell_type": "markdown",
   "metadata": {},
   "source": [
    "## Calculate circulation depth"
   ]
  },
  {
   "cell_type": "code",
   "execution_count": 80,
   "metadata": {},
   "outputs": [
    {
     "name": "stdout",
     "output_type": "stream",
     "text": [
      "mean circulation depth = 2.28e+03 (1.82e+03 - 2.59e+03) m\n"
     ]
    }
   ],
   "source": [
    "dg['circ_depth_best'] = (dg['circulation_temp_best'] - dg['surface_temp']) / avg_thermal_gradient\n",
    "dg['circ_depth_min'] = (dg['circulation_temp_min'] - dg['surface_temp']) / avg_thermal_gradient\n",
    "dg['circ_depth_max'] = (dg['circulation_temp_max'] - dg['surface_temp']) / avg_thermal_gradient\n",
    "\n",
    "print('mean circulation depth = %0.2e (%0.2e - %0.2e) m' \n",
    "      % (dg['circ_depth_best'].mean(), dg['circ_depth_min'].mean(), dg['circ_depth_max'].mean()))"
   ]
  },
  {
   "cell_type": "markdown",
   "metadata": {},
   "source": [
    "## Estimate h at max circulation depth"
   ]
  },
  {
   "cell_type": "code",
   "execution_count": 81,
   "metadata": {},
   "outputs": [],
   "source": [
    "dg['h_circ_depth'] = (dg['elevation'] + dg['max_gw_lvl_elev_ws']) / 2.0"
   ]
  },
  {
   "cell_type": "markdown",
   "metadata": {},
   "source": [
    "## Calculate the heat flux of each spring. \n",
    "\n",
    "This is the product of the difference between recharge temperature and discharge temperature of the spring, the discharge of the spring and the heat capacity and density of the spring water."
   ]
  },
  {
   "cell_type": "code",
   "execution_count": 82,
   "metadata": {},
   "outputs": [],
   "source": [
    "def calc_net_heat_flow(Q, h1, h2, T1, T2, rho=1000.0, g=9.81, c=4181.3):\n",
    "    \n",
    "    viscous_dissipation = rho * g * (h1 - h2) * Q\n",
    "    # kg m-3 m s-2 m = kg m-1 s-2 = W\n",
    "    \n",
    "    H_init = rho * c * (T2 - T1) * Q\n",
    "    # kg m-3 J K-1 kg-1 K m3 s-1 = J s-1 = W\n",
    "    \n",
    "    H = H_init - viscous_dissipation\n",
    "    \n",
    "    return H, H_init, viscous_dissipation\n",
    "\n",
    "\n",
    "minmaxs = ['min', 'best', 'max']\n",
    "\n",
    "for mm, mmi in zip(minmaxs, minmaxs[::-1]):\n",
    "\n",
    "    Ts = [dg['recharge_temp_%s' % mmi], dg['circulation_temp_%s' % mm], dg['temperature']]\n",
    "    hs = [dg['rch_elev_%s' % mmi], dg['h_circ_depth'], dg['elevation']]\n",
    "\n",
    "    H_labels = ['down', 'up']\n",
    "\n",
    "    for label, T1, T2, h1, h2 in zip(H_labels, Ts[:-1], Ts[1:], hs[:-1], hs[1:]):\n",
    "        H, H_init, Hv = calc_net_heat_flow(dg['flow_rate'], h1, h2, T1, T2, rho=rho, g=g, c=c)\n",
    "\n",
    "        dg['H_%s_%s' % (label, mm)] = H\n",
    "        #dg['Hi_%s_%s' % (label, mm)] = H_init\n",
    "        dg['Hv_%s_%s' % (label, mm)] = Hv\n",
    "        #dg['H_div_Hv_%s_%s' % (label, mm)] = H / Hv\n",
    "        \n",
    "        # remove <0 heat flux estimates\n",
    "        if label == 'down':\n",
    "            ind_lz = dg['H_%s_%s' % (label, mm)] < 0.0\n",
    "            dg.loc[ind_lz, 'H_%s_%s' % (label, mm)] = 0.0\n",
    "        elif label == 'up':\n",
    "            ind_lz = dg['H_%s_%s' % (label, mm)] > 0.0\n",
    "            dg.loc[ind_lz, 'H_%s_%s' % (label, mm)] = 0.0\n",
    "            \n",
    "    H, Ht, Hv = calc_net_heat_flow(dg['flow_rate'], hs[0], hs[-1], Ts[0], Ts[-1], rho=rho, g=g, c=c)\n",
    "\n",
    "    label = 'net'\n",
    "    dg['H_%s_%s' % (label, mm)] = H\n",
    "    #dg['Ht_%s_%s' % (label, mm)] = Ht\n",
    "    dg['Hv_%s_%s' % (label, mm)] = Hv\n",
    "    #dg['Hv_div_H_%s_%s' % (label, mm)] = Hv / H\n",
    "    #dg['Hv_div_Ht_%s_%s' % (label, mm)] = Hv / Ht\n",
    "    \n",
    "    # remove <0 heat flux estimates\n",
    "    ind_lz = dg['H_%s_%s' % (label, mm)] < 0.0\n",
    "    dg.loc[ind_lz, 'H_%s_%s' % (label, mm)] = 0.0"
   ]
  },
  {
   "cell_type": "markdown",
   "metadata": {},
   "source": [
    "## Summarize and store results"
   ]
  },
  {
   "cell_type": "code",
   "execution_count": 83,
   "metadata": {},
   "outputs": [],
   "source": [
    "ix = 'Alps'\n",
    "H_labels = ['net', 'down', 'up']\n",
    "\n",
    "dfr.loc[ix, 'total_background_HF_MW'] = background_HF * area_alps / 1e6\n",
    "\n",
    "for mm in minmaxs:\n",
    "    for l in H_labels:\n",
    "        dfr.loc[ix, 'total_H_%s_%s_MW' % (l, mm)] = dg['H_%s_%s' % (l, mm)].sum() / 1e6\n",
    "        \n",
    "        dfr.loc[ix, 'total_Hv_%s_%s_MW' % (l, mm)] = dg['Hv_%s_%s' % (l, mm)].sum() / 1e6\n",
    "        \n",
    "        dfr.loc[ix, 'total_H_%s_%s_mW_m-2' % (l, mm)] = \\\n",
    "            dfr.loc[ix, 'total_H_%s_%s_MW' % (l, mm)]  * 1e6 / area_alps * 1000.0\n",
    "        \n",
    "        dfr.loc[ix, 'total_H_%s_%s_as_perc_of_background_HF' % (l, mm)] = \\\n",
    "            dfr.loc[ix, 'total_H_%s_%s_MW' % (l, mm)] / dfr.loc[ix, 'total_background_HF_MW'] * 100.0\n",
    "        \n",
    "        dfr.loc[ix, 'n_springs_with_H_%s_data' % l] = len(dg['H_%s_%s' % (l, mm)].dropna())\n",
    "        \n",
    "        dfr.loc[ix, 'spring_density_%s_per_km2' % l] = \\\n",
    "            dfr.loc[ix, 'n_springs_with_H_%s_data' % l] / (area_alps / 1e6)"
   ]
  },
  {
   "cell_type": "markdown",
   "metadata": {},
   "source": [
    "## Calculate net heat flux for springs with circulation depth data"
   ]
  },
  {
   "cell_type": "code",
   "execution_count": 84,
   "metadata": {},
   "outputs": [
    {
     "name": "stdout",
     "output_type": "stream",
     "text": [
      "net heat flow for springs with downward heat flux / circulation temp estimate = 22 - 32 MW\n"
     ]
    }
   ],
   "source": [
    "indd = dg['H_down_best'].notnull()\n",
    "\n",
    "H_net_springs_with_circ = dg.loc[indd, 'H_net_best'].sum() / 1e6\n",
    "H_net_springs_with_circ_min = dg.loc[indd, 'H_net_min'].sum() / 1e6\n",
    "H_net_springs_with_circ_max = dg.loc[indd, 'H_net_max'].sum() / 1e6\n",
    "print('net heat flow for springs with downward heat flux / circulation temp estimate = %0.0f - %0.0f MW'\n",
    "      % (H_net_springs_with_circ_min, H_net_springs_with_circ_max))"
   ]
  },
  {
   "cell_type": "markdown",
   "metadata": {},
   "source": [
    "## Report heat flow estimates"
   ]
  },
  {
   "cell_type": "code",
   "execution_count": 85,
   "metadata": {},
   "outputs": [
    {
     "name": "stdout",
     "output_type": "stream",
     "text": [
      "\n",
      "total net heat flux of 210 of a total of 311 thermal springs in the Alps = 111 (84 - 146) MW\n",
      "\twhich equals a heat flow density of 4.175e-01 - 7.203e-01 mW m-2\n",
      "\twhich equals 0.549 - 0.948 perc of the background heat flux\n",
      "\n",
      "total net viscous dissipation for 210 of a total of 311 thermal springs in the Alps = 14 (29 - 0) MW\n",
      "\n",
      "total down heat flux of 58 of a total of 311 thermal springs in the Alps = 71 (51 - 87) MW\n",
      "\twhich equals a heat flow density of 2.517e-01 - 4.318e-01 mW m-2\n",
      "\twhich equals 0.331 - 0.568 perc of the background heat flux\n",
      "\n",
      "total down viscous dissipation for 58 of a total of 311 thermal springs in the Alps = 2 (17 - -12) MW\n",
      "\n",
      "total up heat flux of 58 of a total of 311 thermal springs in the Alps = -45 (-30 - -56) MW\n",
      "\twhich equals a heat flow density of -1.501e-01 - -2.753e-01 mW m-2\n",
      "\twhich equals -0.197 - -0.362 perc of the background heat flux\n",
      "\n",
      "total up viscous dissipation for 58 of a total of 311 thermal springs in the Alps = 12 (12 - 12) MW\n"
     ]
    }
   ],
   "source": [
    "for l in H_labels:\n",
    "    \n",
    "    print('\\ntotal %s heat flux of %i of a total of %i thermal springs in the Alps = %0.0f (%0.0f - %0.0f) MW' \n",
    "          % (l, \n",
    "             dfr.loc[ix, 'n_springs_with_H_%s_data' % l] , \n",
    "             len(dg),\n",
    "             dfr.loc[ix, 'total_H_%s_best_MW' % l],\n",
    "             dfr.loc[ix, 'total_H_%s_min_MW' % l], \n",
    "             dfr.loc[ix, 'total_H_%s_max_MW' % l]))\n",
    "    \n",
    "    print('\\twhich equals a heat flow density of %0.3e - %0.3e mW m-2' \n",
    "          % (dfr.loc[ix, 'total_H_%s_min_MW' % l] * 1e6 / area_alps * 1e3,\n",
    "             dfr.loc[ix, 'total_H_%s_max_MW' % l] * 1e6 / area_alps * 1e3))\n",
    "    \n",
    "    print('\\twhich equals %0.3f - %0.3f perc of the background heat flux' \n",
    "          % (dfr.loc[ix, 'total_H_%s_min_as_perc_of_background_HF' % l],\n",
    "             dfr.loc[ix, 'total_H_%s_max_as_perc_of_background_HF' % l]))\n",
    "\n",
    "    print('\\ntotal %s viscous dissipation for %i of a total of %i thermal springs in the Alps = %0.0f (%0.0f - %0.0f) MW' \n",
    "      % (l, \n",
    "         dfr.loc[ix, 'n_springs_with_H_%s_data' % l] , \n",
    "         len(dg),\n",
    "         dfr.loc[ix, 'total_Hv_%s_best_MW' % l],\n",
    "         dfr.loc[ix, 'total_Hv_%s_min_MW' % l], \n",
    "         dfr.loc[ix, 'total_Hv_%s_max_MW' % l]))\n",
    "\n"
   ]
  },
  {
   "cell_type": "markdown",
   "metadata": {},
   "source": [
    "## Report spring density"
   ]
  },
  {
   "cell_type": "code",
   "execution_count": 96,
   "metadata": {},
   "outputs": [
    {
     "name": "stdout",
     "output_type": "stream",
     "text": [
      "spring density = 1 spring per x km =  650.662033288625\n",
      "=radius of  14.3913917937153\n"
     ]
    }
   ],
   "source": [
    "print('spring density = 1 spring per x km = ', area_alps / len(dg) / 1e6)\n",
    "print('=radius of ', np.sqrt(area_alps / len(dg) / np.pi) / 1e3)"
   ]
  },
  {
   "cell_type": "markdown",
   "metadata": {},
   "source": [
    "## Calculate thermal footprint"
   ]
  },
  {
   "cell_type": "code",
   "execution_count": 87,
   "metadata": {},
   "outputs": [],
   "source": [
    "H_labels = ['net', 'down', 'up']\n",
    "\n",
    "for label in H_labels:\n",
    "    for mm, mmi in zip(minmaxs, minmaxs[::-1]):\n",
    "        dg['thermal_footprint_%s_%s' % (label, mm)] = \\\n",
    "            np.abs(dg['H_%s_%s' % (label, mm)]) / background_HF\n",
    "        dg['thermal_radius_%s_%s' % (label, mm)] = \\\n",
    "            np.sqrt(np.abs(dg['thermal_footprint_%s_%s' % (label, mm)]) / np.pi)\n"
   ]
  },
  {
   "cell_type": "markdown",
   "metadata": {},
   "source": [
    "## Report thermal footprint"
   ]
  },
  {
   "cell_type": "code",
   "execution_count": 88,
   "metadata": {},
   "outputs": [
    {
     "name": "stdout",
     "output_type": "stream",
     "text": [
      "mean thermal footprint  net = 6.98e+06 (5.29e+06 - 9.13e+06) (m2)\n",
      "mean thermal radius net = 9.89e+02 (7.77e+02 - 1.17e+03) (m)\n",
      "mean thermal footprint  down = 1.62e+07 (1.16e+07 - 1.98e+07) (m2)\n",
      "mean thermal radius down = 1.65e+03 (1.33e+03 - 1.84e+03) (m)\n",
      "mean thermal footprint  up = 1.02e+07 (6.89e+06 - 1.26e+07) (m2)\n",
      "mean thermal radius up = 1.27e+03 (9.37e+02 - 1.45e+03) (m)\n"
     ]
    }
   ],
   "source": [
    "#\n",
    "for label in H_labels:\n",
    "    print('mean thermal footprint  %s = %0.2e (%0.2e - %0.2e) (m2)' \n",
    "          % (label, \n",
    "             dg['thermal_footprint_%s_best' % label].mean(), \n",
    "             dg['thermal_footprint_%s_min' % label].mean(),\n",
    "             dg['thermal_footprint_%s_max' % label].mean()))\n",
    "    print('mean thermal radius %s = %0.2e (%0.2e - %0.2e) (m)' \n",
    "          % (label, \n",
    "             dg['thermal_radius_%s_best' % label].mean(),\n",
    "             dg['thermal_radius_%s_min' % label].mean(),\n",
    "             dg['thermal_radius_%s_max' % label].mean()))\n"
   ]
  },
  {
   "cell_type": "markdown",
   "metadata": {},
   "source": [
    "## Summarize contribution of viscous dissipation"
   ]
  },
  {
   "cell_type": "code",
   "execution_count": 97,
   "metadata": {},
   "outputs": [
    {
     "data": {
      "text/plain": [
       "(count    210.000000\n",
       " mean       0.193311\n",
       " std        0.202895\n",
       " min        0.002663\n",
       " 25%        0.060377\n",
       " 50%        0.121288\n",
       " 75%        0.239062\n",
       " max        1.000000\n",
       " Name: Hv_ratio_best, dtype: float64,\n",
       " count    210.000000\n",
       " mean       0.459409\n",
       " std        0.364788\n",
       " min        0.005380\n",
       " 25%        0.137102\n",
       " 50%        0.326507\n",
       " 75%        0.882419\n",
       " max        1.000000\n",
       " Name: Hv_ratio_min, dtype: float64,\n",
       " count    210.0\n",
       " mean       0.0\n",
       " std        0.0\n",
       " min        0.0\n",
       " 25%        0.0\n",
       " 50%        0.0\n",
       " 75%        0.0\n",
       " max        0.0\n",
       " Name: Hv_ratio_max, dtype: float64)"
      ]
     },
     "execution_count": 97,
     "metadata": {},
     "output_type": "execute_result"
    }
   ],
   "source": [
    "#for mm in minmaxs:\n",
    "#    for l in H_labels:\n",
    "#        dg['Hv_%s_%s' % (label, mm)]\n",
    "\n",
    "dg['Hv_ratio_min'] = dg['Hv_net_min'] / (dg['H_net_min'] + dg['Hv_net_min'])\n",
    "dg['Hv_ratio_best'] = dg['Hv_net_best'] / (dg['H_net_best'] + dg['Hv_net_best'])\n",
    "dg['Hv_ratio_max'] = dg['Hv_net_max'] / (dg['H_net_max'] + dg['Hv_net_max'])\n",
    "\n",
    "dg['Hv_ratio_best'].describe(), dg['Hv_ratio_min'].describe(), dg['Hv_ratio_max'].describe()"
   ]
  },
  {
   "cell_type": "markdown",
   "metadata": {},
   "source": [
    "## Compare thermal springs flux to total groundwater flux"
   ]
  },
  {
   "cell_type": "code",
   "execution_count": 90,
   "metadata": {},
   "outputs": [
    {
     "name": "stdout",
     "output_type": "stream",
     "text": [
      "total recharge = 1.05e+02 km3 a-1\n",
      "contribution to groundwater budget of n=210 springs\n",
      "= 1.88e+00 m3 s^-1 = 2.93e-01 mm a^-1 = 5.65e-02 percent of total recharge in Alps\n"
     ]
    }
   ],
   "source": [
    "total_rch = area_alps * dg['recharge'].mean()\n",
    "\n",
    "year = 365.25 * 24 * 3600.\n",
    "print('total recharge = %0.2e km3 a-1' % (total_rch / 1e9))\n",
    "\n",
    "#print('total discharge = %0.2e m3 s-1 = %0.2e km3 a-1' % (dg['flow_rate'](total_rch / 1e9))\n",
    "\n",
    "print('contribution to groundwater budget of n=%i springs\\n= %0.2e m3 s^-1 = %0.2e mm a^-1 = %0.2e percent of total recharge in Alps' \n",
    "      % (dg['flow_rate'].notnull().sum(), \n",
    "         dg['flow_rate'].sum(),\n",
    "         dg['flow_rate'].sum() * year / area_alps * 1e3,\n",
    "         dg['flow_rate'].sum() * year / total_rch * 100))\n",
    "\n",
    "dg['flow_rate_est'] = dg['flow_rate']\n",
    "ok = dg['flow_rate'].notnull()\n",
    "nok = dg['flow_rate'].isnull()\n",
    "dfr.loc[ix, 'mean_flow_rate'] = dg.loc[ok, 'flow_rate'].mean()\n",
    "dg.loc[nok, 'flow_rate_est'] = dfr.loc[ix, 'mean_flow_rate']\n",
    "\n",
    "dfr.loc[ix, 'n_springs'] = dg['flow_rate_est'].notnull().sum()\n",
    "dfr.loc[ix, 'area_km2'] = area_alps / 1e6\n",
    "dfr.loc[ix, 'median_temperature'] = np.median(dg['temperature'].dropna())\n",
    "dfr.loc[ix, 'total_spring_flux_km3_yr-1'] = (dg['flow_rate'].sum() * year / 1e9)\n",
    "dfr.loc[ix, 'total_spring_flux_est_km3_yr-1'] = (dg['flow_rate_est'].sum() * year / 1e9)\n",
    "dfr.loc[ix, 'total_recharge_km3_yr-1'] =  total_rch / 1e9\n",
    "dfr.loc[ix, 'percentage_of_total_meteoric_gw']  = dg['flow_rate_est'].sum() * year / total_rch * 100.0\n",
    "\n"
   ]
  },
  {
   "cell_type": "markdown",
   "metadata": {},
   "source": [
    "## some more stats"
   ]
  },
  {
   "cell_type": "code",
   "execution_count": 91,
   "metadata": {},
   "outputs": [
    {
     "name": "stdout",
     "output_type": "stream",
     "text": [
      "mean discharge for 210 springs = 8.93e-03 m3/sec\n",
      "mean net heat flux = 5.30e+05 (4.02e+05 - 6.94e+05) W\n"
     ]
    }
   ],
   "source": [
    "print('mean discharge for %i springs = %0.2e m3/sec' % (dg['flow_rate'].notnull().sum(),\n",
    "                                                        dg['flow_rate'].mean()))\n",
    "\n",
    "print('mean net heat flux = %0.2e (%0.2e - %0.2e) W' % (dg['H_net_best'].mean(),\n",
    "                                                       dg['H_net_min'].mean(),\n",
    "                                                       dg['H_net_max'].mean()))\n",
    "\n"
   ]
  },
  {
   "cell_type": "markdown",
   "metadata": {},
   "source": [
    "## Save the modified csv file with the additional heat flux data"
   ]
  },
  {
   "cell_type": "code",
   "execution_count": 92,
   "metadata": {},
   "outputs": [
    {
     "name": "stdout",
     "output_type": "stream",
     "text": [
      "saving modified csv file as  data/thermal_springs_alps_with_HF_estimates.csv\n",
      "done\n"
     ]
    }
   ],
   "source": [
    "spring_data_file_mod = spring_data_file.split('with')[0] + 'with_HF_estimates.csv'\n",
    "\n",
    "print('saving modified csv file as ', spring_data_file_mod)\n",
    "dg.to_csv(spring_data_file_mod, index=False, index_label=False, encoding=encoding)\n",
    "\n",
    "print('done')"
   ]
  },
  {
   "cell_type": "markdown",
   "metadata": {},
   "source": [
    "## Save clean version with the estimate HF values omitted"
   ]
  },
  {
   "cell_type": "code",
   "execution_count": 93,
   "metadata": {},
   "outputs": [],
   "source": [
    "spring_data_file_clean = spring_data_file.split('with')[0] + 'with_HF_estimates_clean.csv'\n",
    "\n",
    "cols_to_save = dg.columns\n",
    "\n",
    "cols_to_save = [c for c in cols_to_save if '_est' not in c]\n",
    "\n",
    "cols_to_save.remove('3He')\n",
    "cols_to_save.remove('4He')\n",
    "\n",
    "dc = dg[cols_to_save]\n",
    "\n",
    "chem_cols = ['TDS', 'TDS_min', 'TDS_max', 'Na', 'Ca', 'Mg', 'K', \n",
    "             'NH4', 'Cl', 'F', 'SO4', 'HCO3', 'CO3', 'NO3', \n",
    "             'Si', 'Li', 'SiO2']\n",
    "\n",
    "# rename columsn to add units\n",
    "for c in cols_to_save:\n",
    "    nc = c\n",
    "    if 'circ_depth' in c:\n",
    "        nc += '_(m)'\n",
    "    elif c[:2] == 'H_':\n",
    "        nc += '_(W)'\n",
    "    elif c[:3] == 'Hv_':\n",
    "        nc += '_(W)'\n",
    "    elif 'depth' in c:\n",
    "        nc += '_(m)'\n",
    "    elif 'temp' in c:\n",
    "        nc += '_(degr_C)'\n",
    "    elif 'footprint' in c:\n",
    "        nc += '_(m^2)'\n",
    "    elif 'radius' in c:\n",
    "        nc += '_(m)'\n",
    "    elif 'elev' in c:\n",
    "        nc += '_(m)'\n",
    "    elif 'relief' in c:\n",
    "        nc += '_(m)'\n",
    "    elif 'gw_lvl' in c:\n",
    "        nc += '_(m)'\n",
    "    elif 'area' in c:\n",
    "        nc += '_(m^2)'\n",
    "    elif 'flow_rate' in c:\n",
    "        nc += '_(m^3_s^-1)'\n",
    "    elif 'recharge' in c:\n",
    "        nc += '_(m_a^-1)'\n",
    "    elif c in chem_cols:\n",
    "        nc += '_(mg L^-1)'\n",
    "    elif c == '3H':\n",
    "        nc += '_(TU)'\n",
    "    elif 'delta_14C' in c:\n",
    "        nc += '_(pmc)'\n",
    "    elif 'delta' in c:\n",
    "        nc += '_(permille)'\n",
    "    elif 'EC' in c:\n",
    "        nc += '_(S_m^-1)'\n",
    "    elif 'long' in c:\n",
    "        nc = 'longitude'\n",
    "    elif 'lat' in c:\n",
    "        nc = 'latitude'\n",
    "    \n",
    "    dc = dc.rename(columns={c:nc})  \n",
    "\n",
    "# sort HF, thermal footprint and thermal radius cols\n",
    "c = dc.columns\n",
    "reorg_cols = ['H_net', 'H_down', 'H_up', 'Hv_net', 'thermal_footprint', 'thermal_radius']\n",
    "\n",
    "nc = c\n",
    "for ri in reorg_cols:\n",
    "    nc = [ci for ci in nc if ri not in ci]\n",
    "\n",
    "nc2 = nc\n",
    "mm = ['best', 'min', 'max']\n",
    "for r in reorg_cols:\n",
    "    for mi in mm:\n",
    "        c1 = [ci for ci in c if r in ci and mi in ci]\n",
    "        if len(c1) > 0:\n",
    "            nc2 += [c1[0]]\n",
    "        \n",
    "dc = dc[nc2]\n",
    "\n",
    "# save csv file\n",
    "#print('saving cleaned csv file with columns ', dc.columns.tolist())\n",
    "\n",
    "#print('saving modified csv file as ', spring_data_file_clean)\n",
    "dc.to_csv(spring_data_file_clean, index=False, index_label=False, encoding=encoding)\n",
    "\n"
   ]
  },
  {
   "cell_type": "markdown",
   "metadata": {},
   "source": [
    "## Save summary csv file"
   ]
  },
  {
   "cell_type": "code",
   "execution_count": 94,
   "metadata": {},
   "outputs": [
    {
     "name": "stdout",
     "output_type": "stream",
     "text": [
      "saving summary data file as data/summary_thermal_springs_data.csv\n"
     ]
    }
   ],
   "source": [
    "summary_file = 'data/summary_thermal_springs_data.csv'\n",
    "print('saving summary data file as %s' % summary_file)\n",
    "dfr.to_csv(summary_file, float_format='%.2f', index_label='dataset')"
   ]
  },
  {
   "cell_type": "code",
   "execution_count": null,
   "metadata": {},
   "outputs": [],
   "source": []
  }
 ],
 "metadata": {
  "kernelspec": {
   "display_name": "Python 3",
   "language": "python",
   "name": "python3"
  },
  "language_info": {
   "codemirror_mode": {
    "name": "ipython",
    "version": 3
   },
   "file_extension": ".py",
   "mimetype": "text/x-python",
   "name": "python",
   "nbconvert_exporter": "python",
   "pygments_lexer": "ipython3",
   "version": "3.7.0"
  }
 },
 "nbformat": 4,
 "nbformat_minor": 4
}
