{
 "cells": [
  {
   "cell_type": "markdown",
   "metadata": {},
   "source": [
    "# Calculate contributing area, recharge temperature and heat flux of thermal springs\n",
    "\n",
    "This notebook uses estimates of groundwater recharge and recorde average discharge of springs to calculate the contributing area of each spring, ie the area that contributes groundwater recharge to each spring. It then draws a circle of the size of the contributing area around each spring and records the minimum and maximum surface elevation in this circle using digital elevation data. This can then be used to estimate the minimum and maximum infiltration temperature of the water that feeds the thermal springs. THis is useful for calculating the heat flow of each spring.\n",
    "\n",
    "**Input:** ``data/data/thermal_springs_alps_with_geospatial_data.csv`` -> spring dataset with the results of the geospatial data analysis obtained with the ``GIS_analysis_spring_data.ipynb`` notebook.\n",
    "\n",
    "**Output:** input filename with ``_with_HF_estimates.csv`` appended to it -> contains additional columns for the estimated recharge temperature, the contributing area and the spring heat flux "
   ]
  },
  {
   "cell_type": "code",
   "execution_count": 1,
   "metadata": {},
   "outputs": [],
   "source": [
    "import math\n",
    "import itertools\n",
    "import string\n",
    "import chardet\n",
    "\n",
    "import numpy as np\n",
    "import pandas as pd\n",
    "import geopandas as gp\n",
    "import scipy.stats\n",
    "\n",
    "import shapely.geometry as gm\n",
    "import matplotlib.pyplot as pl\n",
    "\n",
    "#import lib.pyGISlib as pyGISlib\n",
    "\n",
    "import lib.various_functions as vf"
   ]
  },
  {
   "cell_type": "markdown",
   "metadata": {},
   "source": [
    "## Parameters"
   ]
  },
  {
   "cell_type": "code",
   "execution_count": 2,
   "metadata": {},
   "outputs": [],
   "source": [
    "# define locations of spring and raster files. change this to the locations on your own machine or server:\n",
    "spring_data_file = 'data/thermal_springs_alps_with_geospatial_data.csv'\n",
    "\n",
    "# shapefile with outline of the Alps\n",
    "fnb = 'GIS_data/outline_alps_final.shp'\n",
    "\n",
    "# \n",
    "g = 9.81\n",
    "\n",
    "# specific heat capacity J kg-1 K-1\n",
    "c = 4181.3\n",
    "\n",
    "# fluid density\n",
    "rho = 1000.0\n",
    "\n",
    "#\n",
    "degree_symbol = chr(176)\n",
    "\n",
    "year = 365.25 * 24 * 3600.\n",
    "\n",
    "# average geothermal gradient\n",
    "avg_thermal_gradient = 26e-3\n",
    "\n",
    "# background heat flow density\n",
    "background_HF = 76e-3"
   ]
  },
  {
   "cell_type": "code",
   "execution_count": 3,
   "metadata": {},
   "outputs": [
    {
     "name": "stdout",
     "output_type": "stream",
     "text": [
      "used area of alps of 2.02e+05 km2\n"
     ]
    }
   ],
   "source": [
    "# area of the alps outline shapefile used in GIS_analysis_spring_data.ipynb (m2)\n",
    "#area_alps = 217759312854.528\n",
    "\n",
    "# read shapefile with bnd Alps:\n",
    "dgb = gp.read_file(fnb)\n",
    "\n",
    "# convert to UTM to calculate area. UTM 32N = epsg: 32632\n",
    "dgbu = dgb.to_crs({'init': 'epsg:32632'})\n",
    "area_alps = dgbu.geometry.area[0]\n",
    "\n",
    "print('used area of alps of %0.2e km2' % (area_alps / 1e6))"
   ]
  },
  {
   "cell_type": "markdown",
   "metadata": {},
   "source": [
    "## Load the thermal springs csv file"
   ]
  },
  {
   "cell_type": "code",
   "execution_count": 4,
   "metadata": {},
   "outputs": [
    {
     "name": "stdout",
     "output_type": "stream",
     "text": [
      "UTF-8-SIG\n"
     ]
    }
   ],
   "source": [
    "def find_encoding(fname):\n",
    "    r_file = open(fname, 'rb').read()\n",
    "    result = chardet.detect(r_file)\n",
    "    charenc = result['encoding']\n",
    "    return charenc\n",
    "\n",
    "\n",
    "encoding = find_encoding(spring_data_file)\n",
    "print(encoding)"
   ]
  },
  {
   "cell_type": "code",
   "execution_count": 5,
   "metadata": {},
   "outputs": [],
   "source": [
    "df = pd.read_csv(spring_data_file, encoding=encoding)\n",
    "#print('columns in csv file: ', df.columns.tolist())"
   ]
  },
  {
   "cell_type": "markdown",
   "metadata": {},
   "source": [
    "## Get rid of springs without coordinates and convert columns to numeric format:"
   ]
  },
  {
   "cell_type": "code",
   "execution_count": 6,
   "metadata": {},
   "outputs": [
    {
     "name": "stdout",
     "output_type": "stream",
     "text": [
      "394\n"
     ]
    }
   ],
   "source": [
    "# make all data numeric\n",
    "for col in df.columns:\n",
    "    if 'spring' not in col and 'type' not in col:\n",
    "        df[col] = pd.to_numeric(df[col], errors='coerce')\n",
    "    else:\n",
    "        df[col] = df[col]\n",
    "\n",
    "print(len(df))"
   ]
  },
  {
   "cell_type": "markdown",
   "metadata": {},
   "source": [
    "## Convert to geopandas file:\n",
    "(code found here https://gis.stackexchange.com/questions/114066/handling-kml-csv-with-geopandas-drivererror-unsupported-driver-ucsv)"
   ]
  },
  {
   "cell_type": "code",
   "execution_count": 7,
   "metadata": {},
   "outputs": [],
   "source": [
    "df['geometry'] = df.apply(lambda z: gm.Point(z['long'], z['lat']), axis=1)\n",
    "dg = gp.GeoDataFrame(df)"
   ]
  },
  {
   "cell_type": "code",
   "execution_count": 8,
   "metadata": {},
   "outputs": [],
   "source": [
    "## Some stats"
   ]
  },
  {
   "cell_type": "code",
   "execution_count": 9,
   "metadata": {},
   "outputs": [
    {
     "name": "stdout",
     "output_type": "stream",
     "text": [
      "temperature =  count    364.000000\n",
      "mean      22.286951\n",
      "std       14.662780\n",
      "min        3.400000\n",
      "25%       10.450000\n",
      "50%       18.050000\n",
      "75%       31.500000\n",
      "max       70.500000\n",
      "Name: temperature, dtype: float64\n",
      "discharge =  count    241.000000\n",
      "mean       0.011079\n",
      "std        0.033609\n",
      "min        0.000001\n",
      "25%        0.000400\n",
      "50%        0.001700\n",
      "75%        0.006450\n",
      "max        0.305000\n",
      "Name: flow_rate, dtype: float64\n",
      "Empty DataFrame\n",
      "Columns: [spring number, spring location, spring name, long, lat, type, well_depth, flow_rate_mean, flow_rate_min, flow_rate_max, temp_mean, temp_min, temp_max, reference, reference_DOI, reference_link, EC, pH, sample_temperature, TDS, TDS_min, TDS_max, Na, Ca, Mg, K, NH4, Cl, F, SO4, HCO3, CO3, NO3, Si, Li, SiO2, reference_hydrochemistry, doi_hydrochemistry, reference_link_hydrochemistry, delta_18O, delta_2H, 3H, delta_14C, delta_13C, 4He, 3He, reference_isotope_data, DOI_isotope_data, reference_link_isotope_data, temperature, flow_rate, log_flow_rate, log_temperature, geometry, recharge, lithology, gw_lvl_depth, gw_lvl_elev, surface_temp, elevation, contributing_area, log_contrib_area, geometry_ws, watershed_area, mean_recharge_ws, min_recharge_ws, max_recharge_ws, mean_gw_lvl_depth_ws, min_gw_lvl_depth_ws, max_gw_lvl_depth_ws, mean_gw_lvl_elev_ws, min_gw_lvl_elev_ws, max_gw_lvl_elev_ws, mean_surface_temp_ws, min_surface_temp_ws, max_surface_temp_ws, mean_elevation_ws, min_elevation_ws, max_elevation_ws, ws_relief]\n",
      "Index: []\n",
      "\n",
      "[0 rows x 80 columns]\n"
     ]
    }
   ],
   "source": [
    "print('temperature = ', df['temperature'].describe())\n",
    "print('discharge = ', df['flow_rate'].describe())\n",
    "\n",
    "ind = df['flow_rate'] == 0\n",
    "print(df.loc[ind])"
   ]
  },
  {
   "cell_type": "markdown",
   "metadata": {},
   "source": [
    "## Calculate the contributing area for each spring \n",
    "\n",
    "by dividing discharge (m3/sec) by recharge (m/s):"
   ]
  },
  {
   "cell_type": "code",
   "execution_count": 10,
   "metadata": {},
   "outputs": [
    {
     "data": {
      "text/plain": [
       "count    2.250000e+02\n",
       "mean     6.129354e+05\n",
       "std      1.871053e+06\n",
       "min      1.468059e+02\n",
       "25%      1.851829e+04\n",
       "50%      7.262816e+04\n",
       "75%      3.877195e+05\n",
       "max      1.590481e+07\n",
       "Name: contributing_area, dtype: float64"
      ]
     },
     "execution_count": 10,
     "metadata": {},
     "output_type": "execute_result"
    }
   ],
   "source": [
    "dg['contributing_area'] = dg['flow_rate_mean'] / (dg['recharge'] /year)\n",
    "dg['contributing_area'].describe()"
   ]
  },
  {
   "cell_type": "markdown",
   "metadata": {},
   "source": [
    "## Get the min., best and max  recharge temperature"
   ]
  },
  {
   "cell_type": "code",
   "execution_count": 11,
   "metadata": {},
   "outputs": [],
   "source": [
    "dg['recharge_temp_max'] = dg['surface_temp']\n",
    "dg['recharge_temp_min'] = dg['min_surface_temp_ws']\n",
    "#dg['recharge_temp_min'] = dg['min_surface_temp_ws']\n",
    "\n",
    "dg['recharge_temp_best'] = (dg['surface_temp'] + dg['min_surface_temp_ws']) / 2.0\n",
    "\n",
    "freezing = dg['recharge_temp_min'] < 0\n",
    "dg.loc[freezing, 'recharge_temp_min'] = 0.0\n",
    "\n",
    "freezing = dg['recharge_temp_best'] < 0\n",
    "dg.loc[freezing, 'recharge_temp_best'] = 0.0"
   ]
  },
  {
   "cell_type": "markdown",
   "metadata": {},
   "source": [
    "## Get the min., best and max recharge elevation"
   ]
  },
  {
   "cell_type": "code",
   "execution_count": 12,
   "metadata": {},
   "outputs": [],
   "source": [
    "dg['rch_elev_max'] = dg['max_elevation_ws']\n",
    "dg['rch_elev_min'] = dg['elevation']\n",
    "dg['rch_elev_best'] = (dg['max_elevation_ws'] + dg['elevation']) / 2.0"
   ]
  },
  {
   "cell_type": "markdown",
   "metadata": {},
   "source": [
    "## Calculate max fluid temp based on SiO2"
   ]
  },
  {
   "cell_type": "code",
   "execution_count": 13,
   "metadata": {},
   "outputs": [
    {
     "name": "stdout",
     "output_type": "stream",
     "text": [
      "count    133.000000\n",
      "mean      64.456307\n",
      "std       28.875454\n",
      "min       14.754632\n",
      "25%       40.378492\n",
      "50%       60.738275\n",
      "75%       88.143429\n",
      "max      129.538405\n",
      "Name: circulation_temp_best, dtype: float64 count    133.000000\n",
      "mean      52.316183\n",
      "std       29.621315\n",
      "min        0.925394\n",
      "25%       27.710826\n",
      "50%       48.551185\n",
      "75%       76.493728\n",
      "max      119.471787\n",
      "Name: circulation_temp_min, dtype: float64 count    133.000000\n",
      "mean      72.758243\n",
      "std       25.744020\n",
      "min       30.031940\n",
      "25%       51.418549\n",
      "50%       68.951655\n",
      "75%       92.809039\n",
      "max      134.184550\n",
      "Name: circulation_temp_max, dtype: float64\n"
     ]
    }
   ],
   "source": [
    "ind_ok = dg['SiO2'] > 5.0\n",
    "circ_temps = vf.SI_geothermometers(dg.loc[ind_ok, 'SiO2'].values)\n",
    "dg.loc[ind_ok, 'circulation_temp_best'] = circ_temps[0]\n",
    "dg.loc[ind_ok, 'circulation_temp_min'] = circ_temps[1]\n",
    "dg.loc[ind_ok, 'circulation_temp_max'] = circ_temps[2]\n",
    "\n",
    "print(dg['circulation_temp_best'].describe(), \n",
    "      dg['circulation_temp_min'].describe(), \n",
    "      dg['circulation_temp_max'].describe())"
   ]
  },
  {
   "cell_type": "markdown",
   "metadata": {},
   "source": [
    "## Calculate circulation depth"
   ]
  },
  {
   "cell_type": "code",
   "execution_count": 14,
   "metadata": {},
   "outputs": [
    {
     "name": "stdout",
     "output_type": "stream",
     "text": [
      "count     133.000000\n",
      "mean     2111.605133\n",
      "std      1126.479788\n",
      "min       308.030706\n",
      "25%      1170.562426\n",
      "50%      1901.699175\n",
      "75%      2996.819879\n",
      "max      4675.836105\n",
      "Name: circ_depth_best, dtype: float64 count     133.000000\n",
      "mean     1644.677254\n",
      "std      1155.040828\n",
      "min      -223.863045\n",
      "25%       685.076015\n",
      "50%      1432.991204\n",
      "75%      2551.144829\n",
      "max      4288.658486\n",
      "Name: circ_depth_min, dtype: float64 count     133.000000\n",
      "mean     2430.910359\n",
      "std      1007.351239\n",
      "min       895.619504\n",
      "25%      1594.724145\n",
      "50%      2247.058172\n",
      "75%      3163.441403\n",
      "max      4854.533973\n",
      "Name: circ_depth_max, dtype: float64\n"
     ]
    }
   ],
   "source": [
    "dg['circ_depth_best'] = (dg['circulation_temp_best'] - dg['surface_temp']) / avg_thermal_gradient\n",
    "dg['circ_depth_min'] = (dg['circulation_temp_min'] - dg['surface_temp']) / avg_thermal_gradient\n",
    "dg['circ_depth_max'] = (dg['circulation_temp_max'] - dg['surface_temp']) / avg_thermal_gradient\n",
    "\n",
    "print(dg['circ_depth_best'].describe(), \n",
    "      dg['circ_depth_min'].describe(), \n",
    "      dg['circ_depth_max'].describe())"
   ]
  },
  {
   "cell_type": "markdown",
   "metadata": {},
   "source": [
    "## Estimate h at max circulation depth"
   ]
  },
  {
   "cell_type": "code",
   "execution_count": 15,
   "metadata": {},
   "outputs": [],
   "source": [
    "dg['h_circ_depth'] = (dg['elevation'] + dg['max_gw_lvl_elev_ws']) / 2.0"
   ]
  },
  {
   "cell_type": "markdown",
   "metadata": {},
   "source": [
    "## Calculate the heat flux of each spring. \n",
    "\n",
    "This is the product of the difference between recharge temperature and discharge temperature of the spring, the discharge of the spring and the heat capacity and density of the spring water."
   ]
  },
  {
   "cell_type": "code",
   "execution_count": 16,
   "metadata": {},
   "outputs": [],
   "source": [
    "def calc_net_heat_flow(Q, h1, h2, T1, T2, rho=1000.0, g=9.81, c=4181.3):\n",
    "    \n",
    "    viscous_dissipation = rho * g * (h1 - h2) * Q\n",
    "    # kg m-3 m s-2 m = kg m-1 s-2 = W\n",
    "    \n",
    "    H_init = rho * c * (T2 - T1) * Q\n",
    "    # kg m-3 J K-1 kg-1 K m3 s-1 = J s-1 = W\n",
    "    \n",
    "    H = H_init - viscous_dissipation\n",
    "    \n",
    "    return H, H_init, viscous_dissipation\n",
    "\n",
    "\n",
    "minmaxs = ['min', 'best', 'max']\n",
    "\n",
    "for mm, mmi in zip(minmaxs, minmaxs[::-1]):\n",
    "\n",
    "    Ts = [dg['recharge_temp_%s' % mmi], dg['circulation_temp_%s' % mm], dg['temperature']]\n",
    "    hs = [dg['rch_elev_%s' % mmi], dg['h_circ_depth'], dg['elevation']]\n",
    "\n",
    "    H_labels = ['down', 'up']\n",
    "\n",
    "    for label, T1, T2, h1, h2 in zip(H_labels, Ts[:-1], Ts[1:], hs[:-1], hs[1:]):\n",
    "        H, H_init, Hv = calc_net_heat_flow(dg['flow_rate'], h1, h2, T1, T2, rho=rho, g=g, c=c)\n",
    "\n",
    "        dg['H_%s_%s' % (label, mm)] = H\n",
    "        #dg['Hi_%s_%s' % (label, mm)] = H_init\n",
    "        dg['Hv_%s_%s' % (label, mm)] = Hv\n",
    "        #dg['H_div_Hv_%s_%s' % (label, mm)] = H / Hv\n",
    "        \n",
    "        # remove <0 heat flux estimates\n",
    "        if label == 'down':\n",
    "            ind_lz = dg['H_%s_%s' % (label, mm)] < 0.0\n",
    "            dg.loc[ind_lz, 'H_%s_%s' % (label, mm)] = 0.0\n",
    "        elif label == 'up':\n",
    "            ind_lz = dg['H_%s_%s' % (label, mm)] > 0.0\n",
    "            dg.loc[ind_lz, 'H_%s_%s' % (label, mm)] = 0.0\n",
    "            \n",
    "            \n",
    "    H, Ht, Hv = calc_net_heat_flow(dg['flow_rate'], hs[0], hs[-1], Ts[0], Ts[-1], rho=rho, g=g, c=c)\n",
    "\n",
    "    label = 'net'\n",
    "    dg['H_%s_%s' % (label, mm)] = H\n",
    "    #dg['Ht_%s_%s' % (label, mm)] = Ht\n",
    "    dg['Hv_%s_%s' % (label, mm)] = Hv\n",
    "    #dg['Hv_div_H_%s_%s' % (label, mm)] = Hv / H\n",
    "    #dg['Hv_div_Ht_%s_%s' % (label, mm)] = Hv / Ht\n",
    "    \n",
    "    # remove <0 heat flux estimates\n",
    "    ind_lz = dg['H_%s_%s' % (label, mm)] < 0.0\n",
    "    dg.loc[ind_lz, 'H_%s_%s' % (label, mm)] = 0.0"
   ]
  },
  {
   "cell_type": "code",
   "execution_count": 17,
   "metadata": {},
   "outputs": [
    {
     "name": "stdout",
     "output_type": "stream",
     "text": [
      "spring density = 1 spring per x km =  512.2933983614238\n",
      "=radius of  12.769810230584172\n"
     ]
    }
   ],
   "source": [
    "print('spring density = 1 spring per x km = ', area_alps / 395 / 1e6)\n",
    "print('=radius of ', np.sqrt(area_alps / 395 / np.pi) / 1e3)"
   ]
  },
  {
   "cell_type": "markdown",
   "metadata": {},
   "source": [
    "## Estimate heat flow for springs without temperature or discharge data"
   ]
  },
  {
   "cell_type": "code",
   "execution_count": 18,
   "metadata": {},
   "outputs": [],
   "source": [
    "ind = dg['temperature'].notnull()\n",
    "nind = dg['temperature'].isnull()\n",
    "dg['temperature_est'] = dg['temperature']\n",
    "dg.loc[nind, 'temperature_est'] = dg['temperature'].dropna().mean()\n",
    "\n",
    "ind = dg['flow_rate'].notnull()\n",
    "nind = dg['flow_rate'].isnull()\n",
    "dg['flow_rate_est'] = dg['flow_rate']\n",
    "dg.loc[nind, 'flow_rate_est'] = dg['flow_rate'].dropna().mean()\n",
    "\n",
    "for mm, mmi in zip(minmaxs, minmaxs[::-1]):\n",
    "    #ind = dg['flow_rate'].notnull()\n",
    "    nind = dg['circulation_temp_%s' % mm].isnull()\n",
    "    dg['circulation_temp_est_%s' % mm] = dg['circulation_temp_%s' % mm]\n",
    "    dg.loc[nind, 'circulation_temp_est_%s' % mm] = dg['circulation_temp_%s' % mm].dropna().mean()\n",
    "\n",
    "minmaxs = ['min', 'best', 'max']\n",
    "\n",
    "for mm, mmi in zip(minmaxs, minmaxs[::-1]):\n",
    "\n",
    "    Ts = [dg['recharge_temp_%s' % mmi], dg['circulation_temp_est_%s' % mm], dg['temperature_est']]\n",
    "    hs = [dg['rch_elev_%s' % mmi], dg['h_circ_depth'], dg['elevation']]\n",
    "\n",
    "    H_labels = ['down', 'up']\n",
    "\n",
    "    for label, T1, T2, h1, h2 in zip(H_labels, Ts[:-1], Ts[1:], hs[:-1], hs[1:]):\n",
    "        H, H_init, Hv = calc_net_heat_flow(dg['flow_rate_est'], h1, h2, T1, T2, rho=rho, g=g, c=c)\n",
    "\n",
    "        dg['H_%s_est_%s' % (label, mm)] = H\n",
    "        #dg['Hi_%s_est_%s' % (label, mm)] = H_init\n",
    "        dg['Hv_%s_est_%s' % (label, mm)] = Hv\n",
    "        #dg['H_div_Hv_%s_est_%s' % (label, mm)] = H / Hv\n",
    "\n",
    "        # remove <0 heat flux estimates\n",
    "        if label == 'down':\n",
    "            ind_lz = dg['H_%s_est_%s' % (label, mm)] < 0.0\n",
    "            dg.loc[ind_lz, 'H_%s_est_%s' % (label, mm)] = 0.0\n",
    "        elif label == 'up':\n",
    "            ind_lz = dg['H_%s_est_%s' % (label, mm)] > 0.0\n",
    "            dg.loc[ind_lz, 'H_%s_est_%s' % (label, mm)] = 0.0\n",
    "            \n",
    "    H, Ht, Hv = calc_net_heat_flow(dg['flow_rate_est'], hs[0], hs[-1], Ts[0], \n",
    "                                   Ts[-1], rho=rho, g=g, c=c)\n",
    "\n",
    "    label = 'net'\n",
    "    dg['H_%s_est_%s' % (label, mm)] = H\n",
    "    #dg['Ht_%s_est_%s' % (label, mm)] = Ht\n",
    "    dg['Hv_%s_est_%s' % (label, mm)] = Hv\n",
    "    #dg['H_div_Hv_%s_est_%s' % (label, mm)] = H / Hv\n",
    "    #dg['Ht_div_Hv_%s_est_%s' % (label, mm)] = Ht / Hv\n",
    "    \n",
    "    # remove <0 heat flux estimates\n",
    "    ind_lz = dg['H_%s_est_%s' % (label, mm)] < 0.0\n",
    "    dg.loc[ind_lz, 'H_%s_est_%s' % (label, mm)] = 0.0"
   ]
  },
  {
   "cell_type": "code",
   "execution_count": 19,
   "metadata": {},
   "outputs": [
    {
     "data": {
      "text/plain": [
       "array([False,  True])"
      ]
     },
     "execution_count": 19,
     "metadata": {},
     "output_type": "execute_result"
    }
   ],
   "source": [
    "dg['temperature'].isnull().unique()"
   ]
  },
  {
   "cell_type": "markdown",
   "metadata": {},
   "source": [
    "## Calculate thermal footprint"
   ]
  },
  {
   "cell_type": "code",
   "execution_count": 20,
   "metadata": {},
   "outputs": [
    {
     "name": "stdout",
     "output_type": "stream",
     "text": [
      "\n",
      "thermal footprint (m2)net:\n",
      " count    2.260000e+02\n",
      "mean     6.503491e+06\n",
      "std      1.518527e+07\n",
      "min      0.000000e+00\n",
      "25%      1.253791e+05\n",
      "50%      9.421131e+05\n",
      "75%      4.480715e+06\n",
      "max      1.196846e+08\n",
      "Name: thermal_footprint_net_best, dtype: float64\n",
      "\n",
      "thermal footprint (m2)net:\n",
      " count    2.260000e+02\n",
      "mean     4.918801e+06\n",
      "std      1.208200e+07\n",
      "min      0.000000e+00\n",
      "25%      0.000000e+00\n",
      "50%      3.114644e+05\n",
      "75%      3.282303e+06\n",
      "max      9.290677e+07\n",
      "Name: thermal_footprint_net_min, dtype: float64\n",
      "\n",
      "thermal footprint (m2)net:\n",
      " count    2.260000e+02\n",
      "mean     8.795423e+06\n",
      "std      1.916466e+07\n",
      "min      1.467466e+03\n",
      "25%      2.350240e+05\n",
      "50%      1.493743e+06\n",
      "75%      6.983339e+06\n",
      "max      1.464624e+08\n",
      "Name: thermal_footprint_net_max, dtype: float64\n",
      "\n",
      "thermal radius (m)net:\n",
      " count     226.000000\n",
      "mean      932.696252\n",
      "std      1097.969662\n",
      "min         0.000000\n",
      "25%       199.773031\n",
      "50%       547.612122\n",
      "75%      1194.147747\n",
      "max      6172.259530\n",
      "Name: thermal_radius_net_best, dtype: float64\n",
      "\n",
      "thermal radius (m)net:\n",
      " count     226.000000\n",
      "mean      723.873132\n",
      "std      1022.907831\n",
      "min         0.000000\n",
      "25%         0.000000\n",
      "50%       314.845740\n",
      "75%      1021.892467\n",
      "max      5438.119340\n",
      "Name: thermal_radius_net_min, dtype: float64\n",
      "\n",
      "thermal radius (m)net:\n",
      " count     226.000000\n",
      "mean     1131.925583\n",
      "std      1234.974927\n",
      "min        21.612704\n",
      "25%       273.506430\n",
      "50%       689.545559\n",
      "75%      1490.017704\n",
      "max      6827.915748\n",
      "Name: thermal_radius_net_max, dtype: float64\n",
      "\n",
      "thermal footprint (m2)down:\n",
      " count    6.400000e+01\n",
      "mean     1.616764e+07\n",
      "std      3.026399e+07\n",
      "min      4.258344e+03\n",
      "25%      8.921609e+05\n",
      "50%      4.270324e+06\n",
      "75%      1.415903e+07\n",
      "max      1.564701e+08\n",
      "Name: thermal_footprint_down_best, dtype: float64\n",
      "\n",
      "thermal footprint (m2)down:\n",
      " count    6.400000e+01\n",
      "mean     1.130271e+07\n",
      "std      2.317540e+07\n",
      "min      0.000000e+00\n",
      "25%      2.662678e+05\n",
      "50%      2.065984e+06\n",
      "75%      1.079338e+07\n",
      "max      1.390554e+08\n",
      "Name: thermal_footprint_down_min, dtype: float64\n",
      "\n",
      "thermal footprint (m2)down:\n",
      " count    6.400000e+01\n",
      "mean     2.001941e+07\n",
      "std      3.645092e+07\n",
      "min      9.422174e+03\n",
      "25%      1.265897e+06\n",
      "50%      5.984892e+06\n",
      "75%      1.741284e+07\n",
      "max      1.802906e+08\n",
      "Name: thermal_footprint_down_max, dtype: float64\n",
      "\n",
      "thermal radius (m)down:\n",
      " count      64.000000\n",
      "mean     1656.295706\n",
      "std      1562.416813\n",
      "min        36.816748\n",
      "25%       532.849681\n",
      "50%      1165.791519\n",
      "75%      2122.953697\n",
      "max      7057.334591\n",
      "Name: thermal_radius_down_best, dtype: float64\n",
      "\n",
      "thermal radius (m)down:\n",
      " count      64.000000\n",
      "mean     1313.906045\n",
      "std      1378.810967\n",
      "min         0.000000\n",
      "25%       291.113345\n",
      "50%       810.918741\n",
      "75%      1853.541753\n",
      "max      6653.021869\n",
      "Name: thermal_radius_down_min, dtype: float64\n",
      "\n",
      "thermal radius (m)down:\n",
      " count      64.000000\n",
      "mean     1862.928324\n",
      "std      1716.955594\n",
      "min        54.764688\n",
      "25%       634.780658\n",
      "50%      1380.235010\n",
      "75%      2354.171657\n",
      "max      7575.504685\n",
      "Name: thermal_radius_down_max, dtype: float64\n",
      "\n",
      "thermal footprint (m2)up:\n",
      " count    6.200000e+01\n",
      "mean     1.100142e+07\n",
      "std      2.353341e+07\n",
      "min      0.000000e+00\n",
      "25%      6.268106e+05\n",
      "50%      2.743767e+06\n",
      "75%      9.658892e+06\n",
      "max      1.526526e+08\n",
      "Name: thermal_footprint_up_best, dtype: float64\n",
      "\n",
      "thermal footprint (m2)up:\n",
      " count    6.200000e+01\n",
      "mean     7.350581e+06\n",
      "std      1.955332e+07\n",
      "min      0.000000e+00\n",
      "25%      1.971589e+05\n",
      "50%      1.497922e+06\n",
      "75%      5.694203e+06\n",
      "max      1.399144e+08\n",
      "Name: thermal_footprint_up_min, dtype: float64\n",
      "\n",
      "thermal footprint (m2)up:\n",
      " count    6.200000e+01\n",
      "mean     1.380747e+07\n",
      "std      2.687402e+07\n",
      "min      7.954707e+03\n",
      "25%      1.433366e+06\n",
      "50%      3.952237e+06\n",
      "75%      1.101248e+07\n",
      "max      1.585318e+08\n",
      "Name: thermal_footprint_up_max, dtype: float64\n",
      "\n",
      "thermal radius (m)up:\n",
      " count      62.000000\n",
      "mean     1341.275250\n",
      "std      1315.582082\n",
      "min         0.000000\n",
      "25%       445.652639\n",
      "50%       934.216344\n",
      "75%      1753.201005\n",
      "max      6970.712191\n",
      "Name: thermal_radius_up_best, dtype: float64\n",
      "\n",
      "thermal radius (m)up:\n",
      " count      62.000000\n",
      "mean      994.279672\n",
      "std      1171.887764\n",
      "min         0.000000\n",
      "25%       250.110446\n",
      "50%       690.509302\n",
      "75%      1344.759464\n",
      "max      6673.539029\n",
      "Name: thermal_radius_up_min, dtype: float64\n",
      "\n",
      "thermal radius (m)up:\n",
      " count      62.000000\n",
      "mean     1545.395012\n",
      "std      1428.183092\n",
      "min        50.319599\n",
      "25%       675.420993\n",
      "50%      1121.489427\n",
      "75%      1872.244065\n",
      "max      7103.677652\n",
      "Name: thermal_radius_up_max, dtype: float64\n"
     ]
    }
   ],
   "source": [
    "H_labels = ['net', 'down', 'up']\n",
    "\n",
    "for label in H_labels:\n",
    "    for mm, mmi in zip(minmaxs, minmaxs[::-1]):\n",
    "        dg['thermal_footprint_%s_%s' % (label, mm)] = \\\n",
    "            np.abs(dg['H_%s_%s' % (label, mm)]) / background_HF\n",
    "        dg['thermal_radius_%s_%s' % (label, mm)] = \\\n",
    "            np.sqrt(np.abs(dg['thermal_footprint_%s_%s' % (label, mm)]) / np.pi)\n",
    "#\n",
    "for label in H_labels:\n",
    "    print('\\nthermal footprint (m2)%s:\\n' % label, dg['thermal_footprint_%s_best' % label].describe())\n",
    "    print('\\nthermal footprint (m2)%s:\\n' % label, dg['thermal_footprint_%s_min' % label].describe())\n",
    "    print('\\nthermal footprint (m2)%s:\\n' % label, dg['thermal_footprint_%s_max' % label].describe())\n",
    "    print('\\nthermal radius (m)%s:\\n' % label, dg['thermal_radius_%s_best' % label].describe())\n",
    "    print('\\nthermal radius (m)%s:\\n' % label, dg['thermal_radius_%s_min' % label].describe())\n",
    "    print('\\nthermal radius (m)%s:\\n' % label, dg['thermal_radius_%s_max' % label].describe())"
   ]
  },
  {
   "cell_type": "markdown",
   "metadata": {},
   "source": [
    "## Calculation example"
   ]
  },
  {
   "cell_type": "code",
   "execution_count": 21,
   "metadata": {},
   "outputs": [
    {
     "name": "stdout",
     "output_type": "stream",
     "text": [
      "Q, rch T, spring T, rch z, spring T for median spring:  0.0017 1.2166666801397998 21.15 651.0 651.0\n"
     ]
    }
   ],
   "source": [
    "median_spring_temp = Ts[-1].median()\n",
    "median_rch_temp = Ts[0].median()\n",
    "median_spring_elev = hs[-1].median()\n",
    "median_rch_elev = hs[0].median()\n",
    "median_Q = dg['flow_rate'].median()\n",
    "\n",
    "print('Q, rch T, spring T, rch z, spring T for median spring: ', \n",
    "      median_Q, median_rch_temp, median_spring_temp, median_rch_elev, median_spring_elev)"
   ]
  },
  {
   "cell_type": "markdown",
   "metadata": {},
   "source": [
    "## Fill in the heat flux of springs with no T or Q data\n",
    "\n",
    "not needed anymore, estimated values of T, Q, circ. temp in one of the code blocks above"
   ]
  },
  {
   "cell_type": "code",
   "execution_count": 22,
   "metadata": {},
   "outputs": [
    {
     "name": "stdout",
     "output_type": "stream",
     "text": [
      "net heat flux:\n",
      " count    2.260000e+02\n",
      "mean     4.942653e+05\n",
      "std      1.154080e+06\n",
      "min      0.000000e+00\n",
      "25%      9.528812e+03\n",
      "50%      7.160059e+04\n",
      "75%      3.405343e+05\n",
      "max      9.096029e+06\n",
      "Name: H_net_best, dtype: float64\n",
      "net heat flux:\n",
      " count    2.260000e+02\n",
      "mean     3.738289e+05\n",
      "std      9.182320e+05\n",
      "min      0.000000e+00\n",
      "25%      0.000000e+00\n",
      "50%      2.367129e+04\n",
      "75%      2.494550e+05\n",
      "max      7.060914e+06\n",
      "Name: H_net_min, dtype: float64\n",
      "net heat flux:\n",
      " count    2.260000e+02\n",
      "mean     6.684521e+05\n",
      "std      1.456514e+06\n",
      "min      1.115274e+02\n",
      "25%      1.786182e+04\n",
      "50%      1.135245e+05\n",
      "75%      5.307338e+05\n",
      "max      1.113114e+07\n",
      "Name: H_net_max, dtype: float64\n",
      "\n",
      "net heat flux estimated:\n",
      " count    3.940000e+02\n",
      "mean     5.818037e+05\n",
      "std      1.224492e+06\n",
      "min      0.000000e+00\n",
      "25%      1.500671e+04\n",
      "50%      1.622085e+05\n",
      "75%      7.206904e+05\n",
      "max      1.415105e+07\n",
      "Name: H_net_est_best, dtype: float64\n"
     ]
    }
   ],
   "source": [
    "print('net heat flux:\\n', dg['H_net_best'].describe())\n",
    "print('net heat flux:\\n', dg['H_net_min'].describe())\n",
    "print('net heat flux:\\n', dg['H_net_max'].describe())\n",
    "\n",
    "print('\\nnet heat flux estimated:\\n', dg['H_net_est_best'].describe())"
   ]
  },
  {
   "cell_type": "markdown",
   "metadata": {},
   "source": [
    "## Save the modified csv file with the additional heat flux data"
   ]
  },
  {
   "cell_type": "code",
   "execution_count": 23,
   "metadata": {},
   "outputs": [
    {
     "name": "stdout",
     "output_type": "stream",
     "text": [
      "saving modified csv file as  data/thermal_springs_alps_with_HF_estimates.csv\n",
      "done\n"
     ]
    }
   ],
   "source": [
    "spring_data_file_mod = spring_data_file.split('with')[0] + 'with_HF_estimates.csv'\n",
    "\n",
    "print('saving modified csv file as ', spring_data_file_mod)\n",
    "dg.to_csv(spring_data_file_mod, index=False, index_label=False, encoding=encoding)\n",
    "\n",
    "print('done')"
   ]
  },
  {
   "cell_type": "markdown",
   "metadata": {},
   "source": [
    "## Save clean version with the estimate HF values omitted"
   ]
  },
  {
   "cell_type": "code",
   "execution_count": 24,
   "metadata": {},
   "outputs": [],
   "source": [
    "spring_data_file_clean = spring_data_file.split('with')[0] + 'with_HF_estimates_clean.csv'\n",
    "\n",
    "cols_to_save = dg.columns\n",
    "\n",
    "cols_to_save = [c for c in cols_to_save if '_est' not in c]\n",
    "\n",
    "cols_to_save.remove('3He')\n",
    "cols_to_save.remove('4He')\n",
    "\n",
    "dc = dg[cols_to_save]\n",
    "\n",
    "chem_cols = ['TDS', 'TDS_min', 'TDS_max', 'Na', 'Ca', 'Mg', 'K', \n",
    "             'NH4', 'Cl', 'F', 'SO4', 'HCO3', 'CO3', 'NO3', \n",
    "             'Si', 'Li', 'SiO2']\n",
    "\n",
    "# rename columsn to add units\n",
    "for c in cols_to_save:\n",
    "    nc = c\n",
    "    if 'circ_depth' in c:\n",
    "        nc += '_(m)'\n",
    "    elif c[:2] == 'H_':\n",
    "        nc += '_(W)'\n",
    "    elif c[:3] == 'Hv_':\n",
    "        nc += '_(W)'\n",
    "    elif 'depth' in c:\n",
    "        nc += '_(m)'\n",
    "    elif 'temp' in c:\n",
    "        nc += '_(degr_C)'\n",
    "    elif 'footprint' in c:\n",
    "        nc += '_(m^2)'\n",
    "    elif 'radius' in c:\n",
    "        nc += '_(m)'\n",
    "    elif 'elev' in c:\n",
    "        nc += '_(m)'\n",
    "    elif 'relief' in c:\n",
    "        nc += '_(m)'\n",
    "    elif 'gw_lvl' in c:\n",
    "        nc += '_(m)'\n",
    "    elif 'area' in c:\n",
    "        nc += '_(m^2)'\n",
    "    elif 'flow_rate' in c:\n",
    "        nc += '_(m^3_s^-1)'\n",
    "    elif 'recharge' in c:\n",
    "        nc += '_(m_a^-1)'\n",
    "    elif c in chem_cols:\n",
    "        nc += '_(mg L^-1)'\n",
    "    elif c == '3H':\n",
    "        nc += '_(TU)'\n",
    "    elif 'delta_14C' in c:\n",
    "        nc += '_(pmc)'\n",
    "    elif 'delta' in c:\n",
    "        nc += '_(permille)'\n",
    "    elif 'EC' in c:\n",
    "        nc += '_(S_m^-1)'\n",
    "    elif 'long' in c:\n",
    "        nc = 'longitude'\n",
    "    elif 'lat' in c:\n",
    "        nc = 'latitude'\n",
    "    \n",
    "    dc = dc.rename(columns={c:nc})  \n",
    "\n",
    "# sort HF, thermal footprint and thermal radius cols\n",
    "c = dc.columns\n",
    "reorg_cols = ['H_net', 'H_down', 'H_up', 'Hv_net', 'thermal_footprint', 'thermal_radius']\n",
    "\n",
    "nc = c\n",
    "for ri in reorg_cols:\n",
    "    nc = [ci for ci in nc if ri not in ci]\n",
    "\n",
    "nc2 = nc\n",
    "mm = ['best', 'min', 'max']\n",
    "for r in reorg_cols:\n",
    "    for mi in mm:\n",
    "        c1 = [ci for ci in c if r in ci and mi in ci]\n",
    "        if len(c1) > 0:\n",
    "            nc2 += [c1[0]]\n",
    "        \n",
    "dc = dc[nc2]\n",
    "\n",
    "# save csv file\n",
    "#print('saving cleaned csv file with columns ', dc.columns.tolist())\n",
    "\n",
    "#print('saving modified csv file as ', spring_data_file_clean)\n",
    "dc.to_csv(spring_data_file_clean, index=False, index_label=False, encoding=encoding)\n",
    "\n"
   ]
  },
  {
   "cell_type": "markdown",
   "metadata": {},
   "source": [
    "## Summarize results"
   ]
  },
  {
   "cell_type": "markdown",
   "metadata": {},
   "source": [
    "### Create dataframe to store summary results"
   ]
  },
  {
   "cell_type": "code",
   "execution_count": 25,
   "metadata": {},
   "outputs": [],
   "source": [
    "#cols = ['n_springs_total', 'n_springs_with_HF_data', \n",
    "#        'spring_density', \n",
    "#        'total_HF_min', 'total_HF_max', \n",
    "#        'total_HF_min_est', 'total_HF_max_est', \n",
    "#        'circulation_temp_min', 'circulation_temp_max',\n",
    "#        'HF_up_min', 'HF_up_max', 'HF_down_min', 'HF_down_max']\n",
    "\n",
    "cols = []\n",
    "\n",
    "ind = ['Alps']\n",
    "\n",
    "dfr = pd.DataFrame(index=ind, columns=cols)\n",
    "#dfr.head()"
   ]
  },
  {
   "cell_type": "markdown",
   "metadata": {},
   "source": [
    "## Calculate total heat flux"
   ]
  },
  {
   "cell_type": "code",
   "execution_count": 26,
   "metadata": {},
   "outputs": [
    {
     "name": "stdout",
     "output_type": "stream",
     "text": [
      "\n",
      "total net heat flux of 226 of a total of 394 thermal springs in the Alps = 84 - 151 MW\n",
      "\twhich equals a heat flow density of 4.175e-01 - 7.466e-01 mW m-2\n",
      "\twhich equals 0.549 - 0.982 perc of the background heat flux\n",
      "\n",
      "total estimated net heat flux of 394 of a total of 394 thermal springs in the Alps = 172 - 295 MW\n",
      "\twhich equals a heat flow density of 8.485e-01 - 1.457e+00 mW m-2\n",
      "\twhich equals 1.117 - 1.917 perc of the background heat flux\n",
      "\n",
      "total down heat flux of 64 of a total of 394 thermal springs in the Alps = 55 - 97 MW\n",
      "\twhich equals a heat flow density of 2.717e-01 - 4.812e-01 mW m-2\n",
      "\twhich equals 0.357 - 0.633 perc of the background heat flux\n",
      "\n",
      "total estimated down heat flux of 394 of a total of 394 thermal springs in the Alps = 741 - 1266 MW\n",
      "\twhich equals a heat flow density of 3.661e+00 - 6.256e+00 mW m-2\n",
      "\twhich equals 4.817 - 8.231 perc of the background heat flux\n",
      "\n",
      "total up heat flux of 62 of a total of 394 thermal springs in the Alps = -35 - -65 MW\n",
      "\twhich equals a heat flow density of -1.712e-01 - -3.215e-01 mW m-2\n",
      "\twhich equals -0.225 - -0.423 perc of the background heat flux\n",
      "\n",
      "total estimated up heat flux of 394 of a total of 394 thermal springs in the Alps = -602 - -972 MW\n",
      "\twhich equals a heat flow density of -2.974e+00 - -4.803e+00 mW m-2\n",
      "\twhich equals -3.913 - -6.320 perc of the background heat flux\n"
     ]
    }
   ],
   "source": [
    "\n",
    "ix = 'Alps'\n",
    "H_labels = ['net', 'down', 'up']\n",
    "\n",
    "dfr.loc[ix, 'total_background_HF_MW'] = background_HF * area_alps / 1e6\n",
    "\n",
    "\n",
    "for mm in minmaxs:\n",
    "    for l in H_labels:\n",
    "        dfr.loc[ix, 'total_H_%s_%s_MW' % (l, mm)] = dg['H_%s_%s' % (l, mm)].sum() / 1e6\n",
    "        \n",
    "        dfr.loc[ix, 'total_H_%s_%s_mW_m-2' % (l, mm)] = \\\n",
    "            dfr.loc[ix, 'total_H_%s_%s_MW' % (l, mm)]  * 1e6 / area_alps * 1000.0\n",
    "        \n",
    "        dfr.loc[ix, 'total_H_%s_%s_as_perc_of_background_HF' % (l, mm)] = \\\n",
    "            dfr.loc[ix, 'total_H_%s_%s_MW' % (l, mm)] / dfr.loc[ix, 'total_background_HF_MW'] * 100.0\n",
    "        \n",
    "        dfr.loc[ix, 'total_H_%s_est_%s_MW' % (l, mm)] = dg['H_%s_est_%s' % (l, mm)].sum() / 1e6\n",
    "        \n",
    "        dfr.loc[ix, 'total_H_%s_est_%s_mW_m-2' % (l, mm)] = \\\n",
    "            dfr.loc[ix, 'total_H_%s_est_%s_MW' % (l, mm)]  * 1e6 / area_alps * 1000.0\n",
    "        \n",
    "        dfr.loc[ix, 'total_H_%s_est_%s_as_perc_of_background_HF' % (l, mm)] = \\\n",
    "            dfr.loc[ix, 'total_H_%s_est_%s_MW' % (l, mm)] / dfr.loc[ix, 'total_background_HF_MW'] * 100.0\n",
    "\n",
    "        dfr.loc[ix, 'n_springs_with_H_%s_data' % l] = len(dg['H_%s_%s' % (l, mm)].dropna())\n",
    "        \n",
    "        dfr.loc[ix, 'spring_density_%s_per_km2' % l] = \\\n",
    "            dfr.loc[ix, 'n_springs_with_H_%s_data' % l] / (area_alps / 1e6)\n",
    "\n",
    "for l in H_labels:\n",
    "    \n",
    "    print('\\ntotal %s heat flux of %i of a total of %i thermal springs in the Alps = %0.0f - %0.0f MW' \n",
    "          % (l, \n",
    "             dfr.loc[ix, 'n_springs_with_H_%s_data' % l] , \n",
    "             len(df),dfr.loc[ix, 'total_H_%s_min_MW' % l], \n",
    "             dfr.loc[ix, 'total_H_%s_max_MW' % l]))\n",
    "\n",
    "    print('\\twhich equals a heat flow density of %0.3e - %0.3e mW m-2' \n",
    "          % (dfr.loc[ix, 'total_H_%s_min_MW' % l] * 1e6 / area_alps * 1e3,\n",
    "             dfr.loc[ix, 'total_H_%s_max_MW' % l] * 1e6 / area_alps * 1e3))\n",
    "    \n",
    "    print('\\twhich equals %0.3f - %0.3f perc of the background heat flux' \n",
    "          % (dfr.loc[ix, 'total_H_%s_min_as_perc_of_background_HF' % l],\n",
    "             dfr.loc[ix, 'total_H_%s_max_as_perc_of_background_HF' % l]))\n",
    "\n",
    "    print('\\ntotal estimated %s heat flux of %i of a total of %i thermal springs in the Alps = %0.0f - %0.0f MW' \n",
    "          % (l, \n",
    "             len(dg) , \n",
    "             len(df),\n",
    "             dfr.loc[ix, 'total_H_%s_est_min_MW' % l], \n",
    "             dfr.loc[ix, 'total_H_%s_est_max_MW' % l]))\n",
    "    \n",
    "    print('\\twhich equals a heat flow density of %0.3e - %0.3e mW m-2' \n",
    "          % (dfr.loc[ix, 'total_H_%s_est_min_MW' % l] * 1e6 / area_alps * 1e3,\n",
    "             dfr.loc[ix, 'total_H_%s_est_max_MW' % l] * 1e6 / area_alps * 1e3))\n",
    "    \n",
    "    print('\\twhich equals %0.3f - %0.3f perc of the background heat flux' \n",
    "          % (dfr.loc[ix, 'total_H_%s_est_min_as_perc_of_background_HF' % l],\n",
    "             dfr.loc[ix, 'total_H_%s_est_max_as_perc_of_background_HF' % l]))"
   ]
  },
  {
   "cell_type": "code",
   "execution_count": null,
   "metadata": {},
   "outputs": [],
   "source": []
  },
  {
   "cell_type": "markdown",
   "metadata": {},
   "source": [
    "## Compare thermal springs flux to total groundwater flux"
   ]
  },
  {
   "cell_type": "code",
   "execution_count": 27,
   "metadata": {},
   "outputs": [
    {
     "name": "stdout",
     "output_type": "stream",
     "text": [
      "total recharge = 1.03e+02 km3 a-1\n",
      "contribution to groundwater budget of n=241 springs = 2.67e+00 m3 s-1 = 4.16e-01 mm a-1 = 8.17e-02 percent of total recharge in Alps\n",
      "estimated flow rate for springs with no flow rate data is equal to the mean flow rate of 1.11e-02\n",
      "mean recharge rate  m / yr = 5.09e-01\n",
      "total recharge rate = 1.03e+02 km3 / year\n",
      "estimated total spring water flux = 4.36e+00 m3 s-1 = 1.38e-01 km3/yr = 6.81e-01 mm\n",
      "estimated contribution to meteoric groundwater budget of all n=394 springs = 1.34e-01 percent \n"
     ]
    }
   ],
   "source": [
    "total_rch = area_alps * dg['recharge'].mean()\n",
    "\n",
    "year = 365.25 * 24 * 3600.\n",
    "print('total recharge = %0.2e km3 a-1' % (total_rch / 1e9))\n",
    "\n",
    "print('contribution to groundwater budget of n=%i springs = %0.2e m3 s-1 = %0.2e mm a-1 = %0.2e percent of total recharge in Alps' \n",
    "      % (dg['flow_rate'].notnull().sum(), \n",
    "         dg['flow_rate'].sum(),\n",
    "         dg['flow_rate'].sum() * year / area_alps * 1e3,\n",
    "         dg['flow_rate'].sum() * year / total_rch * 100))\n",
    "\n",
    "dg['flow_rate_est'] = dg['flow_rate']\n",
    "ok = dg['flow_rate'].notnull()\n",
    "nok = dg['flow_rate'].isnull()\n",
    "dfr.loc[ix, 'mean_flow_rate'] = dg.loc[ok, 'flow_rate'].mean()\n",
    "dg.loc[nok, 'flow_rate_est'] = dfr.loc[ix, 'mean_flow_rate']\n",
    "\n",
    "dfr.loc[ix, 'n_springs'] = dg['flow_rate_est'].notnull().sum()\n",
    "dfr.loc[ix, 'area_km2'] = area_alps / 1e6\n",
    "dfr.loc[ix, 'median_temperature'] = np.median(dg['temperature'].dropna())\n",
    "dfr.loc[ix, 'total_spring_flux_km3_yr-1'] = (dg['flow_rate'].sum() * year / 1e9)\n",
    "dfr.loc[ix, 'total_spring_flux_est_km3_yr-1'] = (dg['flow_rate_est'].sum() * year / 1e9)\n",
    "dfr.loc[ix, 'total_recharge_km3_yr-1'] =  total_rch / 1e9\n",
    "dfr.loc[ix, 'percentage_of_total_meteoric_gw']  = dg['flow_rate_est'].sum() * year / total_rch * 100.0\n",
    "\n",
    "print('estimated flow rate for springs with no flow rate data is equal to the mean flow rate of %0.2e' % dfr.loc[ix, 'mean_flow_rate'] )\n",
    "print('mean recharge rate  m / yr = %0.2e' % dg['recharge'].mean())\n",
    "print('total recharge rate = %0.2e km3 / year' % (total_rch/1e9))\n",
    "print('estimated total spring water flux = %0.2e m3 s-1 = %0.2e km3/yr = %0.2e mm' % (dg['flow_rate_est'].sum(), \n",
    "                                                                                      dfr.loc[ix, 'total_spring_flux_est_km3_yr-1'],\n",
    "                                                                                      dg['flow_rate_est'].sum() * year / area_alps * 1e3))\n",
    "print('estimated contribution to meteoric groundwater budget of all n=%i springs = %0.2e percent ' \n",
    "      % (dg['flow_rate_est'].notnull().sum(), dfr.loc[ix, 'percentage_of_total_meteoric_gw']))"
   ]
  },
  {
   "cell_type": "markdown",
   "metadata": {},
   "source": [
    "## some more stats"
   ]
  },
  {
   "cell_type": "code",
   "execution_count": 28,
   "metadata": {},
   "outputs": [
    {
     "name": "stdout",
     "output_type": "stream",
     "text": [
      "mean discharge for 241 springs = 1.11e-02 m3/sec\n",
      "mean net heat flux = 4.94e+05 (3.74e+05 - 6.68e+05) W\n",
      "mean thermal footprint (km2) = 6.50e+06 (4.92e+06 - 8.80e+06)\n",
      "mean thermal radius (m) = 9.33e+02 (7.24e+02 - 1.13e+03)\n"
     ]
    }
   ],
   "source": [
    "print('mean discharge for %i springs = %0.2e m3/sec' % (dg['flow_rate'].notnull().sum(),\n",
    "                                                        dg['flow_rate'].mean()))\n",
    "\n",
    "print('mean net heat flux = %0.2e (%0.2e - %0.2e) W' % (dg['H_net_best'].mean(),\n",
    "                                                       dg['H_net_min'].mean(),\n",
    "                                                       dg['H_net_max'].mean()))\n",
    "\n",
    "print('mean thermal footprint (km2) = %0.2e (%0.2e - %0.2e)' \n",
    "      % (df['thermal_footprint_net_best'].mean(), \n",
    "         df['thermal_footprint_net_min'].mean(), \n",
    "         df['thermal_footprint_net_max'].mean()))\n",
    "print('mean thermal radius (m) = %0.2e (%0.2e - %0.2e)' \n",
    "      %(df['thermal_radius_net_best'].mean(), \n",
    "        df['thermal_radius_net_min'].mean(), \n",
    "        df['thermal_radius_net_max'].mean()))"
   ]
  },
  {
   "cell_type": "markdown",
   "metadata": {},
   "source": [
    "## Save summary csv file"
   ]
  },
  {
   "cell_type": "code",
   "execution_count": 29,
   "metadata": {},
   "outputs": [
    {
     "name": "stdout",
     "output_type": "stream",
     "text": [
      "saving summary data file as data/summary_thermal_springs_data.csv\n"
     ]
    }
   ],
   "source": [
    "summary_file = 'data/summary_thermal_springs_data.csv'\n",
    "print('saving summary data file as %s' % summary_file)\n",
    "dfr.to_csv(summary_file, float_format='%.2f', index_label='dataset')"
   ]
  },
  {
   "cell_type": "code",
   "execution_count": null,
   "metadata": {},
   "outputs": [],
   "source": []
  }
 ],
 "metadata": {
  "kernelspec": {
   "display_name": "Python 3",
   "language": "python",
   "name": "python3"
  },
  "language_info": {
   "codemirror_mode": {
    "name": "ipython",
    "version": 3
   },
   "file_extension": ".py",
   "mimetype": "text/x-python",
   "name": "python",
   "nbconvert_exporter": "python",
   "pygments_lexer": "ipython3",
   "version": "3.7.0"
  }
 },
 "nbformat": 4,
 "nbformat_minor": 4
}
