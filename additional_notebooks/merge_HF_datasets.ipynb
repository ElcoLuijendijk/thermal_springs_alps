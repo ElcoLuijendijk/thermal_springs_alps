{
 "cells": [
  {
   "cell_type": "code",
   "execution_count": null,
   "metadata": {},
   "outputs": [],
   "source": []
  },
  {
   "cell_type": "code",
   "execution_count": 1,
   "metadata": {},
   "outputs": [],
   "source": [
    "import numpy as np\n",
    "import pandas as pd\n",
    "import geopandas as gp"
   ]
  },
  {
   "cell_type": "code",
   "execution_count": 2,
   "metadata": {},
   "outputs": [],
   "source": [
    "fn1 = '../data/SMU_heat_flow_database_full.csv'\n",
    "fn2 = '../GIS_data/global_hf_NA.csv'"
   ]
  },
  {
   "cell_type": "code",
   "execution_count": null,
   "metadata": {},
   "outputs": [],
   "source": []
  },
  {
   "cell_type": "code",
   "execution_count": 3,
   "metadata": {},
   "outputs": [],
   "source": [
    "df1 = pd.read_csv(fn1)\n",
    "df2 = pd.read_csv(fn2)"
   ]
  },
  {
   "cell_type": "code",
   "execution_count": 4,
   "metadata": {},
   "outputs": [
    {
     "data": {
      "text/plain": [
       "['id',\n",
       " 'uuid',\n",
       " 'name',\n",
       " 'site_name',\n",
       " 'other_location_name',\n",
       " 'api',\n",
       " 'latitude',\n",
       " 'longitude',\n",
       " 'state_id',\n",
       " 'state',\n",
       " 'state_code',\n",
       " 'county',\n",
       " 'county_id',\n",
       " 'bht',\n",
       " 'max_temperature',\n",
       " 'depth',\n",
       " 'shape',\n",
       " 'datasource',\n",
       " 'thermal_conductivity',\n",
       " 'heat_flow',\n",
       " 'precision_log_source_id']"
      ]
     },
     "execution_count": 4,
     "metadata": {},
     "output_type": "execute_result"
    }
   ],
   "source": [
    "df1.columns.tolist()"
   ]
  },
  {
   "cell_type": "code",
   "execution_count": 8,
   "metadata": {},
   "outputs": [
    {
     "data": {
      "text/html": [
       "<div>\n",
       "<style scoped>\n",
       "    .dataframe tbody tr th:only-of-type {\n",
       "        vertical-align: middle;\n",
       "    }\n",
       "\n",
       "    .dataframe tbody tr th {\n",
       "        vertical-align: top;\n",
       "    }\n",
       "\n",
       "    .dataframe thead th {\n",
       "        text-align: right;\n",
       "    }\n",
       "</style>\n",
       "<table border=\"1\" class=\"dataframe\">\n",
       "  <thead>\n",
       "    <tr style=\"text-align: right;\">\n",
       "      <th></th>\n",
       "      <th>OBJECTID</th>\n",
       "      <th>Data_Numbe</th>\n",
       "      <th>Codes</th>\n",
       "      <th>Site_Name</th>\n",
       "      <th>Latitude</th>\n",
       "      <th>Longitude</th>\n",
       "      <th>Elevation</th>\n",
       "      <th>minD</th>\n",
       "      <th>maxD</th>\n",
       "      <th>No__Temps</th>\n",
       "      <th>...</th>\n",
       "      <th>No__Cond_</th>\n",
       "      <th>Conductivi</th>\n",
       "      <th>No_Heat_Pr</th>\n",
       "      <th>Heat_Prod_</th>\n",
       "      <th>Heat_Flow</th>\n",
       "      <th>No__sites</th>\n",
       "      <th>Year_of_Pu</th>\n",
       "      <th>Reference</th>\n",
       "      <th>Comments</th>\n",
       "      <th>Comments2</th>\n",
       "    </tr>\n",
       "  </thead>\n",
       "  <tbody>\n",
       "    <tr>\n",
       "      <th>0</th>\n",
       "      <td>6</td>\n",
       "      <td>1</td>\n",
       "      <td>&lt;null&gt;</td>\n",
       "      <td>SMU-KG2</td>\n",
       "      <td>44.4637</td>\n",
       "      <td>-111.7322</td>\n",
       "      <td>1987.0</td>\n",
       "      <td>28.0</td>\n",
       "      <td>66.0</td>\n",
       "      <td>0.0</td>\n",
       "      <td>...</td>\n",
       "      <td>2.0</td>\n",
       "      <td>1.88</td>\n",
       "      <td>&lt;null&gt;</td>\n",
       "      <td>&lt;null&gt;</td>\n",
       "      <td>0.0</td>\n",
       "      <td>&lt;null&gt;</td>\n",
       "      <td>1983.0</td>\n",
       "      <td>Brott_etal1983</td>\n",
       "      <td>Williams_etal1995</td>\n",
       "      <td>&lt;null&gt;</td>\n",
       "    </tr>\n",
       "    <tr>\n",
       "      <th>1</th>\n",
       "      <td>7</td>\n",
       "      <td>2</td>\n",
       "      <td>&lt;null&gt;</td>\n",
       "      <td>SMU-SP3</td>\n",
       "      <td>44.3278</td>\n",
       "      <td>-112.2128</td>\n",
       "      <td>1795.0</td>\n",
       "      <td>10.0</td>\n",
       "      <td>99.0</td>\n",
       "      <td>0.0</td>\n",
       "      <td>...</td>\n",
       "      <td>5.0</td>\n",
       "      <td>2.06</td>\n",
       "      <td>&lt;null&gt;</td>\n",
       "      <td>&lt;null&gt;</td>\n",
       "      <td>0.0</td>\n",
       "      <td>&lt;null&gt;</td>\n",
       "      <td>1983.0</td>\n",
       "      <td>Brott_etal1983</td>\n",
       "      <td>Brott_etal1983</td>\n",
       "      <td>&lt;null&gt;</td>\n",
       "    </tr>\n",
       "    <tr>\n",
       "      <th>2</th>\n",
       "      <td>8</td>\n",
       "      <td>3</td>\n",
       "      <td>&lt;null&gt;</td>\n",
       "      <td>SMU-SP2</td>\n",
       "      <td>44.3678</td>\n",
       "      <td>-112.1432</td>\n",
       "      <td>1859.0</td>\n",
       "      <td>25.0</td>\n",
       "      <td>70.0</td>\n",
       "      <td>0.0</td>\n",
       "      <td>...</td>\n",
       "      <td>5.0</td>\n",
       "      <td>1.67</td>\n",
       "      <td>&lt;null&gt;</td>\n",
       "      <td>&lt;null&gt;</td>\n",
       "      <td>0.0</td>\n",
       "      <td>&lt;null&gt;</td>\n",
       "      <td>1983.0</td>\n",
       "      <td>Brott_etal1983</td>\n",
       "      <td>Brott_etal1983</td>\n",
       "      <td>&lt;null&gt;</td>\n",
       "    </tr>\n",
       "    <tr>\n",
       "      <th>3</th>\n",
       "      <td>9</td>\n",
       "      <td>4</td>\n",
       "      <td>&lt;null&gt;</td>\n",
       "      <td>SMU-KG1</td>\n",
       "      <td>44.4023</td>\n",
       "      <td>-111.9407</td>\n",
       "      <td>1945.0</td>\n",
       "      <td>25.0</td>\n",
       "      <td>90.0</td>\n",
       "      <td>0.0</td>\n",
       "      <td>...</td>\n",
       "      <td>7.0</td>\n",
       "      <td>2.22</td>\n",
       "      <td>&lt;null&gt;</td>\n",
       "      <td>&lt;null&gt;</td>\n",
       "      <td>0.0</td>\n",
       "      <td>&lt;null&gt;</td>\n",
       "      <td>1983.0</td>\n",
       "      <td>Brott_etal1983</td>\n",
       "      <td>Brott_etal1983</td>\n",
       "      <td>&lt;null&gt;</td>\n",
       "    </tr>\n",
       "    <tr>\n",
       "      <th>4</th>\n",
       "      <td>10</td>\n",
       "      <td>5</td>\n",
       "      <td>&lt;null&gt;</td>\n",
       "      <td>SMU-LHS2</td>\n",
       "      <td>44.2310</td>\n",
       "      <td>-112.6583</td>\n",
       "      <td>1868.0</td>\n",
       "      <td>13.0</td>\n",
       "      <td>143.0</td>\n",
       "      <td>0.0</td>\n",
       "      <td>...</td>\n",
       "      <td>10.0</td>\n",
       "      <td>2.22</td>\n",
       "      <td>&lt;null&gt;</td>\n",
       "      <td>&lt;null&gt;</td>\n",
       "      <td>0.0</td>\n",
       "      <td>&lt;null&gt;</td>\n",
       "      <td>1983.0</td>\n",
       "      <td>Brott_etal1983</td>\n",
       "      <td>Brott_etal1983</td>\n",
       "      <td>&lt;null&gt;</td>\n",
       "    </tr>\n",
       "  </tbody>\n",
       "</table>\n",
       "<p>5 rows × 21 columns</p>\n",
       "</div>"
      ],
      "text/plain": [
       "   OBJECTID Data_Numbe   Codes Site_Name  Latitude  Longitude  Elevation  \\\n",
       "0         6          1  <null>   SMU-KG2   44.4637  -111.7322     1987.0   \n",
       "1         7          2  <null>   SMU-SP3   44.3278  -112.2128     1795.0   \n",
       "2         8          3  <null>   SMU-SP2   44.3678  -112.1432     1859.0   \n",
       "3         9          4  <null>   SMU-KG1   44.4023  -111.9407     1945.0   \n",
       "4        10          5  <null>  SMU-LHS2   44.2310  -112.6583     1868.0   \n",
       "\n",
       "   minD   maxD  No__Temps  ...  No__Cond_  Conductivi  No_Heat_Pr Heat_Prod_  \\\n",
       "0  28.0   66.0        0.0  ...        2.0        1.88      <null>     <null>   \n",
       "1  10.0   99.0        0.0  ...        5.0        2.06      <null>     <null>   \n",
       "2  25.0   70.0        0.0  ...        5.0        1.67      <null>     <null>   \n",
       "3  25.0   90.0        0.0  ...        7.0        2.22      <null>     <null>   \n",
       "4  13.0  143.0        0.0  ...       10.0        2.22      <null>     <null>   \n",
       "\n",
       "  Heat_Flow  No__sites Year_of_Pu       Reference           Comments Comments2  \n",
       "0       0.0     <null>     1983.0  Brott_etal1983  Williams_etal1995    <null>  \n",
       "1       0.0     <null>     1983.0  Brott_etal1983     Brott_etal1983    <null>  \n",
       "2       0.0     <null>     1983.0  Brott_etal1983     Brott_etal1983    <null>  \n",
       "3       0.0     <null>     1983.0  Brott_etal1983     Brott_etal1983    <null>  \n",
       "4       0.0     <null>     1983.0  Brott_etal1983     Brott_etal1983    <null>  \n",
       "\n",
       "[5 rows x 21 columns]"
      ]
     },
     "execution_count": 8,
     "metadata": {},
     "output_type": "execute_result"
    }
   ],
   "source": [
    "df2.head()"
   ]
  },
  {
   "cell_type": "code",
   "execution_count": 9,
   "metadata": {},
   "outputs": [
    {
     "name": "stdout",
     "output_type": "stream",
     "text": [
      "number of HF data = 984751\n",
      "number of HF data = 84357\n",
      "number of HF data = 61753\n"
     ]
    }
   ],
   "source": [
    "df2['longitude'] = df2['Longitude']\n",
    "df2['latitude'] = df2['Latitude']\n",
    "df2['heat_flow'] = df2['Heat_Flow']\n",
    "\n",
    "cols = ['longitude', 'latitude', 'heat_flow']\n",
    "df1 = df1[cols]\n",
    "df2 = df2[cols]\n",
    "\n",
    "dm = pd.concat([df1, df2])\n",
    "print('number of HF data = %i' % (len(dm)))\n",
    "\n",
    "dm.loc[dm['heat_flow'] <= 0.0, 'heat_flow' ] = np.nan\n",
    "#dm.loc[dm['heat_flow'] < -99999.0, 'heat_flow' ] = np.nan\n",
    "\n",
    "dm2 = dm.dropna(subset=cols)\n",
    "\n",
    "print('number of HF data = %i' % (len(dm2)))\n",
    "\n",
    "dm3 = dm2.drop_duplicates()\n",
    "print('number of HF data = %i' % (len(dm3)))\n"
   ]
  },
  {
   "cell_type": "code",
   "execution_count": 10,
   "metadata": {},
   "outputs": [],
   "source": [
    "gd = gp.GeoDataFrame(dm3, geometry=gp.points_from_xy(dm3['longitude'], dm3['latitude']))\n",
    "#gd2 = gp.GeoDataFrame(df2, geometry=gp.points_from_xy(df2['longitude'], df2['latitude']))"
   ]
  },
  {
   "cell_type": "code",
   "execution_count": null,
   "metadata": {},
   "outputs": [],
   "source": [
    "\n"
   ]
  },
  {
   "cell_type": "code",
   "execution_count": 11,
   "metadata": {},
   "outputs": [],
   "source": [
    "gd.to_file('../GIS_data/heat_flow_NA_merged.shp')\n",
    "gd.to_csv('../data/heat_flow_NA_merged.csv')"
   ]
  },
  {
   "cell_type": "code",
   "execution_count": null,
   "metadata": {},
   "outputs": [],
   "source": []
  },
  {
   "cell_type": "code",
   "execution_count": 12,
   "metadata": {},
   "outputs": [],
   "source": [
    "gd_filtered = gd.iloc[::10]"
   ]
  },
  {
   "cell_type": "code",
   "execution_count": 13,
   "metadata": {},
   "outputs": [],
   "source": [
    "gd_filtered.to_file('../GIS_data/heat_flow_NA_selected.shp')"
   ]
  },
  {
   "cell_type": "code",
   "execution_count": null,
   "metadata": {},
   "outputs": [],
   "source": []
  }
 ],
 "metadata": {
  "kernelspec": {
   "display_name": "Python 3",
   "language": "python",
   "name": "python3"
  },
  "language_info": {
   "codemirror_mode": {
    "name": "ipython",
    "version": 3
   },
   "file_extension": ".py",
   "mimetype": "text/x-python",
   "name": "python",
   "nbconvert_exporter": "python",
   "pygments_lexer": "ipython3",
   "version": "3.7.0"
  }
 },
 "nbformat": 4,
 "nbformat_minor": 4
}
